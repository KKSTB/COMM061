{
 "cells": [
  {
   "cell_type": "markdown",
   "id": "a9039522",
   "metadata": {},
   "source": [
    "# **COMM061 Postgraduate Group 11**"
   ]
  },
  {
   "cell_type": "markdown",
   "id": "d4a1f17e",
   "metadata": {},
   "source": [
    "Members:<br>\n",
    "- 6889747 Yi Zeng\n",
    "- 6794870 Haodong Li\n",
    "- 6893621 Terry Szeto\n",
    "- 6896458 Olushola Olateju"
   ]
  },
  {
   "cell_type": "markdown",
   "id": "7a29e7a5",
   "metadata": {},
   "source": [
    "# Analysis Of The Dataset"
   ]
  },
  {
   "cell_type": "code",
   "execution_count": null,
   "id": "8e032ffd",
   "metadata": {},
   "outputs": [],
   "source": []
  },
  {
   "cell_type": "markdown",
   "id": "47c8643e",
   "metadata": {},
   "source": [
    "# Experiment 1\n",
    "Running the notebook individually is recommended"
   ]
  },
  {
   "cell_type": "code",
   "execution_count": null,
   "id": "b399444d",
   "metadata": {},
   "outputs": [],
   "source": [
    "%run ./word2vec&glove_LSTM.ipynb"
   ]
  },
  {
   "cell_type": "markdown",
   "id": "6fafac72",
   "metadata": {},
   "source": [
    "# Experiment 2\n",
    "Running the notebook individually is recommended"
   ]
  },
  {
   "cell_type": "code",
   "execution_count": null,
   "id": "020402ee",
   "metadata": {},
   "outputs": [],
   "source": []
  },
  {
   "cell_type": "markdown",
   "id": "d4cb820d",
   "metadata": {},
   "source": [
    "# Experiment 3\n",
    "Running the notebook individually is recommended"
   ]
  },
  {
   "cell_type": "code",
   "execution_count": null,
   "id": "ee890dd8",
   "metadata": {},
   "outputs": [],
   "source": [
    "%run ./experiment3.ipynb"
   ]
  },
  {
   "cell_type": "markdown",
   "id": "6ff07275",
   "metadata": {},
   "source": [
    "# Hosting The Model\n",
    "Running the python code directly is recommended since there may be command line input to select local model"
   ]
  },
  {
   "cell_type": "code",
   "execution_count": null,
   "id": "f52d3589",
   "metadata": {},
   "outputs": [
    {
     "name": "stdout",
     "output_type": "stream",
     "text": [
      "Cant find any local model. Please put local models into ./models/. E.g.: ./models/bert-NER/*.*\n",
      "Using published huggingface model\n",
      " * Serving Flask app 'token_classification'\n",
      " * Debug mode: off\n",
      "\u001b[31m\u001b[1mWARNING: This is a development server. Do not use it in a production deployment. Use a production WSGI server instead.\u001b[0m\n",
      " * Running on http://127.0.0.1:5000\n",
      "\u001b[33mPress CTRL+C to quit\u001b[0m\n",
      "127.0.0.1 - - [14/May/2025 17:11:46] \"GET / HTTP/1.1\" 200 -\n",
      "Map: 100%|████████████████████████████████| 1/1 [00:00<00:00, 167.18 examples/s]\n",
      "100%|███████████████████████████████████████████| 1/1 [00:00<00:00, 2987.40it/s]\n",
      "Generating train split: 26 examples [00:00, 2678.09 examples/s]\n",
      "Creating json from Arrow format: 100%|███████████| 1/1 [00:00<00:00, 253.65ba/s]\n",
      "127.0.0.1 - - [14/May/2025 17:11:50] \"POST / HTTP/1.1\" 200 -\n",
      "^C\n"
     ]
    }
   ],
   "source": [
    "!python host_model.py"
   ]
  }
 ],
 "metadata": {
  "kernelspec": {
   "display_name": "base",
   "language": "python",
   "name": "python3"
  },
  "language_info": {
   "codemirror_mode": {
    "name": "ipython",
    "version": 3
   },
   "file_extension": ".py",
   "mimetype": "text/x-python",
   "name": "python",
   "nbconvert_exporter": "python",
   "pygments_lexer": "ipython3",
   "version": "3.12.7"
  }
 },
 "nbformat": 4,
 "nbformat_minor": 5
}

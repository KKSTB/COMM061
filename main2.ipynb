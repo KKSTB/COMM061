{
 "cells": [
  {
   "cell_type": "markdown",
   "id": "f43aa43d-55a2-4961-abf3-48f555b1c78f",
   "metadata": {},
   "source": [
    "# **COMM061 Postgraduate Group 11**"
   ]
  },
  {
   "cell_type": "markdown",
   "id": "ca0e9070-8cc8-4947-9134-b3fc37a70168",
   "metadata": {},
   "source": [
    "Members:<br>\n",
    "- 6889747 Yi Zeng\n",
    "- 6794870 Haodong Li\n",
    "- 6893621 Terry Szeto\n",
    "- 6896458 Olushola Olateju"
   ]
  },
  {
   "cell_type": "markdown",
   "id": "4d1f4ccf-d84a-43c6-833d-7ae37ce59dd5",
   "metadata": {},
   "source": [
    "# 1. Analyse and visualise the dataset"
   ]
  },
  {
   "cell_type": "code",
   "execution_count": null,
   "id": "0c3ba159-59e5-4e8f-9792-81b53f0bfb5f",
   "metadata": {},
   "outputs": [],
   "source": []
  },
  {
   "cell_type": "markdown",
   "id": "ae8b6695-87a2-4743-a118-6280b9b7d235",
   "metadata": {},
   "source": [
    "# 2. Experimentation with three different setups"
   ]
  },
  {
   "cell_type": "code",
   "execution_count": 191,
   "id": "ace05916-7941-4edb-9898-d89615db7e99",
   "metadata": {},
   "outputs": [],
   "source": [
    "import sys\n",
    "\n",
    "# If run in colab instead of local\n",
    "if 'google.colab' in sys.modules:\n",
    "    # Install any dependencies\n",
    "    !pip install -U datasets\n",
    "    !pip install transformers seqeval evaluate gensim torch\n",
    "\n",
    "import os\n",
    "import torch\n",
    "import torch.nn as nn\n",
    "import torch.optim as optim\n",
    "from torch.utils.data import Dataset, DataLoader\n",
    "from torch.nn.utils.rnn import pad_sequence, pack_padded_sequence, pad_packed_sequence\n",
    "from transformers import BertTokenizerFast, BertModel\n",
    "import datasets\n",
    "from gensim.models import Word2Vec\n",
    "import numpy as np\n",
    "from seqeval.metrics import f1_score, classification_report\n",
    "import matplotlib.pyplot as plt\n",
    "from collections import Counter\n",
    "from tqdm import tqdm\n",
    "\n",
    "dataset = datasets.load_dataset('surrey-nlp/PLOD-CW-25')\n",
    "train_data = dataset['train']\n",
    "val_data = dataset['validation']\n",
    "test_data = dataset['test']\n",
    "\n",
    "dataset_ext = datasets.load_dataset('surrey-nlp/PLODv2-filtered')\n",
    "train_data_ext = dataset_ext['train']\n",
    "val_data_ext = dataset_ext['validation']\n",
    "test_data_ext = dataset_ext['test']"
   ]
  },
  {
   "cell_type": "markdown",
   "id": "f8995f93-a20a-4c29-a61c-4c3861b2a4ae",
   "metadata": {},
   "source": [
    "## 2.1 Vary the text encoding\n",
    "a. Data pre-processing technique: no preprocessing  \n",
    "b. (varied) Text encoding/transformation into embeddings: word2vec, GloVe, pre-trained language model(BERT)  \n",
    "c. Modelling Technique: LSTM with FC layer"
   ]
  },
  {
   "cell_type": "code",
   "execution_count": 21,
   "id": "2fe5dd53-31b9-43ce-9272-87319b1ba409",
   "metadata": {},
   "outputs": [
    {
     "name": "stdout",
     "output_type": "stream",
     "text": [
      "CPU times: total: 0 ns\n",
      "Wall time: 0 ns\n"
     ]
    }
   ],
   "source": [
    "%%time\n",
    "#The original glove file is 300mb, but we only need a portion of the words, search them and save them in NPZ format\n",
    "def convert_glove_to_npz(glove_path, output_npz_path):\n",
    "    word_counts = Counter()\n",
    "    for sentence in train_data:\n",
    "        word_counts.update(sentence['tokens'])\n",
    "    for sentence in train_data_ext:\n",
    "        word_counts.update(sentence['tokens'])\n",
    "    vocab_all = ['<PAD>', '<UNK>'] + [word for word, count in sorted(word_counts.items(), key = lambda x:-x[1])]#sort by frequency\n",
    "    word2id_all = {word: idx for idx, word in enumerate(vocab_all)}\n",
    "\n",
    "    words = {}\n",
    "    vectors = np.zeros((len(vocab_all), 100), dtype=np.float32)\n",
    "    count = 0\n",
    "    with open(glove_path, 'r', encoding='utf-8') as f:\n",
    "        for idx, line in tqdm(enumerate(f), total=400000, desc=\"Processing\"):\n",
    "            row = line.rstrip().split()\n",
    "            if row[0] in vocab_all:\n",
    "                count += 1\n",
    "                words[row[0]] = word2id_all[row[0]]\n",
    "                vectors[word2id_all[row[0]]] = np.array(row[1:], dtype=np.float32)\n",
    "\n",
    "    np.savez_compressed(\n",
    "        output_npz_path,\n",
    "        words=words,\n",
    "        vectors=vectors\n",
    "    )\n",
    "    print(f\"Saved compressed GloVe to {output_npz_path}, found {count}/{len(vocab_all)} words\")\n",
    "\n",
    "#convert_glove_to_npz(\"glove.6B.100d.txt\", \"glove.6B.100d.PLOD-CW-25.npz\")"
   ]
  },
  {
   "cell_type": "code",
   "execution_count": 24,
   "id": "fa0d87c4-d49c-422b-897f-47caaa864af3",
   "metadata": {},
   "outputs": [],
   "source": [
    "#Init\n",
    "class Config:\n",
    "    GLOVE_NPZ_PATH = 'glove.6B.100d.PLOD-CW-25.npz'\n",
    "    EMBEDDING_VEC = 100\n",
    "    HIDDEN = 128\n",
    "    BATCH_SIZE = 32\n",
    "    EPOCHS = 20\n",
    "    BERT_MODEL_NAME = 'bert-base-cased'\n",
    "    NUM_LSTM_LAYERS = 2\n",
    "    NUM_RNN_LAYERS = 2\n",
    "    MAX_LENGTH = 128\n",
    "    LEARNING_RATE = 1e-5\n",
    "    DEVICE = torch.device('cuda' if torch.cuda.is_available() else 'cpu')"
   ]
  },
  {
   "cell_type": "code",
   "execution_count": 193,
   "id": "4d29b70b-9a9e-4dcd-ac69-838d75315c38",
   "metadata": {},
   "outputs": [],
   "source": [
    "#Build vocabulary, convert to ID\n",
    "def build_vocab_id(data):\n",
    "    word_counts = Counter()\n",
    "    for sentence in data:\n",
    "        word_counts.update(sentence['tokens'])\n",
    "    vocab = ['<PAD>', '<UNK>'] + [word for word, count in sorted(word_counts.items(), key = lambda x:-x[1])]#sort by frequency\n",
    "    word2id = {word: idx for idx, word in enumerate(vocab)}\n",
    "    return vocab, word2id\n",
    "\n",
    "vocab, word2id = build_vocab_id(train_data)\n",
    "\n",
    "#Convert ner_tags to ID\n",
    "ner_labels = set()\n",
    "for split in [train_data, val_data, test_data]:\n",
    "    for data in split:\n",
    "        ner_labels.update(data['ner_tags'])\n",
    "ner_tag2id = {tag: idx for idx, tag in enumerate(ner_labels)}\n",
    "id2ner = {v: k for k, v in ner_tag2id.items()}"
   ]
  },
  {
   "cell_type": "code",
   "execution_count": 30,
   "id": "b1c2af4c-3787-4184-9344-1580106973a7",
   "metadata": {},
   "outputs": [],
   "source": [
    "#Word2Vec\n",
    "def build_w2v_matrix(word2id, w2v_model):\n",
    "    embedding_w2v_matrix = np.zeros((len(vocab), Config.EMBEDDING_VEC))\n",
    "    for word, idx in word2id.items():\n",
    "        if word in w2v_model.wv:\n",
    "            embedding_w2v_matrix[idx] = w2v_model.wv[word]\n",
    "        elif word == '<PAD>':\n",
    "            embedding_w2v_matrix[idx] = np.zeros(Config.EMBEDDING_VEC)\n",
    "        else:\n",
    "            embedding_w2v_matrix[idx] = np.random.normal(size=(Config.EMBEDDING_VEC,))\n",
    "    return embedding_w2v_matrix\n",
    "\n",
    "w2v_model = Word2Vec(train_data['tokens'], vector_size=Config.EMBEDDING_VEC, window=3, min_count=1, workers=4, epochs=50)\n",
    "embedding_w2v_matrix = build_w2v_matrix(word2id, w2v_model)"
   ]
  },
  {
   "cell_type": "code",
   "execution_count": 33,
   "id": "a94d5790-901a-4832-81b5-4f92143c6834",
   "metadata": {},
   "outputs": [],
   "source": [
    "#GloVe\n",
    "def load_compressed_glove(npz_path):\n",
    "    data = np.load(npz_path, mmap_mode='r', allow_pickle=True)\n",
    "    return data['words'], data['vectors']\n",
    "\n",
    "glove_words, glove_vectors = load_compressed_glove(Config.GLOVE_NPZ_PATH)\n",
    "\n",
    "def build_glove_matrix(word2id, glove_words, glove_vectors):\n",
    "    embedding_glove_matrix = np.zeros((len(word2id), Config.EMBEDDING_VEC))\n",
    "    for word, idx in word2id.items():\n",
    "        if word in glove_words:\n",
    "            embedding_glove_matrix[idx] = glove_vectors[glove_words['word']]\n",
    "        elif word == '<PAD>':\n",
    "            embedding_glove_matrix[idx] = np.zeros(Config.EMBEDDING_VEC)\n",
    "        else:\n",
    "            embedding_glove_matrix[idx] = np.random.normal(size=(Config.EMBEDDING_VEC,))\n",
    "    return embedding_glove_matrix\n",
    "\n",
    "embedding_glove_matrix = build_glove_matrix(word2id, glove_words, glove_vectors)"
   ]
  },
  {
   "cell_type": "code",
   "execution_count": 36,
   "id": "c54763a3-866b-46a0-b254-3e488a9579b1",
   "metadata": {},
   "outputs": [],
   "source": [
    "#pre-trained language model: BERT\n",
    "tokenizer = BertTokenizerFast.from_pretrained(Config.BERT_MODEL_NAME)"
   ]
  },
  {
   "cell_type": "code",
   "execution_count": 40,
   "id": "385f4d66-8a31-4ef8-8966-1919d31667a4",
   "metadata": {},
   "outputs": [],
   "source": [
    "#Custom dataset\n",
    "class NER_Dataset(Dataset):\n",
    "    def __init__(self, data, embedding_type = None, tokenizer = None):\n",
    "        self.data = data\n",
    "        self.embedding_type = embedding_type\n",
    "        self.tokenizer = tokenizer\n",
    "        \n",
    "    def __len__(self):\n",
    "        return len(self.data)\n",
    "    \n",
    "    def __getitem__(self, idx):\n",
    "        sentence = self.data[idx]\n",
    "        tokens = sentence['tokens']\n",
    "        ner_tags = sentence['ner_tags']\n",
    "\n",
    "        if self.embedding_type == 'BERT':#BERT\n",
    "            encoding = self.tokenizer(\n",
    "            tokens,\n",
    "            is_split_into_words=True,\n",
    "            truncation=True,\n",
    "            max_length=Config.MAX_LENGTH,\n",
    "            padding=False\n",
    "            )\n",
    "\n",
    "            word_ids = encoding.word_ids()\n",
    "            labels = []\n",
    "            current_word_id = None\n",
    "            \n",
    "            for word_id in word_ids:\n",
    "                if word_id is None:\n",
    "                    labels.append(-100)\n",
    "                else:\n",
    "                    if word_id != current_word_id:\n",
    "                        labels.append(ner_tag2id[ner_tags[word_id]])\n",
    "                        current_word_id = word_id\n",
    "                    else:\n",
    "                        labels.append(-100)\n",
    "    \n",
    "            return {\n",
    "                'input_ids': encoding['input_ids'],\n",
    "                'attention_mask': encoding['attention_mask'],\n",
    "                'labels': labels\n",
    "            }\n",
    "        else:\n",
    "            token_ids = [word2id.get(token, word2id['<UNK>']) for token in tokens]\n",
    "            ner_ids = [ner_tag2id[tag] for tag in ner_tags]\n",
    "            \n",
    "            return {\n",
    "                'token_ids': torch.LongTensor(token_ids),\n",
    "                'ner_ids': torch.LongTensor(ner_ids),\n",
    "                'lengths': len(token_ids)\n",
    "            }\n",
    "\n",
    "#Custom collate fuction\n",
    "def collate_fn(batch):\n",
    "    if 'attention_mask' in batch[0]:#BERT\n",
    "        max_length = max(len(x['input_ids']) for x in batch)\n",
    "    \n",
    "        input_ids = []\n",
    "        attention_masks = []\n",
    "        labels = []\n",
    "        \n",
    "        for x in batch:\n",
    "            pad_length = max_length - len(x['input_ids'])\n",
    "            input_ids.append(x['input_ids'] + [tokenizer.pad_token_id] * pad_length)\n",
    "            attention_masks.append(x['attention_mask'] + [0] * pad_length)\n",
    "            labels.append(x['labels'] + [-100] * pad_length)\n",
    "        \n",
    "        return {\n",
    "            'input_ids': torch.LongTensor(input_ids).to(Config.DEVICE),\n",
    "            'attention_mask': torch.LongTensor(attention_masks).to(Config.DEVICE),\n",
    "            'labels': torch.LongTensor(labels).to(Config.DEVICE)\n",
    "        }\n",
    "    else:\n",
    "        token_ids = [x['token_ids'] for x in batch]\n",
    "        ner_ids = [x['ner_ids'] for x in batch]\n",
    "        lengths = [x['lengths'] for x in batch]\n",
    "        \n",
    "        sorted_indices = np.argsort(lengths)[::-1]\n",
    "        token_ids = [token_ids[i] for i in sorted_indices]\n",
    "        ner_ids = [ner_ids[i] for i in sorted_indices]\n",
    "        lengths = [lengths[i] for i in sorted_indices]\n",
    "    \n",
    "        #Fill to the same length\n",
    "        token_ids = pad_sequence(token_ids, batch_first=True, padding_value=word2id['<PAD>'])\n",
    "        ner_ids = pad_sequence(ner_ids, batch_first=True, padding_value=-100)\n",
    "        \n",
    "        return {\n",
    "            'token_ids': token_ids.to(Config.DEVICE),\n",
    "            'ner_ids': ner_ids.to(Config.DEVICE),\n",
    "            'lengths': torch.LongTensor(lengths).to(Config.DEVICE)\n",
    "        }"
   ]
  },
  {
   "cell_type": "code",
   "execution_count": 43,
   "id": "9d06f96f-3d97-40e7-9765-4f9e0b31649b",
   "metadata": {},
   "outputs": [],
   "source": [
    "#Word2Vec&GloVe\n",
    "train_dataset = NER_Dataset(train_data)\n",
    "val_dataset = NER_Dataset(val_data)\n",
    "test_dataset = NER_Dataset(test_data)\n",
    "\n",
    "train_loader = DataLoader(train_dataset, batch_size=Config.BATCH_SIZE, shuffle=True, collate_fn=collate_fn)\n",
    "val_loader = DataLoader(val_dataset, batch_size=Config.BATCH_SIZE, collate_fn=collate_fn)\n",
    "test_loader = DataLoader(test_dataset, batch_size=Config.BATCH_SIZE, collate_fn=collate_fn)\n",
    "\n",
    "#BERT\n",
    "train_dataset_bert = NER_Dataset(train_data, 'BERT', tokenizer)\n",
    "val_dataset_bert = NER_Dataset(val_data, 'BERT', tokenizer)\n",
    "test_dataset_bert = NER_Dataset(test_data, 'BERT', tokenizer)\n",
    "\n",
    "train_loader_bert = DataLoader(train_dataset_bert, batch_size=Config.BATCH_SIZE, shuffle=True, collate_fn=collate_fn)\n",
    "val_loader_bert = DataLoader(val_dataset_bert, batch_size=Config.BATCH_SIZE, collate_fn=collate_fn)\n",
    "test_loader_bert = DataLoader(test_dataset_bert, batch_size=Config.BATCH_SIZE, collate_fn=collate_fn)"
   ]
  },
  {
   "cell_type": "code",
   "execution_count": 49,
   "id": "13baf578-41b9-453d-94dd-cfad233700f5",
   "metadata": {},
   "outputs": [],
   "source": [
    "#Init model\n",
    "class NER_Model(nn.Module):\n",
    "    def __init__(self, embedding_type, model_type='LSTM'):\n",
    "        super().__init__()\n",
    "        self.embedding_type = embedding_type\n",
    "        self.model_type = model_type\n",
    "\n",
    "        if self.embedding_type == 'Word2Vec':\n",
    "            self.embedding = nn.Embedding.from_pretrained(\n",
    "                torch.FloatTensor(embedding_w2v_matrix),\n",
    "                padding_idx=word2id['<PAD>']\n",
    "            )\n",
    "            self.lstm = nn.LSTM(Config.EMBEDDING_VEC, Config.HIDDEN, bidirectional=True, num_layers=Config.NUM_LSTM_LAYERS, dropout=0.3)\n",
    "        elif self.embedding_type == 'GloVe':\n",
    "            self.embedding = nn.Embedding.from_pretrained(\n",
    "                torch.FloatTensor(embedding_glove_matrix),\n",
    "                padding_idx=word2id['<PAD>']\n",
    "            )\n",
    "            self.lstm = nn.LSTM(Config.EMBEDDING_VEC, Config.HIDDEN, bidirectional=True, num_layers=Config.NUM_LSTM_LAYERS, dropout=0.3)\n",
    "        elif self.embedding_type == 'BERT':\n",
    "            self.bertmodel = BertModel.from_pretrained(Config.BERT_MODEL_NAME)\n",
    "            self.lstm = nn.LSTM(\n",
    "            input_size=self.bertmodel.config.hidden_size,\n",
    "            hidden_size=Config.HIDDEN,\n",
    "            num_layers=Config.NUM_LSTM_LAYERS,\n",
    "            bidirectional=True,\n",
    "            batch_first=True,\n",
    "            dropout=0.3\n",
    "            )\n",
    "            self.rnn = nn.RNN(\n",
    "            input_size=self.bertmodel.config.hidden_size,\n",
    "            hidden_size=Config.HIDDEN,\n",
    "            num_layers=Config.NUM_RNN_LAYERS,\n",
    "            bidirectional=True,\n",
    "            batch_first=True,\n",
    "            nonlinearity='relu',\n",
    "            dropout=0.3\n",
    "            )\n",
    "        self.fc = nn.Linear(Config.HIDDEN*2, len(ner_tag2id))\n",
    "        \n",
    "    def forward(self, token_ids=None, lengths=None, input_ids=None, attention_mask=None):\n",
    "        if self.embedding_type == 'BERT':\n",
    "            outputs = self.bertmodel(input_ids=input_ids, attention_mask=attention_mask)\n",
    "            sequence_output = outputs.last_hidden_state\n",
    "            if self.model_type == 'LSTM':\n",
    "                output, _ = self.lstm(sequence_output)\n",
    "            else:\n",
    "                output, _ = self.rnn(sequence_output)\n",
    "            return self.fc(output)\n",
    "        else:\n",
    "            emb_tokens = self.embedding(token_ids)\n",
    "            packed = pack_padded_sequence(emb_tokens, lengths.cpu(), batch_first=True, enforce_sorted=False)\n",
    "            output, _ = self.lstm(packed)\n",
    "            output, _ = pad_packed_sequence(output, batch_first=True)\n",
    "            return self.fc(output)"
   ]
  },
  {
   "cell_type": "code",
   "execution_count": 78,
   "id": "d4dc6810-6bcd-42d2-8b64-c8095316685c",
   "metadata": {},
   "outputs": [],
   "source": [
    "def eval_ner(y_true, y_pred):\n",
    "    report = classification_report(y_true, y_pred, output_dict=True)\n",
    "    precision = report['micro avg']['precision']\n",
    "    recall = report['micro avg']['recall']\n",
    "    f1 = report['micro avg']['f1-score']\n",
    "\n",
    "    return precision, recall, f1, report"
   ]
  },
  {
   "cell_type": "code",
   "execution_count": 135,
   "id": "3f86bdbd-465b-4129-a003-60b5ccfb30c8",
   "metadata": {},
   "outputs": [],
   "source": [
    "#Init training\n",
    "def training(model, model_name, embedding_type, train_loader, val_loader):\n",
    "    best_f1 = -1\n",
    "    train_loss_list = []\n",
    "    val_loss_list = []\n",
    "    for epoch in range(Config.EPOCHS):\n",
    "        #Train\n",
    "        model.train()\n",
    "        train_loss = 0\n",
    "        for batch in tqdm(train_loader, desc=f\"Training Epoch {epoch+1}\"):\n",
    "            optimizer.zero_grad()\n",
    "            if embedding_type == 'BERT':#BERT\n",
    "                logits = model(None, None, batch['input_ids'], batch['attention_mask'])\n",
    "                loss = criterion(logits.view(-1, len(ner_tag2id)), batch['labels'].view(-1))\n",
    "            else:\n",
    "                logits = model(batch['token_ids'], batch['lengths'], None, None)\n",
    "                loss = criterion(logits.view(-1, len(ner_tag2id)), batch['ner_ids'].view(-1))         \n",
    "            loss.backward()\n",
    "            optimizer.step()\n",
    "            train_loss += loss.item()\n",
    "\n",
    "        #Evaluate\n",
    "        model.eval()\n",
    "        val_loss = 0\n",
    "        all_preds, all_labels = [], []\n",
    "        with torch.no_grad():\n",
    "            for batch in tqdm(val_loader, desc=f\"Validating Epoch {epoch+1}\"):\n",
    "                if embedding_type == 'BERT':#BERT\n",
    "                    logits = model(None, None, batch['input_ids'], batch['attention_mask'])\n",
    "                    loss = criterion(logits.view(-1, len(ner_tag2id)), batch['labels'].view(-1))\n",
    "                    val_loss += loss.item()\n",
    "                    \n",
    "                    preds = torch.argmax(logits, dim=-1).cpu().numpy()\n",
    "                    labels = batch['labels'].cpu().numpy()\n",
    "\n",
    "                    for i in range(preds.shape[0]):\n",
    "                        valid_labels = []\n",
    "                        valid_preds = []\n",
    "                        for j in range(preds.shape[1]):\n",
    "                            if labels[i][j] != -100:\n",
    "                                valid_labels.append(id2ner[labels[i][j]])\n",
    "                                valid_preds.append(id2ner[preds[i][j]])\n",
    "                        all_labels.append(valid_labels)\n",
    "                        all_preds.append(valid_preds)\n",
    "                else:\n",
    "                    logits = model(batch['token_ids'], batch['lengths'], None, None)\n",
    "                    loss = criterion(logits.view(-1, len(ner_tag2id)), batch['ner_ids'].view(-1)) \n",
    "                    val_loss += loss.item()\n",
    "                    \n",
    "                    preds = torch.argmax(logits, dim=-1).cpu().numpy()\n",
    "                    labels = batch['ner_ids'].cpu().numpy()\n",
    "\n",
    "                    for i in range(len(batch['lengths'])):\n",
    "                        valid_preds = []\n",
    "                        valid_labels = []\n",
    "                        length = batch['lengths'][i]\n",
    "                        result_preds = preds[i, :length]\n",
    "                        result_labels = labels[i, :length]\n",
    "                        mask = result_labels != -100\n",
    "                        for i in result_preds[mask].tolist():\n",
    "                            valid_preds.append(id2ner[i])\n",
    "                        for i in result_labels[mask].tolist():\n",
    "                            valid_labels.append(id2ner[i])\n",
    "                        all_preds.append(valid_preds)\n",
    "                        all_labels.append(valid_labels)\n",
    "\n",
    "        _, _, val_f1, _ = eval_ner(all_labels, all_preds)\n",
    "        train_loss_list.append(train_loss)\n",
    "        val_loss_list.append(val_loss)\n",
    "    \n",
    "        if val_f1 > best_f1:\n",
    "            best_f1 = val_f1\n",
    "            torch.save(model.state_dict(), model_name)\n",
    "            print('Best model saved!')\n",
    "        \n",
    "        print(f\"Epoch {epoch+1}/{Config.EPOCHS}\")\n",
    "        print(f\"Train Loss: {train_loss/len(train_loader):.4f}\")\n",
    "        print(f\"Val Loss: {val_loss/len(val_loader):.4f}\")\n",
    "        print(f\"Val F1: {val_f1:.4f}\\n\")\n",
    "\n",
    "    plt.figure(figsize=(10, 5))\n",
    "    plt.plot(range(1, len(train_loss_list) + 1), train_loss_list, 'b', label='Training Loss', marker='o')\n",
    "    plt.plot(range(1, len(val_loss_list) + 1), val_loss_list, 'r', label='Validation Loss', marker='o')\n",
    "    plt.title('Training & Validation Loss Curve')\n",
    "    plt.xlabel('Epochs')\n",
    "    plt.ylabel('Loss')\n",
    "    plt.legend()\n",
    "    plt.grid(True)\n",
    "    plt.show()"
   ]
  },
  {
   "cell_type": "code",
   "execution_count": 137,
   "id": "6daead53-b4d7-4b82-90fe-32421e35653c",
   "metadata": {},
   "outputs": [
    {
     "name": "stdout",
     "output_type": "stream",
     "text": [
      "BERT+LSTM type training...\n"
     ]
    },
    {
     "name": "stderr",
     "output_type": "stream",
     "text": [
      "Training Epoch 1: 100%|████████████████████████████████████████████████████████████████| 63/63 [00:12<00:00,  5.13it/s]\n",
      "Validating Epoch 1: 100%|████████████████████████████████████████████████████████████████| 5/5 [00:00<00:00, 14.47it/s]\n"
     ]
    },
    {
     "name": "stdout",
     "output_type": "stream",
     "text": [
      "Best model saved!\n",
      "Epoch 1/20\n",
      "Train Loss: 1.0275\n",
      "Val Loss: 0.9279\n",
      "Val F1: 0.0000\n",
      "\n"
     ]
    },
    {
     "name": "stderr",
     "output_type": "stream",
     "text": [
      "Training Epoch 2: 100%|████████████████████████████████████████████████████████████████| 63/63 [00:12<00:00,  5.15it/s]\n",
      "Validating Epoch 2: 100%|████████████████████████████████████████████████████████████████| 5/5 [00:00<00:00, 14.16it/s]\n"
     ]
    },
    {
     "name": "stdout",
     "output_type": "stream",
     "text": [
      "Best model saved!\n",
      "Epoch 2/20\n",
      "Train Loss: 0.8249\n",
      "Val Loss: 0.7501\n",
      "Val F1: 0.0063\n",
      "\n"
     ]
    },
    {
     "name": "stderr",
     "output_type": "stream",
     "text": [
      "Training Epoch 3: 100%|████████████████████████████████████████████████████████████████| 63/63 [00:26<00:00,  2.34it/s]\n",
      "Validating Epoch 3: 100%|████████████████████████████████████████████████████████████████| 5/5 [00:00<00:00,  6.83it/s]\n"
     ]
    },
    {
     "name": "stdout",
     "output_type": "stream",
     "text": [
      "Best model saved!\n",
      "Epoch 3/20\n",
      "Train Loss: 0.6969\n",
      "Val Loss: 0.6704\n",
      "Val F1: 0.2454\n",
      "\n"
     ]
    },
    {
     "name": "stderr",
     "output_type": "stream",
     "text": [
      "Training Epoch 4: 100%|████████████████████████████████████████████████████████████████| 63/63 [00:26<00:00,  2.34it/s]\n",
      "Validating Epoch 4: 100%|████████████████████████████████████████████████████████████████| 5/5 [00:00<00:00,  7.24it/s]\n"
     ]
    },
    {
     "name": "stdout",
     "output_type": "stream",
     "text": [
      "Best model saved!\n",
      "Epoch 4/20\n",
      "Train Loss: 0.6295\n",
      "Val Loss: 0.6325\n",
      "Val F1: 0.5302\n",
      "\n"
     ]
    },
    {
     "name": "stderr",
     "output_type": "stream",
     "text": [
      "Training Epoch 5: 100%|████████████████████████████████████████████████████████████████| 63/63 [00:27<00:00,  2.32it/s]\n",
      "Validating Epoch 5: 100%|████████████████████████████████████████████████████████████████| 5/5 [00:00<00:00,  7.50it/s]\n"
     ]
    },
    {
     "name": "stdout",
     "output_type": "stream",
     "text": [
      "Best model saved!\n",
      "Epoch 5/20\n",
      "Train Loss: 0.5882\n",
      "Val Loss: 0.6035\n",
      "Val F1: 0.5898\n",
      "\n"
     ]
    },
    {
     "name": "stderr",
     "output_type": "stream",
     "text": [
      "Training Epoch 6: 100%|████████████████████████████████████████████████████████████████| 63/63 [00:32<00:00,  1.92it/s]\n",
      "Validating Epoch 6: 100%|████████████████████████████████████████████████████████████████| 5/5 [00:00<00:00,  6.75it/s]\n"
     ]
    },
    {
     "name": "stdout",
     "output_type": "stream",
     "text": [
      "Best model saved!\n",
      "Epoch 6/20\n",
      "Train Loss: 0.5546\n",
      "Val Loss: 0.5895\n",
      "Val F1: 0.7307\n",
      "\n"
     ]
    },
    {
     "name": "stderr",
     "output_type": "stream",
     "text": [
      "Training Epoch 7: 100%|████████████████████████████████████████████████████████████████| 63/63 [00:34<00:00,  1.84it/s]\n",
      "Validating Epoch 7: 100%|████████████████████████████████████████████████████████████████| 5/5 [00:00<00:00,  6.56it/s]\n"
     ]
    },
    {
     "name": "stdout",
     "output_type": "stream",
     "text": [
      "Best model saved!\n",
      "Epoch 7/20\n",
      "Train Loss: 0.5265\n",
      "Val Loss: 0.5737\n",
      "Val F1: 0.7459\n",
      "\n"
     ]
    },
    {
     "name": "stderr",
     "output_type": "stream",
     "text": [
      "Training Epoch 8: 100%|████████████████████████████████████████████████████████████████| 63/63 [00:37<00:00,  1.70it/s]\n",
      "Validating Epoch 8: 100%|████████████████████████████████████████████████████████████████| 5/5 [00:00<00:00,  6.36it/s]\n"
     ]
    },
    {
     "name": "stdout",
     "output_type": "stream",
     "text": [
      "Best model saved!\n",
      "Epoch 8/20\n",
      "Train Loss: 0.5050\n",
      "Val Loss: 0.5673\n",
      "Val F1: 0.7768\n",
      "\n"
     ]
    },
    {
     "name": "stderr",
     "output_type": "stream",
     "text": [
      "Training Epoch 9: 100%|████████████████████████████████████████████████████████████████| 63/63 [00:34<00:00,  1.85it/s]\n",
      "Validating Epoch 9: 100%|████████████████████████████████████████████████████████████████| 5/5 [00:00<00:00,  6.29it/s]\n"
     ]
    },
    {
     "name": "stdout",
     "output_type": "stream",
     "text": [
      "Best model saved!\n",
      "Epoch 9/20\n",
      "Train Loss: 0.4863\n",
      "Val Loss: 0.5563\n",
      "Val F1: 0.7904\n",
      "\n"
     ]
    },
    {
     "name": "stderr",
     "output_type": "stream",
     "text": [
      "Training Epoch 10: 100%|███████████████████████████████████████████████████████████████| 63/63 [00:35<00:00,  1.75it/s]\n",
      "Validating Epoch 10: 100%|███████████████████████████████████████████████████████████████| 5/5 [00:00<00:00,  6.05it/s]\n"
     ]
    },
    {
     "name": "stdout",
     "output_type": "stream",
     "text": [
      "Best model saved!\n",
      "Epoch 10/20\n",
      "Train Loss: 0.4737\n",
      "Val Loss: 0.5588\n",
      "Val F1: 0.7928\n",
      "\n"
     ]
    },
    {
     "name": "stderr",
     "output_type": "stream",
     "text": [
      "Training Epoch 11: 100%|███████████████████████████████████████████████████████████████| 63/63 [00:35<00:00,  1.76it/s]\n",
      "Validating Epoch 11: 100%|███████████████████████████████████████████████████████████████| 5/5 [00:01<00:00,  4.90it/s]\n"
     ]
    },
    {
     "name": "stdout",
     "output_type": "stream",
     "text": [
      "Best model saved!\n",
      "Epoch 11/20\n",
      "Train Loss: 0.4594\n",
      "Val Loss: 0.5600\n",
      "Val F1: 0.7958\n",
      "\n"
     ]
    },
    {
     "name": "stderr",
     "output_type": "stream",
     "text": [
      "Training Epoch 12: 100%|███████████████████████████████████████████████████████████████| 63/63 [00:37<00:00,  1.67it/s]\n",
      "Validating Epoch 12: 100%|███████████████████████████████████████████████████████████████| 5/5 [00:00<00:00,  5.95it/s]\n"
     ]
    },
    {
     "name": "stdout",
     "output_type": "stream",
     "text": [
      "Best model saved!\n",
      "Epoch 12/20\n",
      "Train Loss: 0.4476\n",
      "Val Loss: 0.5526\n",
      "Val F1: 0.7965\n",
      "\n"
     ]
    },
    {
     "name": "stderr",
     "output_type": "stream",
     "text": [
      "Training Epoch 13: 100%|███████████████████████████████████████████████████████████████| 63/63 [00:35<00:00,  1.80it/s]\n",
      "Validating Epoch 13: 100%|███████████████████████████████████████████████████████████████| 5/5 [00:00<00:00,  6.31it/s]\n"
     ]
    },
    {
     "name": "stdout",
     "output_type": "stream",
     "text": [
      "Epoch 13/20\n",
      "Train Loss: 0.4393\n",
      "Val Loss: 0.5629\n",
      "Val F1: 0.7912\n",
      "\n"
     ]
    },
    {
     "name": "stderr",
     "output_type": "stream",
     "text": [
      "Training Epoch 14: 100%|███████████████████████████████████████████████████████████████| 63/63 [00:35<00:00,  1.77it/s]\n",
      "Validating Epoch 14: 100%|███████████████████████████████████████████████████████████████| 5/5 [00:01<00:00,  4.83it/s]\n"
     ]
    },
    {
     "name": "stdout",
     "output_type": "stream",
     "text": [
      "Epoch 14/20\n",
      "Train Loss: 0.4291\n",
      "Val Loss: 0.5652\n",
      "Val F1: 0.7929\n",
      "\n"
     ]
    },
    {
     "name": "stderr",
     "output_type": "stream",
     "text": [
      "Training Epoch 15: 100%|███████████████████████████████████████████████████████████████| 63/63 [00:35<00:00,  1.76it/s]\n",
      "Validating Epoch 15: 100%|███████████████████████████████████████████████████████████████| 5/5 [00:01<00:00,  4.88it/s]\n"
     ]
    },
    {
     "name": "stdout",
     "output_type": "stream",
     "text": [
      "Epoch 15/20\n",
      "Train Loss: 0.4210\n",
      "Val Loss: 0.5647\n",
      "Val F1: 0.7962\n",
      "\n"
     ]
    },
    {
     "name": "stderr",
     "output_type": "stream",
     "text": [
      "Training Epoch 16: 100%|███████████████████████████████████████████████████████████████| 63/63 [00:33<00:00,  1.90it/s]\n",
      "Validating Epoch 16: 100%|███████████████████████████████████████████████████████████████| 5/5 [00:01<00:00,  4.81it/s]\n"
     ]
    },
    {
     "name": "stdout",
     "output_type": "stream",
     "text": [
      "Epoch 16/20\n",
      "Train Loss: 0.4143\n",
      "Val Loss: 0.5586\n",
      "Val F1: 0.7881\n",
      "\n"
     ]
    },
    {
     "name": "stderr",
     "output_type": "stream",
     "text": [
      "Training Epoch 17: 100%|███████████████████████████████████████████████████████████████| 63/63 [00:36<00:00,  1.74it/s]\n",
      "Validating Epoch 17: 100%|███████████████████████████████████████████████████████████████| 5/5 [00:00<00:00,  6.51it/s]\n"
     ]
    },
    {
     "name": "stdout",
     "output_type": "stream",
     "text": [
      "Best model saved!\n",
      "Epoch 17/20\n",
      "Train Loss: 0.4112\n",
      "Val Loss: 0.5673\n",
      "Val F1: 0.8019\n",
      "\n"
     ]
    },
    {
     "name": "stderr",
     "output_type": "stream",
     "text": [
      "Training Epoch 18: 100%|███████████████████████████████████████████████████████████████| 63/63 [00:36<00:00,  1.71it/s]\n",
      "Validating Epoch 18: 100%|███████████████████████████████████████████████████████████████| 5/5 [00:01<00:00,  4.70it/s]\n"
     ]
    },
    {
     "name": "stdout",
     "output_type": "stream",
     "text": [
      "Epoch 18/20\n",
      "Train Loss: 0.4026\n",
      "Val Loss: 0.5659\n",
      "Val F1: 0.7950\n",
      "\n"
     ]
    },
    {
     "name": "stderr",
     "output_type": "stream",
     "text": [
      "Training Epoch 19: 100%|███████████████████████████████████████████████████████████████| 63/63 [00:39<00:00,  1.60it/s]\n",
      "Validating Epoch 19: 100%|███████████████████████████████████████████████████████████████| 5/5 [00:01<00:00,  4.39it/s]\n"
     ]
    },
    {
     "name": "stdout",
     "output_type": "stream",
     "text": [
      "Epoch 19/20\n",
      "Train Loss: 0.3995\n",
      "Val Loss: 0.5732\n",
      "Val F1: 0.7936\n",
      "\n"
     ]
    },
    {
     "name": "stderr",
     "output_type": "stream",
     "text": [
      "Training Epoch 20: 100%|███████████████████████████████████████████████████████████████| 63/63 [00:32<00:00,  1.91it/s]\n",
      "Validating Epoch 20: 100%|███████████████████████████████████████████████████████████████| 5/5 [00:01<00:00,  4.78it/s]\n"
     ]
    },
    {
     "name": "stdout",
     "output_type": "stream",
     "text": [
      "Epoch 20/20\n",
      "Train Loss: 0.3952\n",
      "Val Loss: 0.5721\n",
      "Val F1: 0.7911\n",
      "\n"
     ]
    },
    {
     "data": {
      "image/png": "[encoded data removed]",
      "text/plain": [
       "<Figure size 1000x500 with 1 Axes>"
      ]
     },
     "metadata": {},
     "output_type": "display_data"
    },
    {
     "name": "stdout",
     "output_type": "stream",
     "text": [
      "CPU times: total: 9min 51s\n",
      "Wall time: 12min 5s\n"
     ]
    }
   ],
   "source": [
    "%%time\n",
    "#BERT+LSTM\n",
    "print('BERT+LSTM type training...')\n",
    "model_bert_lstm = NER_Model('BERT','LSTM').to(Config.DEVICE)\n",
    "optimizer = optim.Adam(model_bert_lstm.parameters(), lr=Config.LEARNING_RATE)\n",
    "criterion = nn.CrossEntropyLoss(ignore_index=-100, label_smoothing=0.1)\n",
    "training(model_bert_lstm,'best_bert_LSTM.pth', 'BERT', train_loader_bert, val_loader_bert)"
   ]
  },
  {
   "cell_type": "code",
   "execution_count": 141,
   "id": "e49737f0-dd9a-4e38-a719-cdb6ec3015cb",
   "metadata": {},
   "outputs": [
    {
     "name": "stdout",
     "output_type": "stream",
     "text": [
      "Word2Vec+LSTM type training...\n"
     ]
    },
    {
     "name": "stderr",
     "output_type": "stream",
     "text": [
      "Training Epoch 1: 100%|████████████████████████████████████████████████████████████████| 63/63 [00:06<00:00, 10.15it/s]\n",
      "Validating Epoch 1: 100%|████████████████████████████████████████████████████████████████| 5/5 [00:00<00:00, 22.85it/s]\n"
     ]
    },
    {
     "name": "stdout",
     "output_type": "stream",
     "text": [
      "Best model saved!\n",
      "Epoch 1/20\n",
      "Train Loss: 1.3855\n",
      "Val Loss: 1.3624\n",
      "Val F1: 0.0071\n",
      "\n"
     ]
    },
    {
     "name": "stderr",
     "output_type": "stream",
     "text": [
      "Training Epoch 2: 100%|████████████████████████████████████████████████████████████████| 63/63 [00:06<00:00, 10.14it/s]\n",
      "Validating Epoch 2: 100%|████████████████████████████████████████████████████████████████| 5/5 [00:00<00:00, 20.16it/s]\n"
     ]
    },
    {
     "name": "stdout",
     "output_type": "stream",
     "text": [
      "Epoch 2/20\n",
      "Train Loss: 1.3347\n",
      "Val Loss: 1.3108\n",
      "Val F1: 0.0000\n",
      "\n"
     ]
    },
    {
     "name": "stderr",
     "output_type": "stream",
     "text": [
      "Training Epoch 3: 100%|████████████████████████████████████████████████████████████████| 63/63 [00:06<00:00, 10.20it/s]\n",
      "Validating Epoch 3: 100%|████████████████████████████████████████████████████████████████| 5/5 [00:00<00:00, 22.75it/s]\n"
     ]
    },
    {
     "name": "stdout",
     "output_type": "stream",
     "text": [
      "Epoch 3/20\n",
      "Train Loss: 1.2723\n",
      "Val Loss: 1.2419\n",
      "Val F1: 0.0000\n",
      "\n"
     ]
    },
    {
     "name": "stderr",
     "output_type": "stream",
     "text": [
      "Training Epoch 4: 100%|████████████████████████████████████████████████████████████████| 63/63 [00:06<00:00,  9.85it/s]\n",
      "Validating Epoch 4: 100%|████████████████████████████████████████████████████████████████| 5/5 [00:00<00:00, 19.86it/s]\n"
     ]
    },
    {
     "name": "stdout",
     "output_type": "stream",
     "text": [
      "Epoch 4/20\n",
      "Train Loss: 1.1840\n",
      "Val Loss: 1.1401\n",
      "Val F1: 0.0000\n",
      "\n"
     ]
    },
    {
     "name": "stderr",
     "output_type": "stream",
     "text": [
      "Training Epoch 5: 100%|████████████████████████████████████████████████████████████████| 63/63 [00:06<00:00,  9.61it/s]\n",
      "Validating Epoch 5: 100%|████████████████████████████████████████████████████████████████| 5/5 [00:00<00:00, 20.02it/s]\n"
     ]
    },
    {
     "name": "stdout",
     "output_type": "stream",
     "text": [
      "Epoch 5/20\n",
      "Train Loss: 1.0547\n",
      "Val Loss: 1.0042\n",
      "Val F1: 0.0000\n",
      "\n"
     ]
    },
    {
     "name": "stderr",
     "output_type": "stream",
     "text": [
      "Training Epoch 6: 100%|████████████████████████████████████████████████████████████████| 63/63 [00:06<00:00,  9.71it/s]\n",
      "Validating Epoch 6: 100%|████████████████████████████████████████████████████████████████| 5/5 [00:00<00:00, 19.61it/s]\n"
     ]
    },
    {
     "name": "stdout",
     "output_type": "stream",
     "text": [
      "Epoch 6/20\n",
      "Train Loss: 0.9338\n",
      "Val Loss: 0.9276\n",
      "Val F1: 0.0000\n",
      "\n"
     ]
    },
    {
     "name": "stderr",
     "output_type": "stream",
     "text": [
      "Training Epoch 7: 100%|████████████████████████████████████████████████████████████████| 63/63 [00:05<00:00, 10.81it/s]\n",
      "Validating Epoch 7: 100%|████████████████████████████████████████████████████████████████| 5/5 [00:00<00:00, 22.52it/s]\n"
     ]
    },
    {
     "name": "stdout",
     "output_type": "stream",
     "text": [
      "Epoch 7/20\n",
      "Train Loss: 0.8960\n",
      "Val Loss: 0.9135\n",
      "Val F1: 0.0000\n",
      "\n"
     ]
    },
    {
     "name": "stderr",
     "output_type": "stream",
     "text": [
      "Training Epoch 8: 100%|████████████████████████████████████████████████████████████████| 63/63 [00:05<00:00, 10.83it/s]\n",
      "Validating Epoch 8: 100%|████████████████████████████████████████████████████████████████| 5/5 [00:00<00:00, 22.19it/s]\n"
     ]
    },
    {
     "name": "stdout",
     "output_type": "stream",
     "text": [
      "Epoch 8/20\n",
      "Train Loss: 0.8854\n",
      "Val Loss: 0.9059\n",
      "Val F1: 0.0000\n",
      "\n"
     ]
    },
    {
     "name": "stderr",
     "output_type": "stream",
     "text": [
      "Training Epoch 9: 100%|████████████████████████████████████████████████████████████████| 63/63 [00:05<00:00, 10.71it/s]\n",
      "Validating Epoch 9: 100%|████████████████████████████████████████████████████████████████| 5/5 [00:00<00:00, 21.47it/s]\n"
     ]
    },
    {
     "name": "stdout",
     "output_type": "stream",
     "text": [
      "Epoch 9/20\n",
      "Train Loss: 0.8798\n",
      "Val Loss: 0.9002\n",
      "Val F1: 0.0000\n",
      "\n"
     ]
    },
    {
     "name": "stderr",
     "output_type": "stream",
     "text": [
      "Training Epoch 10: 100%|███████████████████████████████████████████████████████████████| 63/63 [00:05<00:00, 10.80it/s]\n",
      "Validating Epoch 10: 100%|███████████████████████████████████████████████████████████████| 5/5 [00:00<00:00, 22.92it/s]\n"
     ]
    },
    {
     "name": "stdout",
     "output_type": "stream",
     "text": [
      "Epoch 10/20\n",
      "Train Loss: 0.8754\n",
      "Val Loss: 0.8950\n",
      "Val F1: 0.0000\n",
      "\n"
     ]
    },
    {
     "name": "stderr",
     "output_type": "stream",
     "text": [
      "Training Epoch 11: 100%|███████████████████████████████████████████████████████████████| 63/63 [00:05<00:00, 10.78it/s]\n",
      "Validating Epoch 11: 100%|███████████████████████████████████████████████████████████████| 5/5 [00:00<00:00, 22.76it/s]\n"
     ]
    },
    {
     "name": "stdout",
     "output_type": "stream",
     "text": [
      "Epoch 11/20\n",
      "Train Loss: 0.8672\n",
      "Val Loss: 0.8903\n",
      "Val F1: 0.0000\n",
      "\n"
     ]
    },
    {
     "name": "stderr",
     "output_type": "stream",
     "text": [
      "Training Epoch 12: 100%|███████████████████████████████████████████████████████████████| 63/63 [00:05<00:00, 10.89it/s]\n",
      "Validating Epoch 12: 100%|███████████████████████████████████████████████████████████████| 5/5 [00:00<00:00, 23.23it/s]\n"
     ]
    },
    {
     "name": "stdout",
     "output_type": "stream",
     "text": [
      "Epoch 12/20\n",
      "Train Loss: 0.8656\n",
      "Val Loss: 0.8861\n",
      "Val F1: 0.0000\n",
      "\n"
     ]
    },
    {
     "name": "stderr",
     "output_type": "stream",
     "text": [
      "Training Epoch 13: 100%|███████████████████████████████████████████████████████████████| 63/63 [00:05<00:00, 10.70it/s]\n",
      "Validating Epoch 13: 100%|███████████████████████████████████████████████████████████████| 5/5 [00:00<00:00, 22.75it/s]\n"
     ]
    },
    {
     "name": "stdout",
     "output_type": "stream",
     "text": [
      "Epoch 13/20\n",
      "Train Loss: 0.8579\n",
      "Val Loss: 0.8815\n",
      "Val F1: 0.0000\n",
      "\n"
     ]
    },
    {
     "name": "stderr",
     "output_type": "stream",
     "text": [
      "Training Epoch 14: 100%|███████████████████████████████████████████████████████████████| 63/63 [00:06<00:00, 10.47it/s]\n",
      "Validating Epoch 14: 100%|███████████████████████████████████████████████████████████████| 5/5 [00:00<00:00, 23.23it/s]\n"
     ]
    },
    {
     "name": "stdout",
     "output_type": "stream",
     "text": [
      "Epoch 14/20\n",
      "Train Loss: 0.8512\n",
      "Val Loss: 0.8771\n",
      "Val F1: 0.0024\n",
      "\n"
     ]
    },
    {
     "name": "stderr",
     "output_type": "stream",
     "text": [
      "Training Epoch 15: 100%|███████████████████████████████████████████████████████████████| 63/63 [00:06<00:00,  9.70it/s]\n",
      "Validating Epoch 15: 100%|███████████████████████████████████████████████████████████████| 5/5 [00:00<00:00, 18.60it/s]\n"
     ]
    },
    {
     "name": "stdout",
     "output_type": "stream",
     "text": [
      "Epoch 15/20\n",
      "Train Loss: 0.8505\n",
      "Val Loss: 0.8728\n",
      "Val F1: 0.0048\n",
      "\n"
     ]
    },
    {
     "name": "stderr",
     "output_type": "stream",
     "text": [
      "Training Epoch 16: 100%|███████████████████████████████████████████████████████████████| 63/63 [00:06<00:00,  9.25it/s]\n",
      "Validating Epoch 16: 100%|███████████████████████████████████████████████████████████████| 5/5 [00:00<00:00, 18.93it/s]\n"
     ]
    },
    {
     "name": "stdout",
     "output_type": "stream",
     "text": [
      "Epoch 16/20\n",
      "Train Loss: 0.8432\n",
      "Val Loss: 0.8677\n",
      "Val F1: 0.0048\n",
      "\n"
     ]
    },
    {
     "name": "stderr",
     "output_type": "stream",
     "text": [
      "Training Epoch 17: 100%|███████████████████████████████████████████████████████████████| 63/63 [00:05<00:00, 10.61it/s]\n",
      "Validating Epoch 17: 100%|███████████████████████████████████████████████████████████████| 5/5 [00:00<00:00, 24.06it/s]\n"
     ]
    },
    {
     "name": "stdout",
     "output_type": "stream",
     "text": [
      "Epoch 17/20\n",
      "Train Loss: 0.8404\n",
      "Val Loss: 0.8623\n",
      "Val F1: 0.0047\n",
      "\n"
     ]
    },
    {
     "name": "stderr",
     "output_type": "stream",
     "text": [
      "Training Epoch 18: 100%|███████████████████████████████████████████████████████████████| 63/63 [00:06<00:00,  9.72it/s]\n",
      "Validating Epoch 18: 100%|███████████████████████████████████████████████████████████████| 5/5 [00:00<00:00, 18.67it/s]\n"
     ]
    },
    {
     "name": "stdout",
     "output_type": "stream",
     "text": [
      "Epoch 18/20\n",
      "Train Loss: 0.8326\n",
      "Val Loss: 0.8579\n",
      "Val F1: 0.0023\n",
      "\n"
     ]
    },
    {
     "name": "stderr",
     "output_type": "stream",
     "text": [
      "Training Epoch 19: 100%|███████████████████████████████████████████████████████████████| 63/63 [00:06<00:00,  9.28it/s]\n",
      "Validating Epoch 19: 100%|███████████████████████████████████████████████████████████████| 5/5 [00:00<00:00, 19.78it/s]\n"
     ]
    },
    {
     "name": "stdout",
     "output_type": "stream",
     "text": [
      "Best model saved!\n",
      "Epoch 19/20\n",
      "Train Loss: 0.8278\n",
      "Val Loss: 0.8526\n",
      "Val F1: 0.0092\n",
      "\n"
     ]
    },
    {
     "name": "stderr",
     "output_type": "stream",
     "text": [
      "Training Epoch 20: 100%|███████████████████████████████████████████████████████████████| 63/63 [00:05<00:00, 10.59it/s]\n",
      "Validating Epoch 20: 100%|███████████████████████████████████████████████████████████████| 5/5 [00:00<00:00, 23.41it/s]\n"
     ]
    },
    {
     "name": "stdout",
     "output_type": "stream",
     "text": [
      "Epoch 20/20\n",
      "Train Loss: 0.8232\n",
      "Val Loss: 0.8480\n",
      "Val F1: 0.0091\n",
      "\n"
     ]
    },
    {
     "data": {
      "image/png": "[encoded data removed]",
      "text/plain": [
       "<Figure size 1000x500 with 1 Axes>"
      ]
     },
     "metadata": {},
     "output_type": "display_data"
    },
    {
     "name": "stdout",
     "output_type": "stream",
     "text": [
      "CPU times: total: 2min 4s\n",
      "Wall time: 2min 11s\n"
     ]
    }
   ],
   "source": [
    "%%time\n",
    "#Word2Vec\n",
    "print('Word2Vec+LSTM type training...')\n",
    "model_w2v = NER_Model('Word2Vec').to(Config.DEVICE)\n",
    "optimizer = optim.Adam(model_w2v.parameters(), lr=Config.LEARNING_RATE)\n",
    "criterion = nn.CrossEntropyLoss(ignore_index=-100, label_smoothing=0.1)\n",
    "training(model_w2v,'best_w2v_LSTM.pth', 'Word2Vec', train_loader, val_loader)"
   ]
  },
  {
   "cell_type": "code",
   "execution_count": 143,
   "id": "009179ad-f66c-4b4c-95d7-490a76591aa0",
   "metadata": {},
   "outputs": [
    {
     "name": "stdout",
     "output_type": "stream",
     "text": [
      "GloVe+LSTM type training...\n"
     ]
    },
    {
     "name": "stderr",
     "output_type": "stream",
     "text": [
      "Training Epoch 1: 100%|████████████████████████████████████████████████████████████████| 63/63 [00:05<00:00, 10.66it/s]\n",
      "Validating Epoch 1: 100%|████████████████████████████████████████████████████████████████| 5/5 [00:00<00:00, 22.53it/s]\n"
     ]
    },
    {
     "name": "stdout",
     "output_type": "stream",
     "text": [
      "Best model saved!\n",
      "Epoch 1/20\n",
      "Train Loss: 1.3962\n",
      "Val Loss: 1.3848\n",
      "Val F1: 0.0921\n",
      "\n"
     ]
    },
    {
     "name": "stderr",
     "output_type": "stream",
     "text": [
      "Training Epoch 2: 100%|████████████████████████████████████████████████████████████████| 63/63 [00:05<00:00, 10.65it/s]\n",
      "Validating Epoch 2: 100%|████████████████████████████████████████████████████████████████| 5/5 [00:00<00:00, 22.83it/s]\n"
     ]
    },
    {
     "name": "stdout",
     "output_type": "stream",
     "text": [
      "Epoch 2/20\n",
      "Train Loss: 1.3657\n",
      "Val Loss: 1.3557\n",
      "Val F1: 0.0898\n",
      "\n"
     ]
    },
    {
     "name": "stderr",
     "output_type": "stream",
     "text": [
      "Training Epoch 3: 100%|████████████████████████████████████████████████████████████████| 63/63 [00:06<00:00,  9.64it/s]\n",
      "Validating Epoch 3: 100%|████████████████████████████████████████████████████████████████| 5/5 [00:00<00:00, 19.32it/s]\n"
     ]
    },
    {
     "name": "stdout",
     "output_type": "stream",
     "text": [
      "Epoch 3/20\n",
      "Train Loss: 1.3316\n",
      "Val Loss: 1.3212\n",
      "Val F1: 0.0417\n",
      "\n"
     ]
    },
    {
     "name": "stderr",
     "output_type": "stream",
     "text": [
      "Training Epoch 4: 100%|████████████████████████████████████████████████████████████████| 63/63 [00:06<00:00,  9.47it/s]\n",
      "Validating Epoch 4: 100%|████████████████████████████████████████████████████████████████| 5/5 [00:00<00:00, 20.10it/s]\n"
     ]
    },
    {
     "name": "stdout",
     "output_type": "stream",
     "text": [
      "Epoch 4/20\n",
      "Train Loss: 1.2886\n",
      "Val Loss: 1.2758\n",
      "Val F1: 0.0119\n",
      "\n"
     ]
    },
    {
     "name": "stderr",
     "output_type": "stream",
     "text": [
      "Training Epoch 5: 100%|████████████████████████████████████████████████████████████████| 63/63 [00:06<00:00,  9.75it/s]\n",
      "Validating Epoch 5: 100%|████████████████████████████████████████████████████████████████| 5/5 [00:00<00:00, 19.71it/s]\n"
     ]
    },
    {
     "name": "stdout",
     "output_type": "stream",
     "text": [
      "Epoch 5/20\n",
      "Train Loss: 1.2282\n",
      "Val Loss: 1.2106\n",
      "Val F1: 0.0024\n",
      "\n"
     ]
    },
    {
     "name": "stderr",
     "output_type": "stream",
     "text": [
      "Training Epoch 6: 100%|████████████████████████████████████████████████████████████████| 63/63 [00:06<00:00,  9.54it/s]\n",
      "Validating Epoch 6: 100%|████████████████████████████████████████████████████████████████| 5/5 [00:00<00:00, 20.22it/s]\n"
     ]
    },
    {
     "name": "stdout",
     "output_type": "stream",
     "text": [
      "Epoch 6/20\n",
      "Train Loss: 1.1385\n",
      "Val Loss: 1.1137\n",
      "Val F1: 0.0000\n",
      "\n"
     ]
    },
    {
     "name": "stderr",
     "output_type": "stream",
     "text": [
      "Training Epoch 7: 100%|████████████████████████████████████████████████████████████████| 63/63 [00:06<00:00, 10.03it/s]\n",
      "Validating Epoch 7: 100%|████████████████████████████████████████████████████████████████| 5/5 [00:00<00:00, 23.06it/s]\n"
     ]
    },
    {
     "name": "stdout",
     "output_type": "stream",
     "text": [
      "Epoch 7/20\n",
      "Train Loss: 1.0264\n",
      "Val Loss: 1.0111\n",
      "Val F1: 0.0000\n",
      "\n"
     ]
    },
    {
     "name": "stderr",
     "output_type": "stream",
     "text": [
      "Training Epoch 8: 100%|████████████████████████████████████████████████████████████████| 63/63 [00:06<00:00,  9.32it/s]\n",
      "Validating Epoch 8: 100%|████████████████████████████████████████████████████████████████| 5/5 [00:00<00:00, 17.68it/s]\n"
     ]
    },
    {
     "name": "stdout",
     "output_type": "stream",
     "text": [
      "Epoch 8/20\n",
      "Train Loss: 0.9550\n",
      "Val Loss: 0.9722\n",
      "Val F1: 0.0000\n",
      "\n"
     ]
    },
    {
     "name": "stderr",
     "output_type": "stream",
     "text": [
      "Training Epoch 9: 100%|████████████████████████████████████████████████████████████████| 63/63 [00:06<00:00,  9.25it/s]\n",
      "Validating Epoch 9: 100%|████████████████████████████████████████████████████████████████| 5/5 [00:00<00:00, 18.81it/s]\n"
     ]
    },
    {
     "name": "stdout",
     "output_type": "stream",
     "text": [
      "Epoch 9/20\n",
      "Train Loss: 0.9361\n",
      "Val Loss: 0.9579\n",
      "Val F1: 0.0000\n",
      "\n"
     ]
    },
    {
     "name": "stderr",
     "output_type": "stream",
     "text": [
      "Training Epoch 10: 100%|███████████████████████████████████████████████████████████████| 63/63 [00:06<00:00,  9.18it/s]\n",
      "Validating Epoch 10: 100%|███████████████████████████████████████████████████████████████| 5/5 [00:00<00:00, 18.87it/s]\n"
     ]
    },
    {
     "name": "stdout",
     "output_type": "stream",
     "text": [
      "Epoch 10/20\n",
      "Train Loss: 0.9244\n",
      "Val Loss: 0.9476\n",
      "Val F1: 0.0000\n",
      "\n"
     ]
    },
    {
     "name": "stderr",
     "output_type": "stream",
     "text": [
      "Training Epoch 11: 100%|███████████████████████████████████████████████████████████████| 63/63 [00:06<00:00,  9.16it/s]\n",
      "Validating Epoch 11: 100%|███████████████████████████████████████████████████████████████| 5/5 [00:00<00:00, 18.85it/s]\n"
     ]
    },
    {
     "name": "stdout",
     "output_type": "stream",
     "text": [
      "Epoch 11/20\n",
      "Train Loss: 0.9141\n",
      "Val Loss: 0.9393\n",
      "Val F1: 0.0000\n",
      "\n"
     ]
    },
    {
     "name": "stderr",
     "output_type": "stream",
     "text": [
      "Training Epoch 12: 100%|███████████████████████████████████████████████████████████████| 63/63 [00:06<00:00,  9.45it/s]\n",
      "Validating Epoch 12: 100%|███████████████████████████████████████████████████████████████| 5/5 [00:00<00:00, 19.03it/s]\n"
     ]
    },
    {
     "name": "stdout",
     "output_type": "stream",
     "text": [
      "Epoch 12/20\n",
      "Train Loss: 0.9052\n",
      "Val Loss: 0.9322\n",
      "Val F1: 0.0000\n",
      "\n"
     ]
    },
    {
     "name": "stderr",
     "output_type": "stream",
     "text": [
      "Training Epoch 13: 100%|███████████████████████████████████████████████████████████████| 63/63 [00:06<00:00,  9.27it/s]\n",
      "Validating Epoch 13: 100%|███████████████████████████████████████████████████████████████| 5/5 [00:00<00:00, 18.70it/s]\n"
     ]
    },
    {
     "name": "stdout",
     "output_type": "stream",
     "text": [
      "Epoch 13/20\n",
      "Train Loss: 0.8984\n",
      "Val Loss: 0.9259\n",
      "Val F1: 0.0000\n",
      "\n"
     ]
    },
    {
     "name": "stderr",
     "output_type": "stream",
     "text": [
      "Training Epoch 14: 100%|███████████████████████████████████████████████████████████████| 63/63 [00:06<00:00,  9.64it/s]\n",
      "Validating Epoch 14: 100%|███████████████████████████████████████████████████████████████| 5/5 [00:00<00:00, 18.99it/s]\n"
     ]
    },
    {
     "name": "stdout",
     "output_type": "stream",
     "text": [
      "Epoch 14/20\n",
      "Train Loss: 0.8909\n",
      "Val Loss: 0.9190\n",
      "Val F1: 0.0000\n",
      "\n"
     ]
    },
    {
     "name": "stderr",
     "output_type": "stream",
     "text": [
      "Training Epoch 15: 100%|███████████████████████████████████████████████████████████████| 63/63 [00:06<00:00, 10.49it/s]\n",
      "Validating Epoch 15: 100%|███████████████████████████████████████████████████████████████| 5/5 [00:00<00:00, 21.94it/s]\n"
     ]
    },
    {
     "name": "stdout",
     "output_type": "stream",
     "text": [
      "Epoch 15/20\n",
      "Train Loss: 0.8842\n",
      "Val Loss: 0.9132\n",
      "Val F1: 0.0000\n",
      "\n"
     ]
    },
    {
     "name": "stderr",
     "output_type": "stream",
     "text": [
      "Training Epoch 16: 100%|███████████████████████████████████████████████████████████████| 63/63 [00:05<00:00, 10.81it/s]\n",
      "Validating Epoch 16: 100%|███████████████████████████████████████████████████████████████| 5/5 [00:00<00:00, 22.53it/s]\n"
     ]
    },
    {
     "name": "stdout",
     "output_type": "stream",
     "text": [
      "Epoch 16/20\n",
      "Train Loss: 0.8810\n",
      "Val Loss: 0.9079\n",
      "Val F1: 0.0000\n",
      "\n"
     ]
    },
    {
     "name": "stderr",
     "output_type": "stream",
     "text": [
      "Training Epoch 17: 100%|███████████████████████████████████████████████████████████████| 63/63 [00:05<00:00, 10.63it/s]\n",
      "Validating Epoch 17: 100%|███████████████████████████████████████████████████████████████| 5/5 [00:00<00:00, 23.34it/s]\n"
     ]
    },
    {
     "name": "stdout",
     "output_type": "stream",
     "text": [
      "Epoch 17/20\n",
      "Train Loss: 0.8748\n",
      "Val Loss: 0.9025\n",
      "Val F1: 0.0000\n",
      "\n"
     ]
    },
    {
     "name": "stderr",
     "output_type": "stream",
     "text": [
      "Training Epoch 18: 100%|███████████████████████████████████████████████████████████████| 63/63 [00:05<00:00, 10.81it/s]\n",
      "Validating Epoch 18: 100%|███████████████████████████████████████████████████████████████| 5/5 [00:00<00:00, 23.51it/s]\n"
     ]
    },
    {
     "name": "stdout",
     "output_type": "stream",
     "text": [
      "Epoch 18/20\n",
      "Train Loss: 0.8686\n",
      "Val Loss: 0.8974\n",
      "Val F1: 0.0000\n",
      "\n"
     ]
    },
    {
     "name": "stderr",
     "output_type": "stream",
     "text": [
      "Training Epoch 19: 100%|███████████████████████████████████████████████████████████████| 63/63 [00:05<00:00, 10.84it/s]\n",
      "Validating Epoch 19: 100%|███████████████████████████████████████████████████████████████| 5/5 [00:00<00:00, 22.91it/s]\n"
     ]
    },
    {
     "name": "stdout",
     "output_type": "stream",
     "text": [
      "Epoch 19/20\n",
      "Train Loss: 0.8639\n",
      "Val Loss: 0.8933\n",
      "Val F1: 0.0000\n",
      "\n"
     ]
    },
    {
     "name": "stderr",
     "output_type": "stream",
     "text": [
      "Training Epoch 20: 100%|███████████████████████████████████████████████████████████████| 63/63 [00:05<00:00, 10.75it/s]\n",
      "Validating Epoch 20: 100%|███████████████████████████████████████████████████████████████| 5/5 [00:00<00:00, 23.43it/s]\n"
     ]
    },
    {
     "name": "stdout",
     "output_type": "stream",
     "text": [
      "Epoch 20/20\n",
      "Train Loss: 0.8590\n",
      "Val Loss: 0.8888\n",
      "Val F1: 0.0000\n",
      "\n"
     ]
    },
    {
     "data": {
      "image/png": "[encoded data removed]",
      "text/plain": [
       "<Figure size 1000x500 with 1 Axes>"
      ]
     },
     "metadata": {},
     "output_type": "display_data"
    },
    {
     "name": "stdout",
     "output_type": "stream",
     "text": [
      "CPU times: total: 2min 1s\n",
      "Wall time: 2min 13s\n"
     ]
    }
   ],
   "source": [
    "%%time\n",
    "#GloVe\n",
    "print('GloVe+LSTM type training...')\n",
    "model_glove = NER_Model('GloVe').to(Config.DEVICE)\n",
    "optimizer = optim.Adam(model_glove.parameters(), lr=Config.LEARNING_RATE)\n",
    "criterion = nn.CrossEntropyLoss(ignore_index=-100, label_smoothing=0.1)\n",
    "training(model_glove, 'best_glove_LSTM.pth', 'GloVe', train_loader, val_loader)"
   ]
  },
  {
   "cell_type": "markdown",
   "id": "92bbb7af-a77a-40e6-99d7-ab4bd093a80f",
   "metadata": {},
   "source": [
    "## 2.2 vary the neural layer  \n",
    "a. Data pre-processing technique: no preprocessing  \n",
    "b. Text encoding/transformation into embeddings: pre-trained language model(BERT)  \n",
    "c. (varied) Modelling Technique: RNN with FC layer, LSTM with FC layer (from 2.1), Transformers(including in 2.3)"
   ]
  },
  {
   "cell_type": "code",
   "execution_count": 139,
   "id": "ea608c09-fda0-4379-8a5f-d9b06670e636",
   "metadata": {},
   "outputs": [
    {
     "name": "stdout",
     "output_type": "stream",
     "text": [
      "BERT+RNN type training...\n"
     ]
    },
    {
     "name": "stderr",
     "output_type": "stream",
     "text": [
      "Training Epoch 1: 100%|████████████████████████████████████████████████████████████████| 63/63 [00:13<00:00,  4.68it/s]\n",
      "Validating Epoch 1: 100%|████████████████████████████████████████████████████████████████| 5/5 [00:00<00:00, 13.45it/s]\n"
     ]
    },
    {
     "name": "stdout",
     "output_type": "stream",
     "text": [
      "Best model saved!\n",
      "Epoch 1/20\n",
      "Train Loss: 0.8649\n",
      "Val Loss: 0.6198\n",
      "Val F1: 0.6177\n",
      "\n"
     ]
    },
    {
     "name": "stderr",
     "output_type": "stream",
     "text": [
      "Training Epoch 2: 100%|████████████████████████████████████████████████████████████████| 63/63 [00:24<00:00,  2.55it/s]\n",
      "Validating Epoch 2: 100%|████████████████████████████████████████████████████████████████| 5/5 [00:00<00:00,  6.26it/s]\n"
     ]
    },
    {
     "name": "stdout",
     "output_type": "stream",
     "text": [
      "Best model saved!\n",
      "Epoch 2/20\n",
      "Train Loss: 0.5529\n",
      "Val Loss: 0.5399\n",
      "Val F1: 0.7745\n",
      "\n"
     ]
    },
    {
     "name": "stderr",
     "output_type": "stream",
     "text": [
      "Training Epoch 3: 100%|████████████████████████████████████████████████████████████████| 63/63 [00:30<00:00,  2.05it/s]\n",
      "Validating Epoch 3: 100%|████████████████████████████████████████████████████████████████| 5/5 [00:00<00:00,  6.17it/s]\n"
     ]
    },
    {
     "name": "stdout",
     "output_type": "stream",
     "text": [
      "Best model saved!\n",
      "Epoch 3/20\n",
      "Train Loss: 0.5023\n",
      "Val Loss: 0.5316\n",
      "Val F1: 0.7960\n",
      "\n"
     ]
    },
    {
     "name": "stderr",
     "output_type": "stream",
     "text": [
      "Training Epoch 4: 100%|████████████████████████████████████████████████████████████████| 63/63 [00:31<00:00,  1.98it/s]\n",
      "Validating Epoch 4: 100%|████████████████████████████████████████████████████████████████| 5/5 [00:00<00:00,  6.92it/s]\n"
     ]
    },
    {
     "name": "stdout",
     "output_type": "stream",
     "text": [
      "Best model saved!\n",
      "Epoch 4/20\n",
      "Train Loss: 0.4791\n",
      "Val Loss: 0.5383\n",
      "Val F1: 0.7972\n",
      "\n"
     ]
    },
    {
     "name": "stderr",
     "output_type": "stream",
     "text": [
      "Training Epoch 5: 100%|████████████████████████████████████████████████████████████████| 63/63 [00:31<00:00,  1.99it/s]\n",
      "Validating Epoch 5: 100%|████████████████████████████████████████████████████████████████| 5/5 [00:00<00:00,  6.49it/s]\n"
     ]
    },
    {
     "name": "stdout",
     "output_type": "stream",
     "text": [
      "Best model saved!\n",
      "Epoch 5/20\n",
      "Train Loss: 0.4648\n",
      "Val Loss: 0.5403\n",
      "Val F1: 0.8051\n",
      "\n"
     ]
    },
    {
     "name": "stderr",
     "output_type": "stream",
     "text": [
      "Training Epoch 6: 100%|████████████████████████████████████████████████████████████████| 63/63 [00:34<00:00,  1.85it/s]\n",
      "Validating Epoch 6: 100%|████████████████████████████████████████████████████████████████| 5/5 [00:00<00:00,  5.07it/s]\n"
     ]
    },
    {
     "name": "stdout",
     "output_type": "stream",
     "text": [
      "Epoch 6/20\n",
      "Train Loss: 0.4552\n",
      "Val Loss: 0.5280\n",
      "Val F1: 0.8005\n",
      "\n"
     ]
    },
    {
     "name": "stderr",
     "output_type": "stream",
     "text": [
      "Training Epoch 7: 100%|████████████████████████████████████████████████████████████████| 63/63 [00:29<00:00,  2.11it/s]\n",
      "Validating Epoch 7: 100%|████████████████████████████████████████████████████████████████| 5/5 [00:00<00:00,  6.51it/s]\n"
     ]
    },
    {
     "name": "stdout",
     "output_type": "stream",
     "text": [
      "Epoch 7/20\n",
      "Train Loss: 0.4456\n",
      "Val Loss: 0.5315\n",
      "Val F1: 0.8005\n",
      "\n"
     ]
    },
    {
     "name": "stderr",
     "output_type": "stream",
     "text": [
      "Training Epoch 8: 100%|████████████████████████████████████████████████████████████████| 63/63 [00:36<00:00,  1.72it/s]\n",
      "Validating Epoch 8: 100%|████████████████████████████████████████████████████████████████| 5/5 [00:01<00:00,  4.76it/s]\n"
     ]
    },
    {
     "name": "stdout",
     "output_type": "stream",
     "text": [
      "Epoch 8/20\n",
      "Train Loss: 0.4344\n",
      "Val Loss: 0.5492\n",
      "Val F1: 0.8016\n",
      "\n"
     ]
    },
    {
     "name": "stderr",
     "output_type": "stream",
     "text": [
      "Training Epoch 9: 100%|████████████████████████████████████████████████████████████████| 63/63 [00:37<00:00,  1.69it/s]\n",
      "Validating Epoch 9: 100%|████████████████████████████████████████████████████████████████| 5/5 [00:00<00:00,  5.12it/s]\n"
     ]
    },
    {
     "name": "stdout",
     "output_type": "stream",
     "text": [
      "Epoch 9/20\n",
      "Train Loss: 0.4245\n",
      "Val Loss: 0.5409\n",
      "Val F1: 0.8050\n",
      "\n"
     ]
    },
    {
     "name": "stderr",
     "output_type": "stream",
     "text": [
      "Training Epoch 10: 100%|███████████████████████████████████████████████████████████████| 63/63 [00:30<00:00,  2.03it/s]\n",
      "Validating Epoch 10: 100%|███████████████████████████████████████████████████████████████| 5/5 [00:00<00:00,  6.16it/s]\n"
     ]
    },
    {
     "name": "stdout",
     "output_type": "stream",
     "text": [
      "Epoch 10/20\n",
      "Train Loss: 0.4170\n",
      "Val Loss: 0.5656\n",
      "Val F1: 0.8036\n",
      "\n"
     ]
    },
    {
     "name": "stderr",
     "output_type": "stream",
     "text": [
      "Training Epoch 11: 100%|███████████████████████████████████████████████████████████████| 63/63 [00:30<00:00,  2.07it/s]\n",
      "Validating Epoch 11: 100%|███████████████████████████████████████████████████████████████| 5/5 [00:00<00:00,  6.42it/s]\n"
     ]
    },
    {
     "name": "stdout",
     "output_type": "stream",
     "text": [
      "Best model saved!\n",
      "Epoch 11/20\n",
      "Train Loss: 0.4100\n",
      "Val Loss: 0.5693\n",
      "Val F1: 0.8068\n",
      "\n"
     ]
    },
    {
     "name": "stderr",
     "output_type": "stream",
     "text": [
      "Training Epoch 12: 100%|███████████████████████████████████████████████████████████████| 63/63 [00:30<00:00,  2.08it/s]\n",
      "Validating Epoch 12: 100%|███████████████████████████████████████████████████████████████| 5/5 [00:00<00:00,  6.25it/s]\n"
     ]
    },
    {
     "name": "stdout",
     "output_type": "stream",
     "text": [
      "Epoch 12/20\n",
      "Train Loss: 0.4040\n",
      "Val Loss: 0.5913\n",
      "Val F1: 0.8023\n",
      "\n"
     ]
    },
    {
     "name": "stderr",
     "output_type": "stream",
     "text": [
      "Training Epoch 13: 100%|███████████████████████████████████████████████████████████████| 63/63 [00:30<00:00,  2.09it/s]\n",
      "Validating Epoch 13: 100%|███████████████████████████████████████████████████████████████| 5/5 [00:00<00:00,  6.46it/s]\n"
     ]
    },
    {
     "name": "stdout",
     "output_type": "stream",
     "text": [
      "Epoch 13/20\n",
      "Train Loss: 0.3980\n",
      "Val Loss: 0.5840\n",
      "Val F1: 0.8033\n",
      "\n"
     ]
    },
    {
     "name": "stderr",
     "output_type": "stream",
     "text": [
      "Training Epoch 14: 100%|███████████████████████████████████████████████████████████████| 63/63 [00:33<00:00,  1.87it/s]\n",
      "Validating Epoch 14: 100%|███████████████████████████████████████████████████████████████| 5/5 [00:00<00:00,  6.50it/s]\n"
     ]
    },
    {
     "name": "stdout",
     "output_type": "stream",
     "text": [
      "Best model saved!\n",
      "Epoch 14/20\n",
      "Train Loss: 0.3902\n",
      "Val Loss: 0.5898\n",
      "Val F1: 0.8173\n",
      "\n"
     ]
    },
    {
     "name": "stderr",
     "output_type": "stream",
     "text": [
      "Training Epoch 15: 100%|███████████████████████████████████████████████████████████████| 63/63 [00:30<00:00,  2.07it/s]\n",
      "Validating Epoch 15: 100%|███████████████████████████████████████████████████████████████| 5/5 [00:00<00:00,  6.22it/s]\n"
     ]
    },
    {
     "name": "stdout",
     "output_type": "stream",
     "text": [
      "Epoch 15/20\n",
      "Train Loss: 0.3865\n",
      "Val Loss: 0.5809\n",
      "Val F1: 0.8125\n",
      "\n"
     ]
    },
    {
     "name": "stderr",
     "output_type": "stream",
     "text": [
      "Training Epoch 16: 100%|███████████████████████████████████████████████████████████████| 63/63 [00:29<00:00,  2.17it/s]\n",
      "Validating Epoch 16: 100%|███████████████████████████████████████████████████████████████| 5/5 [00:00<00:00,  7.36it/s]\n"
     ]
    },
    {
     "name": "stdout",
     "output_type": "stream",
     "text": [
      "Epoch 16/20\n",
      "Train Loss: 0.3820\n",
      "Val Loss: 0.5929\n",
      "Val F1: 0.8069\n",
      "\n"
     ]
    },
    {
     "name": "stderr",
     "output_type": "stream",
     "text": [
      "Training Epoch 17: 100%|███████████████████████████████████████████████████████████████| 63/63 [00:30<00:00,  2.07it/s]\n",
      "Validating Epoch 17: 100%|███████████████████████████████████████████████████████████████| 5/5 [00:01<00:00,  4.81it/s]\n"
     ]
    },
    {
     "name": "stdout",
     "output_type": "stream",
     "text": [
      "Epoch 17/20\n",
      "Train Loss: 0.3782\n",
      "Val Loss: 0.5949\n",
      "Val F1: 0.8113\n",
      "\n"
     ]
    },
    {
     "name": "stderr",
     "output_type": "stream",
     "text": [
      "Training Epoch 18: 100%|███████████████████████████████████████████████████████████████| 63/63 [00:32<00:00,  1.92it/s]\n",
      "Validating Epoch 18: 100%|███████████████████████████████████████████████████████████████| 5/5 [00:00<00:00,  5.05it/s]\n"
     ]
    },
    {
     "name": "stdout",
     "output_type": "stream",
     "text": [
      "Epoch 18/20\n",
      "Train Loss: 0.3770\n",
      "Val Loss: 0.5902\n",
      "Val F1: 0.8098\n",
      "\n"
     ]
    },
    {
     "name": "stderr",
     "output_type": "stream",
     "text": [
      "Training Epoch 19: 100%|███████████████████████████████████████████████████████████████| 63/63 [00:31<00:00,  2.00it/s]\n",
      "Validating Epoch 19: 100%|███████████████████████████████████████████████████████████████| 5/5 [00:00<00:00,  6.16it/s]\n"
     ]
    },
    {
     "name": "stdout",
     "output_type": "stream",
     "text": [
      "Epoch 19/20\n",
      "Train Loss: 0.3739\n",
      "Val Loss: 0.5991\n",
      "Val F1: 0.8010\n",
      "\n"
     ]
    },
    {
     "name": "stderr",
     "output_type": "stream",
     "text": [
      "Training Epoch 20: 100%|███████████████████████████████████████████████████████████████| 63/63 [00:36<00:00,  1.74it/s]\n",
      "Validating Epoch 20: 100%|███████████████████████████████████████████████████████████████| 5/5 [00:00<00:00,  6.55it/s]\n"
     ]
    },
    {
     "name": "stdout",
     "output_type": "stream",
     "text": [
      "Epoch 20/20\n",
      "Train Loss: 0.3712\n",
      "Val Loss: 0.6037\n",
      "Val F1: 0.8084\n",
      "\n"
     ]
    },
    {
     "data": {
      "image/png": "[encoded data removed]",
      "text/plain": [
       "<Figure size 1000x500 with 1 Axes>"
      ]
     },
     "metadata": {},
     "output_type": "display_data"
    },
    {
     "name": "stdout",
     "output_type": "stream",
     "text": [
      "CPU times: total: 10min 3s\n",
      "Wall time: 11min 18s\n"
     ]
    }
   ],
   "source": [
    "%%time\n",
    "#BERT+RNN\n",
    "print('BERT+RNN type training...')\n",
    "model_bert_rnn = NER_Model('BERT','RNN').to(Config.DEVICE)\n",
    "optimizer = optim.Adam(model_bert_rnn.parameters(), lr=Config.LEARNING_RATE)\n",
    "criterion = nn.CrossEntropyLoss(ignore_index=-100, label_smoothing=0.1)\n",
    "training(model_bert_rnn,'best_bert_RNN.pth', 'BERT', train_loader_bert, val_loader_bert)"
   ]
  },
  {
   "cell_type": "markdown",
   "id": "04a39382-9458-4ab4-a107-e4eab06237be",
   "metadata": {},
   "source": [
    "## 2.3 adding additional data to the training set  \n",
    "a. Training: 2000 (from 2.2), 4000, 8000  \n",
    "Running the notebook individually is recommended"
   ]
  },
  {
   "cell_type": "code",
   "execution_count": null,
   "id": "ddb7d1b9-5e94-47a7-9fa5-b7201ff11ad1",
   "metadata": {},
   "outputs": [],
   "source": [
    "%run ./bert.ipynb"
   ]
  },
  {
   "cell_type": "markdown",
   "id": "fede5456-0e82-4fdf-9324-444f4cd42b5d",
   "metadata": {},
   "source": [
    "# 3. Analyse testing for each of the three experiment setup variations"
   ]
  },
  {
   "cell_type": "code",
   "execution_count": 220,
   "id": "f9835944-081e-4125-bf00-ec3c704f2adf",
   "metadata": {},
   "outputs": [],
   "source": [
    "from sklearn.metrics import confusion_matrix\n",
    "import seaborn as sns\n",
    "\n",
    "def flatten_sequences(tags):\n",
    "    return [label for seq in tags for label in seq]\n",
    "\n",
    "def testing(model, model_name, embedding_type, test_loader):\n",
    "    model.load_state_dict(torch.load(model_name))\n",
    "    model.eval()\n",
    "    \n",
    "    all_preds, all_labels = [], []\n",
    "    with torch.no_grad():\n",
    "        for batch in tqdm(test_loader, desc=\"Testing\"):\n",
    "            if embedding_type == 'BERT':#BERT\n",
    "                logits = model(None, None, batch['input_ids'], batch['attention_mask'])\n",
    "                preds = torch.argmax(logits, dim=-1).cpu().numpy()\n",
    "                labels = batch['labels'].cpu().numpy()\n",
    "\n",
    "                for i in range(preds.shape[0]):\n",
    "                    valid_labels = []\n",
    "                    valid_preds = []\n",
    "                    for j in range(preds.shape[1]):\n",
    "                        if labels[i][j] != -100:\n",
    "                            valid_labels.append(id2ner[labels[i][j]])\n",
    "                            valid_preds.append(id2ner[preds[i][j]])\n",
    "                    all_labels.append(valid_labels)\n",
    "                    all_preds.append(valid_preds)\n",
    "            else:\n",
    "                logits = model(batch['token_ids'], batch['lengths'], None, None)\n",
    "                preds = torch.argmax(logits, dim=-1).cpu().numpy()\n",
    "                labels = batch['ner_ids'].cpu().numpy()\n",
    "\n",
    "                for i in range(len(batch['lengths'])):\n",
    "                    valid_preds = []\n",
    "                    valid_labels = []\n",
    "                    length = batch['lengths'][i]\n",
    "                    result_preds = preds[i, :length]\n",
    "                    result_labels = labels[i, :length]\n",
    "                    mask = result_labels != -100\n",
    "                    for i in result_preds[mask].tolist():\n",
    "                        valid_preds.append(id2ner[i])\n",
    "                    for i in result_labels[mask].tolist():\n",
    "                        valid_labels.append(id2ner[i])\n",
    "                    all_preds.append(valid_preds)\n",
    "                    all_labels.append(valid_labels)\n",
    "\n",
    "    precision, recall, f1, report = eval_ner(all_labels, all_preds)\n",
    "    print(f\"Precision: {precision:.4f}\")\n",
    "    print(f\"Recall: {recall:.4f}\")\n",
    "    print(f\"F1: {f1:.4f}\")\n",
    "    labels = [v for k,v in enumerate(ner_tag2id)]\n",
    "    flat_true = flatten_sequences(all_labels)\n",
    "    flat_pred = flatten_sequences(all_preds)\n",
    "    cm = confusion_matrix(flat_true, flat_pred, labels=labels)\n",
    "    plt.figure(figsize=(12, 10))\n",
    "    sns.heatmap(cm, annot=True, fmt='d',xticklabels=labels, yticklabels=labels)\n",
    "    plt.xlabel('Predicted')\n",
    "    plt.ylabel('True')\n",
    "    plt.title('Token-level Confusion Matrix')\n",
    "    plt.show()"
   ]
  },
  {
   "cell_type": "markdown",
   "id": "55f14d2d-06e8-4e03-bf4d-c15bbf1d1dd9",
   "metadata": {},
   "source": [
    "## 3.1"
   ]
  },
  {
   "cell_type": "code",
   "execution_count": 222,
   "id": "e9ec67e8-9331-49c7-8ba1-561067548f09",
   "metadata": {},
   "outputs": [
    {
     "name": "stdout",
     "output_type": "stream",
     "text": [
      "Word2Vec type testing...\n"
     ]
    },
    {
     "name": "stderr",
     "output_type": "stream",
     "text": [
      "Testing: 100%|███████████████████████████████████████████████████████████████████████████| 8/8 [00:00<00:00, 16.12it/s]\n",
      "C:\\Users\\darkn\\anaconda3\\Lib\\site-packages\\seqeval\\metrics\\v1.py:57: UndefinedMetricWarning: Precision and F-score are ill-defined and being set to 0.0 in labels with no predicted samples. Use `zero_division` parameter to control this behavior.\n",
      "  _warn_prf(average, modifier, msg_start, len(result))\n"
     ]
    },
    {
     "name": "stdout",
     "output_type": "stream",
     "text": [
      "Precision: 0.0602\n",
      "Recall: 0.0039\n",
      "F1: 0.0073\n"
     ]
    },
    {
     "data": {
      "image/png": "[encoded data removed]",
      "text/plain": [
       "<Figure size 1200x1000 with 2 Axes>"
      ]
     },
     "metadata": {},
     "output_type": "display_data"
    },
    {
     "name": "stdout",
     "output_type": "stream",
     "text": [
      "GloVe type testing...\n"
     ]
    },
    {
     "name": "stderr",
     "output_type": "stream",
     "text": [
      "Testing: 100%|███████████████████████████████████████████████████████████████████████████| 8/8 [00:00<00:00, 18.88it/s]\n"
     ]
    },
    {
     "name": "stdout",
     "output_type": "stream",
     "text": [
      "Precision: 0.0490\n",
      "Recall: 0.3135\n",
      "F1: 0.0847\n"
     ]
    },
    {
     "data": {
      "image/png": "[encoded data removed]",
      "text/plain": [
       "<Figure size 1200x1000 with 2 Axes>"
      ]
     },
     "metadata": {},
     "output_type": "display_data"
    },
    {
     "name": "stdout",
     "output_type": "stream",
     "text": [
      "BERT+LSTM type testing...\n"
     ]
    },
    {
     "name": "stderr",
     "output_type": "stream",
     "text": [
      "Testing: 100%|███████████████████████████████████████████████████████████████████████████| 8/8 [00:00<00:00, 11.97it/s]\n"
     ]
    },
    {
     "name": "stdout",
     "output_type": "stream",
     "text": [
      "Precision: 0.7894\n",
      "Recall: 0.9103\n",
      "F1: 0.8456\n"
     ]
    },
    {
     "data": {
      "image/png": "[encoded data removed]",
      "text/plain": [
       "<Figure size 1200x1000 with 2 Axes>"
      ]
     },
     "metadata": {},
     "output_type": "display_data"
    }
   ],
   "source": [
    "print('Word2Vec type testing...')\n",
    "testing(model_w2v,'best_w2v_LSTM.pth', 'Word2Vec', test_loader)\n",
    "print('GloVe type testing...')\n",
    "testing(model_glove,'best_glove_LSTM.pth', 'GloVe', test_loader)\n",
    "print('BERT+LSTM type testing...')\n",
    "testing(model_bert_lstm,'best_bert_LSTM.pth', 'BERT', test_loader_bert)"
   ]
  },
  {
   "cell_type": "markdown",
   "id": "3852240b-639b-4ec1-844c-bba85b12004d",
   "metadata": {},
   "source": [
    "## 3.2"
   ]
  },
  {
   "cell_type": "code",
   "execution_count": 225,
   "id": "788f4323-3506-4906-b34d-073fadd300b3",
   "metadata": {},
   "outputs": [
    {
     "name": "stdout",
     "output_type": "stream",
     "text": [
      "BERT+LSTM type testing...\n"
     ]
    },
    {
     "name": "stderr",
     "output_type": "stream",
     "text": [
      "Testing: 100%|███████████████████████████████████████████████████████████████████████████| 8/8 [00:00<00:00, 11.18it/s]\n"
     ]
    },
    {
     "name": "stdout",
     "output_type": "stream",
     "text": [
      "Precision: 0.7894\n",
      "Recall: 0.9103\n",
      "F1: 0.8456\n"
     ]
    },
    {
     "data": {
      "image/png": "[encoded data removed]",
      "text/plain": [
       "<Figure size 1200x1000 with 2 Axes>"
      ]
     },
     "metadata": {},
     "output_type": "display_data"
    },
    {
     "name": "stdout",
     "output_type": "stream",
     "text": [
      "BERT+RNN type testing...\n"
     ]
    },
    {
     "name": "stderr",
     "output_type": "stream",
     "text": [
      "Testing: 100%|███████████████████████████████████████████████████████████████████████████| 8/8 [00:00<00:00, 13.35it/s]\n"
     ]
    },
    {
     "name": "stdout",
     "output_type": "stream",
     "text": [
      "Precision: 0.7908\n",
      "Recall: 0.9210\n",
      "F1: 0.8510\n"
     ]
    },
    {
     "data": {
      "image/png": "[encoded data removed]",
      "text/plain": [
       "<Figure size 1200x1000 with 2 Axes>"
      ]
     },
     "metadata": {},
     "output_type": "display_data"
    }
   ],
   "source": [
    "print('BERT+LSTM type testing...')\n",
    "testing(model_bert_lstm,'best_bert_LSTM.pth', 'BERT', test_loader_bert)\n",
    "print('BERT+RNN type testing...')\n",
    "testing(model_bert_rnn,'best_bert_RNN.pth', 'BERT', test_loader_bert)"
   ]
  },
  {
   "cell_type": "markdown",
   "id": "06eae425-580f-4eb0-90dd-c3e0774e91b8",
   "metadata": {},
   "source": [
    "## 3.3"
   ]
  },
  {
   "cell_type": "markdown",
   "id": "e8f6b4cf-b992-45cb-94fb-a360d657f93d",
   "metadata": {},
   "source": [
    "Please see bert.ipynb"
   ]
  },
  {
   "cell_type": "markdown",
   "id": "81926085-3ff8-4782-8daf-71388eb66179",
   "metadata": {},
   "source": [
    "# 4. Perform an error analysis on the predictions obtained"
   ]
  },
  {
   "cell_type": "markdown",
   "id": "efac7b83-9ed0-489b-a533-d24166492f5b",
   "metadata": {},
   "source": [
    "Please see bert.ipynb"
   ]
  },
  {
   "cell_type": "markdown",
   "id": "2701b463-ea62-46f5-9640-be61902d09e2",
   "metadata": {},
   "source": [
    "# Hosting The Model\n",
    "Running the python code directly is recommended since there may be command line input to select local model"
   ]
  },
  {
   "cell_type": "code",
   "execution_count": null,
   "id": "84440f93-3bb3-4526-8aea-cbc49c2f160a",
   "metadata": {},
   "outputs": [],
   "source": [
    "!python token_classification.py"
   ]
  }
 ],
 "metadata": {
  "kernelspec": {
   "display_name": "Python [conda env:base] *",
   "language": "python",
   "name": "conda-base-py"
  },
  "language_info": {
   "codemirror_mode": {
    "name": "ipython",
    "version": 3
   },
   "file_extension": ".py",
   "mimetype": "text/x-python",
   "name": "python",
   "nbconvert_exporter": "python",
   "pygments_lexer": "ipython3",
   "version": "3.12.7"
  }
 },
 "nbformat": 4,
 "nbformat_minor": 5
}

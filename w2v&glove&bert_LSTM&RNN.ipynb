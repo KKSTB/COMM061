{
 "cells": [
  {
   "cell_type": "code",
   "execution_count": 102,
   "id": "530fa8b9-b254-479b-9292-c6e2f211207d",
   "metadata": {},
   "outputs": [],
   "source": [
    "import torch\n",
    "import torch.nn as nn\n",
    "import torch.optim as optim\n",
    "from torch.utils.data import Dataset, DataLoader\n",
    "from torch.nn.utils.rnn import pad_sequence, pack_padded_sequence, pad_packed_sequence\n",
    "from transformers import BertTokenizerFast, BertModel\n",
    "import datasets\n",
    "from gensim.models import Word2Vec\n",
    "import numpy as np\n",
    "from seqeval.metrics import f1_score, classification_report\n",
    "from collections import Counter\n",
    "from tqdm import tqdm\n",
    "import os\n",
    "\n",
    "dataset = datasets.load_dataset('surrey-nlp/PLOD-CW-25')\n",
    "train_data = dataset['train']\n",
    "val_data = dataset['validation']\n",
    "test_data = dataset['test']\n",
    "\n",
    "dataset_ext = datasets.load_dataset('surrey-nlp/PLODv2-filtered')\n",
    "train_data_ext = dataset_ext['train']\n",
    "val_data_ext = dataset_ext['validation']\n",
    "test_data_ext = dataset_ext['test']"
   ]
  },
  {
   "cell_type": "code",
   "execution_count": 104,
   "id": "d11ca42b-de24-4246-b5a7-4f01c2498106",
   "metadata": {},
   "outputs": [
    {
     "name": "stdout",
     "output_type": "stream",
     "text": [
      "CPU times: total: 0 ns\n",
      "Wall time: 0 ns\n"
     ]
    }
   ],
   "source": [
    "%%time\n",
    "#The original glove file is 300mb, but we only need a portion of the words, search them and save them in NPZ format\n",
    "def convert_glove_to_npz(glove_path, output_npz_path):\n",
    "    word_counts = Counter()\n",
    "    for sentence in train_data:\n",
    "        word_counts.update(sentence['tokens'])\n",
    "    for sentence in train_data_ext:\n",
    "        word_counts.update(sentence['tokens'])\n",
    "    vocab_all = ['<PAD>', '<UNK>'] + [word for word, count in sorted(word_counts.items(), key = lambda x:-x[1])]#sort by frequency\n",
    "    word2id_all = {word: idx for idx, word in enumerate(vocab_all)}\n",
    "\n",
    "    words = {}\n",
    "    vectors = np.zeros((len(vocab_all), 100), dtype=np.float32)\n",
    "    count = 0\n",
    "    with open(glove_path, 'r', encoding='utf-8') as f:\n",
    "        for idx, line in tqdm(enumerate(f), total=400000, desc=\"Processing\"):\n",
    "            row = line.rstrip().split()\n",
    "            if row[0] in vocab_all:\n",
    "                count += 1\n",
    "                words[row[0]] = word2id_all[row[0]]\n",
    "                vectors[word2id_all[row[0]]] = np.array(row[1:], dtype=np.float32)\n",
    "\n",
    "    np.savez_compressed(\n",
    "        output_npz_path,\n",
    "        words=words,\n",
    "        vectors=vectors\n",
    "    )\n",
    "    print(f\"Saved compressed GloVe to {output_npz_path}, found {count}/{len(vocab_all)} words\")\n",
    "\n",
    "#convert_glove_to_npz(\"glove.6B.100d.txt\", \"glove.6B.100d.PLOD-CW-25.npz\")"
   ]
  },
  {
   "cell_type": "code",
   "execution_count": 106,
   "id": "abd1aa4d-684d-44c4-b51c-4868fdac9cf2",
   "metadata": {},
   "outputs": [],
   "source": [
    "#Init\n",
    "class Config:\n",
    "    GLOVE_NPZ_PATH = 'glove.6B.100d.PLOD-CW-25.npz'\n",
    "    EMBEDDING_VEC = 100\n",
    "    HIDDEN = 128\n",
    "    BATCH_SIZE = 32\n",
    "    EPOCHS = 1\n",
    "    BERT_MODEL_NAME = 'bert-base-cased'\n",
    "    NUM_LSTM_LAYERS = 2\n",
    "    NUM_RNN_LAYERS = 2\n",
    "    MAX_LENGTH = 128\n",
    "    LEARNING_RATE = 1e-5\n",
    "    DEVICE = torch.device('cuda' if torch.cuda.is_available() else 'cpu')"
   ]
  },
  {
   "cell_type": "code",
   "execution_count": 108,
   "id": "6b71594a-2f2c-482a-bd07-56d9a17a95eb",
   "metadata": {},
   "outputs": [],
   "source": [
    "#Build vocabulary, convert to ID\n",
    "def build_vocab_id(data):\n",
    "    word_counts = Counter()\n",
    "    for sentence in data:\n",
    "        word_counts.update(sentence['tokens'])\n",
    "    vocab = ['<PAD>', '<UNK>'] + [word for word, count in sorted(word_counts.items(), key = lambda x:-x[1])]#sort by frequency\n",
    "    word2id = {word: idx for idx, word in enumerate(vocab)}\n",
    "    return vocab, word2id\n",
    "\n",
    "vocab, word2id = build_vocab_id(train_data)\n",
    "\n",
    "#Convert ner_tags to ID\n",
    "ner_labels = set()\n",
    "for split in [train_data, val_data, test_data]:\n",
    "    for data in split:\n",
    "        ner_labels.update(data['ner_tags'])\n",
    "ner_tag2id = {tag: idx for idx, tag in enumerate(ner_labels)}\n",
    "id2ner = {v: k for k, v in ner_tag2id.items()}"
   ]
  },
  {
   "cell_type": "code",
   "execution_count": 112,
   "id": "cbe1b267-eb5b-4b00-83e4-3af95ef1723d",
   "metadata": {},
   "outputs": [],
   "source": [
    "#Word2Vec\n",
    "def build_w2v_matrix(word2id, w2v_model):\n",
    "    embedding_w2v_matrix = np.zeros((len(vocab), Config.EMBEDDING_VEC))\n",
    "    for word, idx in word2id.items():\n",
    "        if word in w2v_model.wv:\n",
    "            embedding_w2v_matrix[idx] = w2v_model.wv[word]\n",
    "        elif word == '<PAD>':\n",
    "            embedding_w2v_matrix[idx] = np.zeros(Config.EMBEDDING_VEC)\n",
    "        else:\n",
    "            embedding_w2v_matrix[idx] = np.random.normal(size=(Config.EMBEDDING_VEC,))\n",
    "    return embedding_w2v_matrix\n",
    "\n",
    "w2v_model = Word2Vec(train_data['tokens'], vector_size=Config.EMBEDDING_VEC, window=3, min_count=1, workers=4, epochs=50)\n",
    "embedding_w2v_matrix = build_w2v_matrix(word2id, w2v_model)"
   ]
  },
  {
   "cell_type": "code",
   "execution_count": 114,
   "id": "143e4102-8be5-46fb-9cba-c94c2033d3e1",
   "metadata": {},
   "outputs": [
    {
     "name": "stdout",
     "output_type": "stream",
     "text": [
      "CPU times: total: 500 ms\n",
      "Wall time: 485 ms\n"
     ]
    }
   ],
   "source": [
    "%%time\n",
    "#GloVe\n",
    "def load_compressed_glove(npz_path):\n",
    "    data = np.load(npz_path, mmap_mode='r', allow_pickle=True)\n",
    "    return data['words'], data['vectors']\n",
    "\n",
    "glove_words, glove_vectors = load_compressed_glove(Config.GLOVE_NPZ_PATH)\n",
    "\n",
    "def build_glove_matrix(word2id, glove_words, glove_vectors):\n",
    "    embedding_glove_matrix = np.zeros((len(word2id), Config.EMBEDDING_VEC))\n",
    "    for word, idx in word2id.items():\n",
    "        if word in glove_words:\n",
    "            embedding_glove_matrix[idx] = glove_vectors[glove_words['word']]\n",
    "        elif word == '<PAD>':\n",
    "            embedding_glove_matrix[idx] = np.zeros(Config.EMBEDDING_VEC)\n",
    "        else:\n",
    "            embedding_glove_matrix[idx] = np.random.normal(size=(Config.EMBEDDING_VEC,))\n",
    "    return embedding_glove_matrix\n",
    "\n",
    "embedding_glove_matrix = build_glove_matrix(word2id, glove_words, glove_vectors)"
   ]
  },
  {
   "cell_type": "code",
   "execution_count": 116,
   "id": "4ab11988-e7d2-4aae-be18-a23a437c8d1e",
   "metadata": {},
   "outputs": [],
   "source": [
    "#BERT\n",
    "tokenizer = BertTokenizerFast.from_pretrained(Config.BERT_MODEL_NAME)"
   ]
  },
  {
   "cell_type": "code",
   "execution_count": 118,
   "id": "666901b3-0d70-443a-8398-974779b558b3",
   "metadata": {},
   "outputs": [],
   "source": [
    "#Custom dataset\n",
    "class NER_Dataset(Dataset):\n",
    "    def __init__(self, data, embedding_type = None, tokenizer = None):\n",
    "        self.data = data\n",
    "        self.embedding_type = embedding_type\n",
    "        self.tokenizer = tokenizer\n",
    "        \n",
    "    def __len__(self):\n",
    "        return len(self.data)\n",
    "    \n",
    "    def __getitem__(self, idx):\n",
    "        sentence = self.data[idx]\n",
    "        tokens = sentence['tokens']\n",
    "        ner_tags = sentence['ner_tags']\n",
    "\n",
    "        if self.embedding_type == 'BERT':#BERT\n",
    "            encoding = self.tokenizer(\n",
    "            tokens,\n",
    "            is_split_into_words=True,\n",
    "            truncation=True,\n",
    "            max_length=Config.MAX_LENGTH,\n",
    "            padding=False\n",
    "            )\n",
    "\n",
    "            word_ids = encoding.word_ids()\n",
    "            labels = []\n",
    "            current_word_id = None\n",
    "            \n",
    "            for word_id in word_ids:\n",
    "                if word_id is None:\n",
    "                    labels.append(-100)\n",
    "                else:\n",
    "                    if word_id != current_word_id:\n",
    "                        labels.append(ner_tag2id[ner_tags[word_id]])\n",
    "                        current_word_id = word_id\n",
    "                    else:\n",
    "                        labels.append(-100)\n",
    "    \n",
    "            return {\n",
    "                'input_ids': encoding['input_ids'],\n",
    "                'attention_mask': encoding['attention_mask'],\n",
    "                'labels': labels\n",
    "            }\n",
    "        else:\n",
    "            token_ids = [word2id.get(token, word2id['<UNK>']) for token in tokens]\n",
    "            ner_ids = [ner_tag2id[tag] for tag in ner_tags]\n",
    "            \n",
    "            return {\n",
    "                'token_ids': torch.LongTensor(token_ids),\n",
    "                'ner_ids': torch.LongTensor(ner_ids),\n",
    "                'lengths': len(token_ids)\n",
    "            }\n",
    "\n",
    "#Custom collate fuction\n",
    "def collate_fn(batch):\n",
    "    if 'attention_mask' in batch[0]:#BERT\n",
    "        max_length = max(len(x['input_ids']) for x in batch)\n",
    "    \n",
    "        input_ids = []\n",
    "        attention_masks = []\n",
    "        labels = []\n",
    "        \n",
    "        for x in batch:\n",
    "            pad_length = max_length - len(x['input_ids'])\n",
    "            input_ids.append(x['input_ids'] + [tokenizer.pad_token_id] * pad_length)\n",
    "            attention_masks.append(x['attention_mask'] + [0] * pad_length)\n",
    "            labels.append(x['labels'] + [-100] * pad_length)\n",
    "        \n",
    "        return {\n",
    "            'input_ids': torch.LongTensor(input_ids).to(Config.DEVICE),\n",
    "            'attention_mask': torch.LongTensor(attention_masks).to(Config.DEVICE),\n",
    "            'labels': torch.LongTensor(labels).to(Config.DEVICE)\n",
    "        }\n",
    "    else:\n",
    "        token_ids = [x['token_ids'] for x in batch]\n",
    "        ner_ids = [x['ner_ids'] for x in batch]\n",
    "        lengths = [x['lengths'] for x in batch]\n",
    "        \n",
    "        sorted_indices = np.argsort(lengths)[::-1]\n",
    "        token_ids = [token_ids[i] for i in sorted_indices]\n",
    "        ner_ids = [ner_ids[i] for i in sorted_indices]\n",
    "        lengths = [lengths[i] for i in sorted_indices]\n",
    "    \n",
    "        #Fill to the same length\n",
    "        token_ids = pad_sequence(token_ids, batch_first=True, padding_value=word2id['<PAD>'])\n",
    "        ner_ids = pad_sequence(ner_ids, batch_first=True, padding_value=-100)\n",
    "        \n",
    "        return {\n",
    "            'token_ids': token_ids.to(Config.DEVICE),\n",
    "            'ner_ids': ner_ids.to(Config.DEVICE),\n",
    "            'lengths': torch.LongTensor(lengths).to(Config.DEVICE)\n",
    "        }"
   ]
  },
  {
   "cell_type": "code",
   "execution_count": 120,
   "id": "248e5de3-0696-4d48-bca8-ccb031648b68",
   "metadata": {},
   "outputs": [],
   "source": [
    "#Word2Vec&GloVe\n",
    "train_dataset = NER_Dataset(train_data)\n",
    "val_dataset = NER_Dataset(val_data)\n",
    "test_dataset = NER_Dataset(test_data)\n",
    "\n",
    "train_loader = DataLoader(train_dataset, batch_size=Config.BATCH_SIZE, shuffle=True, collate_fn=collate_fn)\n",
    "val_loader = DataLoader(val_dataset, batch_size=Config.BATCH_SIZE, collate_fn=collate_fn)\n",
    "test_loader = DataLoader(test_dataset, batch_size=Config.BATCH_SIZE, collate_fn=collate_fn)\n",
    "\n",
    "#BERT\n",
    "train_dataset_bert = NER_Dataset(train_data, 'BERT', tokenizer)\n",
    "val_dataset_bert = NER_Dataset(val_data, 'BERT', tokenizer)\n",
    "test_dataset_bert = NER_Dataset(test_data, 'BERT', tokenizer)\n",
    "\n",
    "train_loader_bert = DataLoader(train_dataset_bert, batch_size=Config.BATCH_SIZE, shuffle=True, collate_fn=collate_fn)\n",
    "val_loader_bert = DataLoader(val_dataset_bert, batch_size=Config.BATCH_SIZE, collate_fn=collate_fn)\n",
    "test_loader_bert = DataLoader(test_dataset_bert, batch_size=Config.BATCH_SIZE, collate_fn=collate_fn)"
   ]
  },
  {
   "cell_type": "code",
   "execution_count": 122,
   "id": "5eb31e74-aab8-452c-88ad-4a9aa751951d",
   "metadata": {},
   "outputs": [],
   "source": [
    "#Init LSTM model\n",
    "class NER_Model(nn.Module):\n",
    "    def __init__(self, embedding_type, model_type='LSTM'):\n",
    "        super().__init__()\n",
    "        self.embedding_type = embedding_type\n",
    "        self.model_type = model_type\n",
    "\n",
    "        if self.embedding_type == 'Word2Vec':\n",
    "            self.embedding = nn.Embedding.from_pretrained(\n",
    "                torch.FloatTensor(embedding_w2v_matrix),\n",
    "                padding_idx=word2id['<PAD>']\n",
    "            )\n",
    "            self.lstm = nn.LSTM(Config.EMBEDDING_VEC, Config.HIDDEN, bidirectional=True, num_layers=Config.NUM_LSTM_LAYERS, dropout=0.3)\n",
    "        elif self.embedding_type == 'GloVe':\n",
    "            self.embedding = nn.Embedding.from_pretrained(\n",
    "                torch.FloatTensor(embedding_glove_matrix),\n",
    "                padding_idx=word2id['<PAD>']\n",
    "            )\n",
    "            self.lstm = nn.LSTM(Config.EMBEDDING_VEC, Config.HIDDEN, bidirectional=True, num_layers=Config.NUM_LSTM_LAYERS, dropout=0.3)\n",
    "        elif self.embedding_type == 'BERT':\n",
    "            self.bertmodel = BertModel.from_pretrained(Config.BERT_MODEL_NAME)\n",
    "            self.lstm = nn.LSTM(\n",
    "            input_size=self.bertmodel.config.hidden_size,\n",
    "            hidden_size=Config.HIDDEN,\n",
    "            num_layers=Config.NUM_LSTM_LAYERS,\n",
    "            bidirectional=True,\n",
    "            batch_first=True,\n",
    "            dropout=0.3\n",
    "            )\n",
    "            self.rnn = nn.RNN(\n",
    "            input_size=self.bertmodel.config.hidden_size,\n",
    "            hidden_size=Config.HIDDEN,\n",
    "            num_layers=Config.NUM_RNN_LAYERS,\n",
    "            bidirectional=True,\n",
    "            batch_first=True,\n",
    "            nonlinearity='relu',\n",
    "            dropout=0.3\n",
    "            )\n",
    "        self.fc = nn.Linear(Config.HIDDEN*2, len(ner_tag2id))\n",
    "        \n",
    "    def forward(self, token_ids=None, lengths=None, input_ids=None, attention_mask=None):\n",
    "        if self.embedding_type == 'BERT':\n",
    "            outputs = self.bertmodel(input_ids=input_ids, attention_mask=attention_mask)\n",
    "            sequence_output = outputs.last_hidden_state\n",
    "            if self.model_type == 'LSTM':\n",
    "                output, _ = self.lstm(sequence_output)\n",
    "            else:\n",
    "                output, _ = self.rnn(sequence_output)\n",
    "            return self.fc(output)\n",
    "        else:\n",
    "            emb_tokens = self.embedding(token_ids)\n",
    "            packed = pack_padded_sequence(emb_tokens, lengths.cpu(), batch_first=True, enforce_sorted=False)\n",
    "            output, _ = self.lstm(packed)\n",
    "            output, _ = pad_packed_sequence(output, batch_first=True)\n",
    "            return self.fc(output)"
   ]
  },
  {
   "cell_type": "code",
   "execution_count": null,
   "id": "fbb062c5-b990-4d62-b7b8-5ce0b2d9d717",
   "metadata": {},
   "outputs": [],
   "source": [
    "def eval_ner(y_true, y_pred, labels):\n",
    "    report = classification_report(y_true, y_pred, output_dict=True)\n",
    "    precision = report['micro avg']['precision']\n",
    "    recall = report['micro avg']['recall']\n",
    "    f1 = report['micro avg']['f1-score']\n",
    "\n",
    "    return precision, recall, f1"
   ]
  },
  {
   "cell_type": "code",
   "execution_count": 138,
   "id": "be495949-d19f-4db4-8c89-0c45cf536552",
   "metadata": {},
   "outputs": [],
   "source": [
    "#Init training\n",
    "def training(model, model_name, embedding_type, train_loader, val_loader):\n",
    "    best_f1 = -1\n",
    "    for epoch in range(Config.EPOCHS):\n",
    "        #Train\n",
    "        model.train()\n",
    "        train_loss = 0\n",
    "        for batch in tqdm(train_loader, desc=f\"Training Epoch {epoch+1}\"):\n",
    "            optimizer.zero_grad()\n",
    "            if embedding_type == 'BERT':#BERT\n",
    "                logits = model(None, None, batch['input_ids'], batch['attention_mask'])\n",
    "                loss = criterion(logits.view(-1, len(ner_tag2id)), batch['labels'].view(-1))\n",
    "            else:\n",
    "                logits = model(batch['token_ids'], batch['lengths'], None, None)\n",
    "                loss = criterion(logits.view(-1, len(ner_tag2id)), batch['ner_ids'].view(-1))         \n",
    "            loss.backward()\n",
    "            optimizer.step()\n",
    "            train_loss += loss.item()\n",
    "        \n",
    "        #Evaluate\n",
    "        model.eval()\n",
    "        val_loss = 0\n",
    "        all_preds, all_labels = [], []\n",
    "        with torch.no_grad():\n",
    "            for batch in tqdm(val_loader, desc=f\"Validating Epoch {epoch+1}\"):\n",
    "                if embedding_type == 'BERT':#BERT\n",
    "                    logits = model(None, None, batch['input_ids'], batch['attention_mask'])\n",
    "                    loss = criterion(logits.view(-1, len(ner_tag2id)), batch['labels'].view(-1))\n",
    "                    val_loss += loss.item()\n",
    "                    \n",
    "                    preds = torch.argmax(logits, dim=-1).cpu().numpy()\n",
    "                    labels = batch['labels'].cpu().numpy()\n",
    "\n",
    "                    for i in range(preds.shape[0]):\n",
    "                        valid_labels = []\n",
    "                        valid_preds = []\n",
    "                        for j in range(preds.shape[1]):\n",
    "                            if labels[i][j] != -100:\n",
    "                                valid_labels.append(id2ner[labels[i][j]])\n",
    "                                valid_preds.append(id2ner[preds[i][j]])\n",
    "                        all_labels.append(valid_labels)\n",
    "                        all_preds.append(valid_preds)\n",
    "                else:\n",
    "                    logits = model(batch['token_ids'], batch['lengths'], None, None)\n",
    "                    loss = criterion(logits.view(-1, len(ner_tag2id)), batch['ner_ids'].view(-1)) \n",
    "                    val_loss += loss.item()\n",
    "                    \n",
    "                    preds = torch.argmax(logits, dim=-1).cpu().numpy()\n",
    "                    labels = batch['ner_ids'].cpu().numpy()\n",
    "\n",
    "                    for i in range(len(batch['lengths'])):\n",
    "                        valid_preds = []\n",
    "                        valid_labels = []\n",
    "                        length = batch['lengths'][i]\n",
    "                        result_preds = preds[i, :length]\n",
    "                        result_labels = labels[i, :length]\n",
    "                        mask = result_labels != -100\n",
    "                        for i in result_preds[mask].tolist():\n",
    "                            valid_preds.append(id2ner[i])\n",
    "                        for i in result_labels[mask].tolist():\n",
    "                            valid_labels.append(id2ner[i])\n",
    "                        all_preds.append(valid_preds)\n",
    "                        all_labels.append(valid_labels)\n",
    "\n",
    "        val_f1 = f1_score(all_labels, all_preds)\n",
    "    \n",
    "        if val_f1 > best_f1:\n",
    "            best_f1 = val_f1\n",
    "            torch.save(model.state_dict(), model_name)\n",
    "            print('Best model saved!')\n",
    "        \n",
    "        print(f\"Epoch {epoch+1}/{Config.EPOCHS}\")\n",
    "        print(f\"Train Loss: {train_loss/len(train_loader):.4f}\")\n",
    "        print(f\"Val Loss: {val_loss/len(val_loader):.4f}\")\n",
    "        print(f\"Val F1: {val_f1:.4f}\\n\")"
   ]
  },
  {
   "cell_type": "code",
   "execution_count": 146,
   "id": "519fa33b-bce0-4945-9cc5-1f559f6dc836",
   "metadata": {},
   "outputs": [
    {
     "name": "stdout",
     "output_type": "stream",
     "text": [
      "BERT+LSTM type training...\n"
     ]
    },
    {
     "name": "stderr",
     "output_type": "stream",
     "text": [
      "Training Epoch 1: 100%|████████████████████████████████████████████████████████████████| 63/63 [00:11<00:00,  5.56it/s]\n",
      "Validating Epoch 1: 100%|████████████████████████████████████████████████████████████████| 5/5 [00:00<00:00, 14.87it/s]\n"
     ]
    },
    {
     "name": "stdout",
     "output_type": "stream",
     "text": [
      "Best model saved!\n",
      "Epoch 1/1\n",
      "Train Loss: 0.9113\n",
      "Val Loss: 0.9216\n",
      "Val F1: 0.0000\n",
      "\n",
      "CPU times: total: 12.8 s\n",
      "Wall time: 17.3 s\n"
     ]
    }
   ],
   "source": [
    "%%time\n",
    "#BERT+LSTM\n",
    "print('BERT+LSTM type training...')\n",
    "model_bert_lstm = NER_Model('BERT','LSTM').to(Config.DEVICE)\n",
    "optimizer = optim.Adam(model_bert_lstm.parameters(), lr=Config.LEARNING_RATE)\n",
    "criterion = nn.CrossEntropyLoss(ignore_index=-100, label_smoothing=0.1)\n",
    "training(model_bert_lstm,'best_bert_LSTM.pth', 'BERT', train_loader_bert, val_loader_bert)"
   ]
  },
  {
   "cell_type": "code",
   "execution_count": 148,
   "id": "fa4d6f41-e014-4503-8780-fac435884229",
   "metadata": {},
   "outputs": [
    {
     "name": "stdout",
     "output_type": "stream",
     "text": [
      "BERT+RNN type training...\n"
     ]
    },
    {
     "name": "stderr",
     "output_type": "stream",
     "text": [
      "Training Epoch 1: 100%|████████████████████████████████████████████████████████████████| 63/63 [00:11<00:00,  5.50it/s]\n",
      "Validating Epoch 1: 100%|████████████████████████████████████████████████████████████████| 5/5 [00:00<00:00, 14.22it/s]\n"
     ]
    },
    {
     "name": "stdout",
     "output_type": "stream",
     "text": [
      "Best model saved!\n",
      "Epoch 1/1\n",
      "Train Loss: 0.9098\n",
      "Val Loss: 0.9216\n",
      "Val F1: 0.0000\n",
      "\n",
      "CPU times: total: 13 s\n",
      "Wall time: 19.5 s\n"
     ]
    }
   ],
   "source": [
    "%%time\n",
    "#BERT\n",
    "print('BERT+RNN type training...')\n",
    "model_bert_rnn = NER_Model('BERT','RNN').to(Config.DEVICE)\n",
    "optimizer = optim.Adam(model_bert_rnn.parameters(), lr=Config.LEARNING_RATE)\n",
    "criterion = nn.CrossEntropyLoss(ignore_index=-100, label_smoothing=0.1)\n",
    "training(model_bert_rnn,'best_bert_RNN.pth', 'BERT', train_loader_bert, val_loader_bert)"
   ]
  },
  {
   "cell_type": "code",
   "execution_count": 132,
   "id": "3a6e5266-1731-4711-9341-022b2bc7e9d0",
   "metadata": {},
   "outputs": [
    {
     "name": "stdout",
     "output_type": "stream",
     "text": [
      "Word2Vec type training...\n"
     ]
    },
    {
     "name": "stderr",
     "output_type": "stream",
     "text": [
      "Training Epoch 1: 100%|████████████████████████████████████████████████████████████████| 63/63 [00:05<00:00, 10.93it/s]\n",
      "Validating Epoch 1: 100%|████████████████████████████████████████████████████████████████| 5/5 [00:00<00:00, 23.55it/s]\n"
     ]
    },
    {
     "name": "stdout",
     "output_type": "stream",
     "text": [
      "Best model saved!\n",
      "Epoch 1/1\n",
      "Train Loss: 1.3556\n",
      "Val Loss: 1.3365\n",
      "Val F1: 0.0536\n",
      "\n",
      "CPU times: total: 8.84 s\n",
      "Wall time: 6.12 s\n"
     ]
    }
   ],
   "source": [
    "%%time\n",
    "#Word2Vec\n",
    "print('Word2Vec type training...')\n",
    "model_w2v = NER_Model('Word2Vec').to(Config.DEVICE)\n",
    "optimizer = optim.Adam(model_w2v.parameters(), lr=Config.LEARNING_RATE)\n",
    "criterion = nn.CrossEntropyLoss(ignore_index=-100, label_smoothing=0.1)\n",
    "training(model_w2v,'best_w2v_LSTM.pth', 'Word2Vec', train_loader, val_loader)"
   ]
  },
  {
   "cell_type": "code",
   "execution_count": 134,
   "id": "d245d382-e94f-4bcd-ba8d-72195cf4b056",
   "metadata": {},
   "outputs": [
    {
     "name": "stdout",
     "output_type": "stream",
     "text": [
      "GloVe type training...\n"
     ]
    },
    {
     "name": "stderr",
     "output_type": "stream",
     "text": [
      "Training Epoch 1: 100%|████████████████████████████████████████████████████████████████| 63/63 [00:05<00:00, 11.22it/s]\n",
      "Validating Epoch 1: 100%|████████████████████████████████████████████████████████████████| 5/5 [00:00<00:00, 24.47it/s]\n"
     ]
    },
    {
     "name": "stdout",
     "output_type": "stream",
     "text": [
      "Best model saved!\n",
      "Epoch 1/1\n",
      "Train Loss: 1.3991\n",
      "Val Loss: 1.3801\n",
      "Val F1: 0.1033\n",
      "\n",
      "CPU times: total: 8.94 s\n",
      "Wall time: 5.97 s\n"
     ]
    }
   ],
   "source": [
    "%%time\n",
    "#GloVe\n",
    "print('GloVe type training...')\n",
    "model_glove = NER_Model('GloVe').to(Config.DEVICE)\n",
    "optimizer = optim.Adam(model_glove.parameters(), lr=Config.LEARNING_RATE)\n",
    "criterion = nn.CrossEntropyLoss(ignore_index=-100, label_smoothing=0.1)\n",
    "training(model_glove, 'best_glove_LSTM.pth', 'GloVe', train_loader, val_loader)"
   ]
  },
  {
   "cell_type": "code",
   "execution_count": 154,
   "id": "63704805-fbb0-486f-b82c-1f38c153cde6",
   "metadata": {},
   "outputs": [],
   "source": [
    "def testing(model, model_name, embedding_type, test_loader):\n",
    "    model.load_state_dict(torch.load(model_name))\n",
    "    model.eval()\n",
    "    \n",
    "    all_preds, all_labels = [], []\n",
    "    with torch.no_grad():\n",
    "        for batch in tqdm(test_loader, desc=\"Testing\"):\n",
    "            if embedding_type == 'BERT':#BERT\n",
    "                logits = model(None, None, batch['input_ids'], batch['attention_mask'])\n",
    "                preds = torch.argmax(logits, dim=-1).cpu().numpy()\n",
    "                labels = batch['labels'].cpu().numpy()\n",
    "\n",
    "                for i in range(preds.shape[0]):\n",
    "                    valid_labels = []\n",
    "                    valid_preds = []\n",
    "                    for j in range(preds.shape[1]):\n",
    "                        if labels[i][j] != -100:\n",
    "                            valid_labels.append(id2ner[labels[i][j]])\n",
    "                            valid_preds.append(id2ner[preds[i][j]])\n",
    "                    all_labels.append(valid_labels)\n",
    "                    all_preds.append(valid_preds)\n",
    "            else:\n",
    "                logits = model(batch['token_ids'], batch['lengths'], None, None)\n",
    "                preds = torch.argmax(logits, dim=-1).cpu().numpy()\n",
    "                labels = batch['ner_ids'].cpu().numpy()\n",
    "\n",
    "                for i in range(len(batch['lengths'])):\n",
    "                    valid_preds = []\n",
    "                    valid_labels = []\n",
    "                    length = batch['lengths'][i]\n",
    "                    result_preds = preds[i, :length]\n",
    "                    result_labels = labels[i, :length]\n",
    "                    mask = result_labels != -100\n",
    "                    for i in result_preds[mask].tolist():\n",
    "                        valid_preds.append(id2ner[i])\n",
    "                    for i in result_labels[mask].tolist():\n",
    "                        valid_labels.append(id2ner[i])\n",
    "                    all_preds.append(valid_preds)\n",
    "                    all_labels.append(valid_labels)\n",
    "    \n",
    "    test_f1 = f1_score(all_labels, all_preds)\n",
    "    print(f\"Test F1 Score: {test_f1:.4f}\")\n",
    "    report = classification_report(all_labels, all_preds)\n",
    "    print(report)"
   ]
  },
  {
   "cell_type": "code",
   "execution_count": 156,
   "id": "8fa193a0-f4e9-478d-bac5-0d825d34bd8d",
   "metadata": {},
   "outputs": [
    {
     "name": "stdout",
     "output_type": "stream",
     "text": [
      "Word2Vec type testing...\n"
     ]
    },
    {
     "name": "stderr",
     "output_type": "stream",
     "text": [
      "Testing: 100%|███████████████████████████████████████████████████████████████████████████| 8/8 [00:00<00:00, 18.88it/s]\n"
     ]
    },
    {
     "name": "stdout",
     "output_type": "stream",
     "text": [
      "Test F1 Score: 0.0590\n",
      "              precision    recall  f1-score   support\n",
      "\n",
      "          AC       0.16      0.06      0.09       797\n",
      "          LF       0.02      0.00      0.01       482\n",
      "\n",
      "   micro avg       0.13      0.04      0.06      1279\n",
      "   macro avg       0.09      0.03      0.05      1279\n",
      "weighted avg       0.11      0.04      0.06      1279\n",
      "\n",
      "GloVe type testing...\n"
     ]
    },
    {
     "name": "stderr",
     "output_type": "stream",
     "text": [
      "Testing: 100%|███████████████████████████████████████████████████████████████████████████| 8/8 [00:00<00:00, 22.40it/s]\n"
     ]
    },
    {
     "name": "stdout",
     "output_type": "stream",
     "text": [
      "Test F1 Score: 0.0839\n",
      "              precision    recall  f1-score   support\n",
      "\n",
      "          AC       0.11      0.17      0.13       797\n",
      "          LF       0.01      0.01      0.01       482\n",
      "\n",
      "   micro avg       0.07      0.11      0.08      1279\n",
      "   macro avg       0.06      0.09      0.07      1279\n",
      "weighted avg       0.07      0.11      0.09      1279\n",
      "\n",
      "BERT+LSTM type testing...\n"
     ]
    },
    {
     "name": "stderr",
     "output_type": "stream",
     "text": [
      "Testing: 100%|███████████████████████████████████████████████████████████████████████████| 8/8 [00:00<00:00, 11.09it/s]\n",
      "C:\\Users\\darkn\\anaconda3\\Lib\\site-packages\\seqeval\\metrics\\v1.py:57: UndefinedMetricWarning: Precision and F-score are ill-defined and being set to 0.0 in labels with no predicted samples. Use `zero_division` parameter to control this behavior.\n",
      "  _warn_prf(average, modifier, msg_start, len(result))\n",
      "C:\\Users\\darkn\\anaconda3\\Lib\\site-packages\\seqeval\\metrics\\v1.py:57: UndefinedMetricWarning: Precision and F-score are ill-defined and being set to 0.0 due to no predicted samples. Use `zero_division` parameter to control this behavior.\n",
      "  _warn_prf(average, modifier, msg_start, len(result))\n"
     ]
    },
    {
     "name": "stdout",
     "output_type": "stream",
     "text": [
      "Test F1 Score: 0.0000\n",
      "              precision    recall  f1-score   support\n",
      "\n",
      "          AC       0.00      0.00      0.00       756\n",
      "          LF       0.00      0.00      0.00       459\n",
      "\n",
      "   micro avg       0.00      0.00      0.00      1215\n",
      "   macro avg       0.00      0.00      0.00      1215\n",
      "weighted avg       0.00      0.00      0.00      1215\n",
      "\n",
      "BERT+RNN type testing...\n"
     ]
    },
    {
     "name": "stderr",
     "output_type": "stream",
     "text": [
      "Testing: 100%|███████████████████████████████████████████████████████████████████████████| 8/8 [00:00<00:00, 14.53it/s]\n"
     ]
    },
    {
     "name": "stdout",
     "output_type": "stream",
     "text": [
      "Test F1 Score: 0.0052\n",
      "              precision    recall  f1-score   support\n",
      "\n",
      "          AC       0.04      0.00      0.01       756\n",
      "          LF       0.00      0.05      0.01       459\n",
      "\n",
      "   micro avg       0.00      0.02      0.01      1215\n",
      "   macro avg       0.02      0.03      0.01      1215\n",
      "weighted avg       0.03      0.02      0.01      1215\n",
      "\n"
     ]
    }
   ],
   "source": [
    "print('Word2Vec type testing...')\n",
    "testing(model_w2v,'best_w2v_LSTM.pth', 'Word2Vec', test_loader)\n",
    "print('GloVe type testing...')\n",
    "testing(model_glove,'best_glove_LSTM.pth', 'GloVe', test_loader)\n",
    "print('BERT+LSTM type testing...')\n",
    "testing(model_bert_lstm,'best_bert_LSTM.pth', 'BERT', test_loader_bert)\n",
    "print('BERT+RNN type testing...')\n",
    "testing(model_bert_rnn,'best_bert_RNN.pth', 'BERT', test_loader_bert)"
   ]
  },
  {
   "cell_type": "code",
   "execution_count": null,
   "id": "2df04acc-6585-4f7d-af16-ebec2a49e04a",
   "metadata": {},
   "outputs": [],
   "source": []
  }
 ],
 "metadata": {
  "kernelspec": {
   "display_name": "Python [conda env:base] *",
   "language": "python",
   "name": "conda-base-py"
  },
  "language_info": {
   "codemirror_mode": {
    "name": "ipython",
    "version": 3
   },
   "file_extension": ".py",
   "mimetype": "text/x-python",
   "name": "python",
   "nbconvert_exporter": "python",
   "pygments_lexer": "ipython3",
   "version": "3.12.7"
  }
 },
 "nbformat": 4,
 "nbformat_minor": 5
}

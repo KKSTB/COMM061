{
 "cells": [
  {
   "cell_type": "code",
   "execution_count": 59,
   "id": "530fa8b9-b254-479b-9292-c6e2f211207d",
   "metadata": {},
   "outputs": [],
   "source": [
    "import torch\n",
    "import torch.nn as nn\n",
    "import torch.optim as optim\n",
    "from torch.utils.data import Dataset, DataLoader\n",
    "from torch.nn.utils.rnn import pad_sequence, pack_padded_sequence, pad_packed_sequence\n",
    "from transformers import BertTokenizerFast, BertModel\n",
    "import datasets\n",
    "from gensim.models import Word2Vec\n",
    "import numpy as np\n",
    "from seqeval.metrics import f1_score#, classification_report\n",
    "from sklearn.metrics import classification_report\n",
    "from collections import Counter\n",
    "from tqdm import tqdm\n",
    "import os\n",
    "\n",
    "dataset = datasets.load_dataset('surrey-nlp/PLOD-CW-25')\n",
    "train_data = dataset['train']\n",
    "val_data = dataset['validation']\n",
    "test_data = dataset['test']\n",
    "\n",
    "dataset_ext = datasets.load_dataset('surrey-nlp/PLODv2-filtered')\n",
    "train_data_ext = dataset_ext['train']\n",
    "val_data_ext = dataset_ext['validation']\n",
    "test_data_ext = dataset_ext['test']"
   ]
  },
  {
   "cell_type": "code",
   "execution_count": 3,
   "id": "d11ca42b-de24-4246-b5a7-4f01c2498106",
   "metadata": {},
   "outputs": [
    {
     "name": "stdout",
     "output_type": "stream",
     "text": [
      "CPU times: total: 0 ns\n",
      "Wall time: 0 ns\n"
     ]
    }
   ],
   "source": [
    "%%time\n",
    "#The original glove file is 300mb, but we only need a portion of the words, search them and save them in NPZ format\n",
    "def convert_glove_to_npz(glove_path, output_npz_path):\n",
    "    word_counts = Counter()\n",
    "    for sentence in train_data:\n",
    "        word_counts.update(sentence['tokens'])\n",
    "    for sentence in train_data_ext:\n",
    "        word_counts.update(sentence['tokens'])\n",
    "    vocab_all = ['<PAD>', '<UNK>'] + [word for word, count in sorted(word_counts.items(), key = lambda x:-x[1])]#sort by frequency\n",
    "    word2id_all = {word: idx for idx, word in enumerate(vocab_all)}\n",
    "\n",
    "    words = {}\n",
    "    vectors = np.zeros((len(vocab_all), 100), dtype=np.float32)\n",
    "    count = 0\n",
    "    with open(glove_path, 'r', encoding='utf-8') as f:\n",
    "        for idx, line in tqdm(enumerate(f), total=400000, desc=\"Processing\"):\n",
    "            row = line.rstrip().split()\n",
    "            if row[0] in vocab_all:\n",
    "                count += 1\n",
    "                words[row[0]] = word2id_all[row[0]]\n",
    "                vectors[word2id_all[row[0]]] = np.array(row[1:], dtype=np.float32)\n",
    "\n",
    "    np.savez_compressed(\n",
    "        output_npz_path,\n",
    "        words=words,\n",
    "        vectors=vectors\n",
    "    )\n",
    "    print(f\"Saved compressed GloVe to {output_npz_path}, found {count}/{len(vocab_all)} words\")\n",
    "\n",
    "#convert_glove_to_npz(\"glove.6B.100d.txt\", \"glove.6B.100d.PLOD-CW-25.npz\")"
   ]
  },
  {
   "cell_type": "code",
   "execution_count": 25,
   "id": "abd1aa4d-684d-44c4-b51c-4868fdac9cf2",
   "metadata": {},
   "outputs": [],
   "source": [
    "#Init\n",
    "class Config:\n",
    "    GLOVE_NPZ_PATH = 'glove.6B.100d.PLOD-CW-25.npz'\n",
    "    EMBEDDING_VEC = 100\n",
    "    HIDDEN = 128\n",
    "    BATCH_SIZE = 32\n",
    "    EPOCHS = 5\n",
    "    BERT_MODEL_NAME = 'bert-base-cased'\n",
    "    NUM_LSTM_LAYERS = 2\n",
    "    NUM_RNN_LAYERS = 2\n",
    "    MAX_LENGTH = 128\n",
    "    LEARNING_RATE = 1e-5\n",
    "    DEVICE = torch.device('cuda' if torch.cuda.is_available() else 'cpu')"
   ]
  },
  {
   "cell_type": "code",
   "execution_count": 7,
   "id": "6b71594a-2f2c-482a-bd07-56d9a17a95eb",
   "metadata": {},
   "outputs": [],
   "source": [
    "#Build vocabulary, convert to ID\n",
    "def build_vocab_id(data):\n",
    "    word_counts = Counter()\n",
    "    for sentence in data:\n",
    "        word_counts.update(sentence['tokens'])\n",
    "    vocab = ['<PAD>', '<UNK>'] + [word for word, count in sorted(word_counts.items(), key = lambda x:-x[1])]#sort by frequency\n",
    "    word2id = {word: idx for idx, word in enumerate(vocab)}\n",
    "    return vocab, word2id\n",
    "\n",
    "vocab, word2id = build_vocab_id(train_data)\n",
    "\n",
    "#Convert ner_tags to ID\n",
    "ner_labels = set()\n",
    "for split in [train_data, val_data, test_data]:\n",
    "    for data in split:\n",
    "        ner_labels.update(data['ner_tags'])\n",
    "ner_tag2id = {tag: idx for idx, tag in enumerate(ner_labels)}\n",
    "ner_tag2id['<PAD>'] = -100\n",
    "id2ner = {v: k for k, v in ner_tag2id.items()}"
   ]
  },
  {
   "cell_type": "code",
   "execution_count": 19,
   "id": "cbe1b267-eb5b-4b00-83e4-3af95ef1723d",
   "metadata": {},
   "outputs": [],
   "source": [
    "#Word2Vec\n",
    "def build_w2v_matrix(word2id, w2v_model):\n",
    "    embedding_w2v_matrix = np.zeros((len(vocab), Config.EMBEDDING_VEC))\n",
    "    for word, idx in word2id.items():\n",
    "        if word in w2v_model.wv:\n",
    "            embedding_w2v_matrix[idx] = w2v_model.wv[word]\n",
    "        elif word == '<PAD>':\n",
    "            embedding_w2v_matrix[idx] = np.zeros(Config.EMBEDDING_VEC)\n",
    "        else:\n",
    "            embedding_w2v_matrix[idx] = np.random.normal(size=(Config.EMBEDDING_VEC,))\n",
    "    return embedding_w2v_matrix\n",
    "\n",
    "w2v_model = Word2Vec(train_data['tokens'], vector_size=Config.EMBEDDING_VEC, window=3, min_count=1, workers=4, epochs=50)\n",
    "embedding_w2v_matrix = build_w2v_matrix(word2id, w2v_model)"
   ]
  },
  {
   "cell_type": "code",
   "execution_count": 21,
   "id": "143e4102-8be5-46fb-9cba-c94c2033d3e1",
   "metadata": {},
   "outputs": [
    {
     "name": "stdout",
     "output_type": "stream",
     "text": [
      "CPU times: total: 469 ms\n",
      "Wall time: 1.15 s\n"
     ]
    }
   ],
   "source": [
    "%%time\n",
    "#GloVe\n",
    "def load_compressed_glove(npz_path):\n",
    "    data = np.load(npz_path, mmap_mode='r', allow_pickle=True)\n",
    "    return data['words'], data['vectors']\n",
    "\n",
    "glove_words, glove_vectors = load_compressed_glove(Config.GLOVE_NPZ_PATH)\n",
    "\n",
    "def build_glove_matrix(word2id, glove_words, glove_vectors):\n",
    "    embedding_glove_matrix = np.zeros((len(word2id), Config.EMBEDDING_VEC))\n",
    "    for word, idx in word2id.items():\n",
    "        if word in glove_words:\n",
    "            embedding_glove_matrix[idx] = glove_vectors[glove_words['word']]\n",
    "        elif word == '<PAD>':\n",
    "            embedding_glove_matrix[idx] = np.zeros(Config.EMBEDDING_VEC)\n",
    "        else:\n",
    "            embedding_glove_matrix[idx] = np.random.normal(size=(Config.EMBEDDING_VEC,))\n",
    "    return embedding_glove_matrix\n",
    "\n",
    "embedding_glove_matrix = build_glove_matrix(word2id, glove_words, glove_vectors)"
   ]
  },
  {
   "cell_type": "code",
   "execution_count": 23,
   "id": "4ab11988-e7d2-4aae-be18-a23a437c8d1e",
   "metadata": {},
   "outputs": [],
   "source": [
    "#BERT\n",
    "tokenizer = BertTokenizerFast.from_pretrained(Config.BERT_MODEL_NAME)"
   ]
  },
  {
   "cell_type": "code",
   "execution_count": 27,
   "id": "666901b3-0d70-443a-8398-974779b558b3",
   "metadata": {},
   "outputs": [],
   "source": [
    "#Custom dataset\n",
    "class NER_Dataset(Dataset):\n",
    "    def __init__(self, data, embedding_type = None, tokenizer = None):\n",
    "        self.data = data\n",
    "        self.embedding_type = embedding_type\n",
    "        self.tokenizer = tokenizer\n",
    "        \n",
    "    def __len__(self):\n",
    "        return len(self.data)\n",
    "    \n",
    "    def __getitem__(self, idx):\n",
    "        sentence = self.data[idx]\n",
    "        tokens = sentence['tokens']\n",
    "        ner_tags = sentence['ner_tags']\n",
    "\n",
    "        if self.embedding_type == 'BERT':#BERT\n",
    "            encoding = self.tokenizer(\n",
    "            tokens,\n",
    "            is_split_into_words=True,\n",
    "            truncation=True,\n",
    "            max_length=Config.MAX_LENGTH,\n",
    "            padding=False\n",
    "            )\n",
    "\n",
    "            word_ids = encoding.word_ids()\n",
    "            labels = []\n",
    "            current_word_id = None\n",
    "            \n",
    "            for word_id in word_ids:\n",
    "                if word_id is None:\n",
    "                    labels.append(ner_tag2id['<PAD>'])\n",
    "                else:\n",
    "                    if word_id != current_word_id:\n",
    "                        labels.append(ner_tag2id[ner_tags[word_id]])\n",
    "                        current_word_id = word_id\n",
    "                    else:\n",
    "                        labels.append(ner_tag2id['<PAD>'])\n",
    "    \n",
    "            return {\n",
    "                'input_ids': encoding['input_ids'],\n",
    "                'attention_mask': encoding['attention_mask'],\n",
    "                'labels': labels\n",
    "            }\n",
    "        else:\n",
    "            token_ids = [word2id.get(token, word2id['<UNK>']) for token in tokens]\n",
    "            ner_ids = [ner_tag2id[tag] for tag in ner_tags]\n",
    "            \n",
    "            return {\n",
    "                'token_ids': torch.LongTensor(token_ids),\n",
    "                'ner_ids': torch.LongTensor(ner_ids),\n",
    "                'lengths': len(token_ids)\n",
    "            }\n",
    "\n",
    "#Custom collate fuction\n",
    "def collate_fn(batch):\n",
    "    if 'attention_mask' in batch[0]:#BERT\n",
    "        max_length = max(len(x['input_ids']) for x in batch)\n",
    "    \n",
    "        input_ids = []\n",
    "        attention_masks = []\n",
    "        labels = []\n",
    "        \n",
    "        for x in batch:\n",
    "            pad_length = max_length - len(x['input_ids'])\n",
    "            input_ids.append(x['input_ids'] + [tokenizer.pad_token_id] * pad_length)\n",
    "            attention_masks.append(x['attention_mask'] + [0] * pad_length)\n",
    "            labels.append(x['labels'] + [ner_tag2id['<PAD>']] * pad_length)\n",
    "        \n",
    "        return {\n",
    "            'input_ids': torch.LongTensor(input_ids).to(Config.DEVICE),\n",
    "            'attention_mask': torch.LongTensor(attention_masks).to(Config.DEVICE),\n",
    "            'labels': torch.LongTensor(labels).to(Config.DEVICE)\n",
    "        }\n",
    "    else:\n",
    "        token_ids = [x['token_ids'] for x in batch]\n",
    "        ner_ids = [x['ner_ids'] for x in batch]\n",
    "        lengths = [x['lengths'] for x in batch]\n",
    "        \n",
    "        sorted_indices = np.argsort(lengths)[::-1]\n",
    "        token_ids = [token_ids[i] for i in sorted_indices]\n",
    "        ner_ids = [ner_ids[i] for i in sorted_indices]\n",
    "        lengths = [lengths[i] for i in sorted_indices]\n",
    "    \n",
    "        #Fill to the same length\n",
    "        token_ids = pad_sequence(token_ids, batch_first=True, padding_value=word2id['<PAD>'])\n",
    "        ner_ids = pad_sequence(ner_ids, batch_first=True, padding_value=ner_tag2id['<PAD>'])\n",
    "        \n",
    "        return {\n",
    "            'token_ids': token_ids.to(Config.DEVICE),\n",
    "            'ner_ids': ner_ids.to(Config.DEVICE),\n",
    "            'lengths': torch.LongTensor(lengths).to(Config.DEVICE)\n",
    "        }"
   ]
  },
  {
   "cell_type": "code",
   "execution_count": 29,
   "id": "248e5de3-0696-4d48-bca8-ccb031648b68",
   "metadata": {},
   "outputs": [],
   "source": [
    "#Word2Vec&GloVe\n",
    "train_dataset = NER_Dataset(train_data)\n",
    "val_dataset = NER_Dataset(val_data)\n",
    "test_dataset = NER_Dataset(test_data)\n",
    "\n",
    "train_loader = DataLoader(train_dataset, batch_size=Config.BATCH_SIZE, shuffle=True, collate_fn=collate_fn)\n",
    "val_loader = DataLoader(val_dataset, batch_size=Config.BATCH_SIZE, collate_fn=collate_fn)\n",
    "test_loader = DataLoader(test_dataset, batch_size=Config.BATCH_SIZE, collate_fn=collate_fn)\n",
    "\n",
    "#BERT\n",
    "train_dataset_bert = NER_Dataset(train_data, 'BERT', tokenizer)\n",
    "val_dataset_bert = NER_Dataset(val_data, 'BERT', tokenizer)\n",
    "test_dataset_bert = NER_Dataset(test_data, 'BERT', tokenizer)\n",
    "\n",
    "train_loader_bert = DataLoader(train_dataset_bert, batch_size=Config.BATCH_SIZE, shuffle=True, collate_fn=collate_fn)\n",
    "val_loader_bert = DataLoader(val_dataset_bert, batch_size=Config.BATCH_SIZE, collate_fn=collate_fn)\n",
    "test_loader_bert = DataLoader(test_dataset_bert, batch_size=Config.BATCH_SIZE, collate_fn=collate_fn)"
   ]
  },
  {
   "cell_type": "code",
   "execution_count": 31,
   "id": "5eb31e74-aab8-452c-88ad-4a9aa751951d",
   "metadata": {},
   "outputs": [],
   "source": [
    "#Init LSTM model\n",
    "class NER_Model(nn.Module):\n",
    "    def __init__(self, embedding_type, model_type='LSTM'):\n",
    "        super().__init__()\n",
    "        self.embedding_type = embedding_type\n",
    "        self.model_type = model_type\n",
    "\n",
    "        if self.embedding_type == 'Word2Vec':\n",
    "            self.embedding = nn.Embedding.from_pretrained(\n",
    "                torch.FloatTensor(embedding_w2v_matrix),\n",
    "                padding_idx=word2id['<PAD>']\n",
    "            )\n",
    "            self.lstm = nn.LSTM(Config.EMBEDDING_VEC, Config.HIDDEN, bidirectional=True, num_layers=Config.NUM_LSTM_LAYERS, dropout=0.3)\n",
    "        elif self.embedding_type == 'GloVe':\n",
    "            self.embedding = nn.Embedding.from_pretrained(\n",
    "                torch.FloatTensor(embedding_glove_matrix),\n",
    "                padding_idx=word2id['<PAD>']\n",
    "            )\n",
    "            self.lstm = nn.LSTM(Config.EMBEDDING_VEC, Config.HIDDEN, bidirectional=True, num_layers=Config.NUM_LSTM_LAYERS, dropout=0.3)\n",
    "        elif self.embedding_type == 'BERT':\n",
    "            self.bertmodel = BertModel.from_pretrained(Config.BERT_MODEL_NAME)\n",
    "            self.lstm = nn.LSTM(\n",
    "            input_size=self.bertmodel.config.hidden_size,\n",
    "            hidden_size=Config.HIDDEN,\n",
    "            num_layers=Config.NUM_LSTM_LAYERS,\n",
    "            bidirectional=True,\n",
    "            batch_first=True,\n",
    "            dropout=0.3\n",
    "            )\n",
    "            self.rnn = nn.RNN(\n",
    "            input_size=self.bertmodel.config.hidden_size,\n",
    "            hidden_size=Config.HIDDEN,\n",
    "            num_layers=Config.NUM_RNN_LAYERS,\n",
    "            bidirectional=True,\n",
    "            batch_first=True,\n",
    "            nonlinearity='relu',\n",
    "            dropout=0.3\n",
    "            )\n",
    "        self.fc = nn.Linear(Config.HIDDEN*2, len(ner_tag2id))\n",
    "        \n",
    "    def forward(self, token_ids=None, lengths=None, input_ids=None, attention_mask=None):\n",
    "        if self.embedding_type == 'BERT':\n",
    "            outputs = self.bertmodel(input_ids=input_ids, attention_mask=attention_mask)\n",
    "            sequence_output = outputs.last_hidden_state\n",
    "            if self.model_type == 'LSTM':\n",
    "                output, _ = self.lstm(sequence_output)\n",
    "            else:\n",
    "                output, _ = self.rnn(sequence_output)\n",
    "            return self.fc(output)\n",
    "        else:\n",
    "            emb_tokens = self.embedding(token_ids)\n",
    "            packed = pack_padded_sequence(emb_tokens, lengths.cpu(), batch_first=True, enforce_sorted=False)\n",
    "            output, _ = self.lstm(packed)\n",
    "            output, _ = pad_packed_sequence(output, batch_first=True)\n",
    "            return self.fc(output)"
   ]
  },
  {
   "cell_type": "code",
   "execution_count": 55,
   "id": "be495949-d19f-4db4-8c89-0c45cf536552",
   "metadata": {},
   "outputs": [],
   "source": [
    "#Init training\n",
    "def training(model, model_name, embedding_type, train_loader, val_loader):\n",
    "    best_f1 = 0\n",
    "    for epoch in range(Config.EPOCHS):\n",
    "        #Train\n",
    "        model.train()\n",
    "        train_loss = 0\n",
    "        for batch in tqdm(train_loader, desc=f\"Training Epoch {epoch+1}\"):\n",
    "            optimizer.zero_grad()\n",
    "            if embedding_type == 'BERT':#BERT\n",
    "                logits = model(None, None, batch['input_ids'], batch['attention_mask'])\n",
    "                loss = criterion(logits.view(-1, len(ner_tag2id)), batch['labels'].view(-1))\n",
    "            else:\n",
    "                logits = model(batch['token_ids'], batch['lengths'], None, None)\n",
    "                loss = criterion(logits.view(-1, len(ner_tag2id)), batch['ner_ids'].view(-1))         \n",
    "            loss.backward()\n",
    "            optimizer.step()\n",
    "            train_loss += loss.item()\n",
    "        \n",
    "        #Evaluate\n",
    "        model.eval()\n",
    "        val_loss = 0\n",
    "        all_preds, all_labels = [], []\n",
    "        with torch.no_grad():\n",
    "            for batch in tqdm(val_loader, desc=f\"Validating Epoch {epoch+1}\"):\n",
    "                if embedding_type == 'BERT':#BERT\n",
    "                    logits = model(None, None, batch['input_ids'], batch['attention_mask'])\n",
    "                    loss = criterion(logits.view(-1, len(ner_tag2id)), batch['labels'].view(-1))\n",
    "                    val_loss += loss.item()\n",
    "                    \n",
    "                    preds = torch.argmax(logits, dim=-1).cpu().numpy()\n",
    "                    labels = batch['labels'].cpu().numpy()\n",
    "\n",
    "                    for i in range(preds.shape[0]):\n",
    "                        valid_labels = []\n",
    "                        valid_preds = []\n",
    "                        for j in range(preds.shape[1]):\n",
    "                            if labels[i][j] != ner_tag2id['<PAD>']:\n",
    "                                valid_labels.append(id2ner[labels[i][j]])\n",
    "                                valid_preds.append(id2ner[preds[i][j]])\n",
    "                        all_labels.append(valid_labels)\n",
    "                        all_preds.append(valid_preds)\n",
    "                else:\n",
    "                    logits = model(batch['token_ids'], batch['lengths'], None, None)\n",
    "                    loss = criterion(logits.view(-1, len(ner_tag2id)), batch['ner_ids'].view(-1)) \n",
    "                    val_loss += loss.item()\n",
    "                    \n",
    "                    #preds = torch.argmax(logits, dim=-1).cpu().numpy()\n",
    "                    #labels = batch['ner_ids'].cpu().numpy()\n",
    "\n",
    "                    #for i in range(preds.shape[0]):\n",
    "                    #    valid_labels = []\n",
    "                    #    valid_preds = []\n",
    "                    #    for j in range(preds.shape[1]):\n",
    "                    #        if labels[i][j] != -100:\n",
    "                    #            valid_labels.append(id2ner[labels[i][j]])\n",
    "                    #            valid_preds.append(id2ner[preds[i][j]])\n",
    "                    #    all_labels.append(valid_labels)\n",
    "                    #    all_preds.append(valid_preds)\n",
    "                        \n",
    "                    preds = torch.argmax(logits, dim=-1)\n",
    "                    \n",
    "                    for i in range(len(batch['lengths'])):\n",
    "                        length = batch['lengths'][i]\n",
    "                        valid_preds = preds[i, :length].cpu().numpy()\n",
    "                        valid_labels = batch['ner_ids'][i, :length].cpu().numpy()\n",
    "                        mask = valid_labels != ner_tag2id['<PAD>']\n",
    "                        all_preds.extend(valid_preds[mask])\n",
    "                        all_labels.extend(valid_labels[mask])\n",
    "\n",
    "        #val_f1 = f1_score(all_labels, all_preds)\n",
    "        if embedding_type == 'BERT':\n",
    "            val_f1 = f1_score(all_labels, all_preds)\n",
    "        else:\n",
    "            target_names = [tag for tag in ner_tag2id if tag != '<PAD>']\n",
    "            report = classification_report(all_labels, all_preds, target_names=target_names, zero_division=0)\n",
    "            val_f1 = float(report.split('\\n')[-2].split()[-2])\n",
    "    \n",
    "        if val_f1 > best_f1:\n",
    "            best_f1 = val_f1\n",
    "            torch.save(model.state_dict(), model_name)\n",
    "            print('Best model saved!')\n",
    "        \n",
    "        print(f\"Epoch {epoch+1}/{Config.EPOCHS}\")\n",
    "        print(f\"Train Loss: {train_loss/len(train_loader):.4f}\")\n",
    "        print(f\"Val Loss: {val_loss/len(val_loader):.4f}\")\n",
    "        print(f\"Val F1: {val_f1:.4f}\\n\")"
   ]
  },
  {
   "cell_type": "code",
   "execution_count": 39,
   "id": "519fa33b-bce0-4945-9cc5-1f559f6dc836",
   "metadata": {},
   "outputs": [
    {
     "name": "stdout",
     "output_type": "stream",
     "text": [
      "BERT type training...\n"
     ]
    },
    {
     "name": "stderr",
     "output_type": "stream",
     "text": [
      "Training Epoch 1: 100%|████████████████████████████████████████████████████████████████| 63/63 [00:12<00:00,  5.11it/s]\n",
      "Validating Epoch 1: 100%|████████████████████████████████████████████████████████████████| 5/5 [00:00<00:00, 14.38it/s]\n"
     ]
    },
    {
     "name": "stdout",
     "output_type": "stream",
     "text": [
      "Epoch 1/5\n",
      "Train Loss: 1.0955\n",
      "Val Loss: 0.8944\n",
      "Val F1: 0.0000\n",
      "\n"
     ]
    },
    {
     "name": "stderr",
     "output_type": "stream",
     "text": [
      "Training Epoch 2: 100%|████████████████████████████████████████████████████████████████| 63/63 [00:12<00:00,  5.13it/s]\n",
      "Validating Epoch 2: 100%|████████████████████████████████████████████████████████████████| 5/5 [00:00<00:00, 13.69it/s]\n"
     ]
    },
    {
     "name": "stdout",
     "output_type": "stream",
     "text": [
      "Epoch 2/5\n",
      "Train Loss: 0.8224\n",
      "Val Loss: 0.7531\n",
      "Val F1: 0.0000\n",
      "\n"
     ]
    },
    {
     "name": "stderr",
     "output_type": "stream",
     "text": [
      "Training Epoch 3: 100%|████████████████████████████████████████████████████████████████| 63/63 [00:25<00:00,  2.49it/s]\n",
      "Validating Epoch 3: 100%|████████████████████████████████████████████████████████████████| 5/5 [00:00<00:00,  7.56it/s]\n"
     ]
    },
    {
     "name": "stdout",
     "output_type": "stream",
     "text": [
      "Best model saved!\n",
      "Epoch 3/5\n",
      "Train Loss: 0.6650\n",
      "Val Loss: 0.6060\n",
      "Val F1: 0.0843\n",
      "\n"
     ]
    },
    {
     "name": "stderr",
     "output_type": "stream",
     "text": [
      "Training Epoch 4: 100%|████████████████████████████████████████████████████████████████| 63/63 [00:27<00:00,  2.29it/s]\n",
      "Validating Epoch 4: 100%|████████████████████████████████████████████████████████████████| 5/5 [00:00<00:00,  7.21it/s]\n"
     ]
    },
    {
     "name": "stdout",
     "output_type": "stream",
     "text": [
      "Best model saved!\n",
      "Epoch 4/5\n",
      "Train Loss: 0.5390\n",
      "Val Loss: 0.5135\n",
      "Val F1: 0.1272\n",
      "\n"
     ]
    },
    {
     "name": "stderr",
     "output_type": "stream",
     "text": [
      "Training Epoch 5: 100%|████████████████████████████████████████████████████████████████| 63/63 [00:27<00:00,  2.32it/s]\n",
      "Validating Epoch 5: 100%|████████████████████████████████████████████████████████████████| 5/5 [00:00<00:00,  7.50it/s]\n"
     ]
    },
    {
     "name": "stdout",
     "output_type": "stream",
     "text": [
      "Best model saved!\n",
      "Epoch 5/5\n",
      "Train Loss: 0.4602\n",
      "Val Loss: 0.4623\n",
      "Val F1: 0.2409\n",
      "\n",
      "CPU times: total: 1min 48s\n",
      "Wall time: 2min 2s\n"
     ]
    }
   ],
   "source": [
    "%%time\n",
    "#BERT\n",
    "print('BERT type training...')\n",
    "model_bert = NER_Model('BERT').to(Config.DEVICE)\n",
    "optimizer = optim.Adam(model_bert.parameters(), lr=Config.LEARNING_RATE)\n",
    "criterion = nn.CrossEntropyLoss(ignore_index=ner_tag2id['<PAD>'])\n",
    "training(model_bert,'best_bert_LSTM.pth', 'BERT', train_loader_bert, val_loader_bert)"
   ]
  },
  {
   "cell_type": "code",
   "execution_count": 41,
   "id": "fa4d6f41-e014-4503-8780-fac435884229",
   "metadata": {},
   "outputs": [
    {
     "name": "stdout",
     "output_type": "stream",
     "text": [
      "BERT type training...\n"
     ]
    },
    {
     "name": "stderr",
     "output_type": "stream",
     "text": [
      "Training Epoch 1: 100%|████████████████████████████████████████████████████████████████| 63/63 [00:13<00:00,  4.78it/s]\n",
      "Validating Epoch 1: 100%|████████████████████████████████████████████████████████████████| 5/5 [00:00<00:00, 14.15it/s]\n"
     ]
    },
    {
     "name": "stdout",
     "output_type": "stream",
     "text": [
      "Best model saved!\n",
      "Epoch 1/5\n",
      "Train Loss: 0.8907\n",
      "Val Loss: 0.4277\n",
      "Val F1: 0.6051\n",
      "\n"
     ]
    },
    {
     "name": "stderr",
     "output_type": "stream",
     "text": [
      "Training Epoch 2: 100%|████████████████████████████████████████████████████████████████| 63/63 [00:21<00:00,  2.98it/s]\n",
      "Validating Epoch 2: 100%|████████████████████████████████████████████████████████████████| 5/5 [00:00<00:00,  7.05it/s]\n"
     ]
    },
    {
     "name": "stdout",
     "output_type": "stream",
     "text": [
      "Best model saved!\n",
      "Epoch 2/5\n",
      "Train Loss: 0.3242\n",
      "Val Loss: 0.2858\n",
      "Val F1: 0.7618\n",
      "\n"
     ]
    },
    {
     "name": "stderr",
     "output_type": "stream",
     "text": [
      "Training Epoch 3: 100%|████████████████████████████████████████████████████████████████| 63/63 [00:26<00:00,  2.34it/s]\n",
      "Validating Epoch 3: 100%|████████████████████████████████████████████████████████████████| 5/5 [00:00<00:00,  7.39it/s]\n"
     ]
    },
    {
     "name": "stdout",
     "output_type": "stream",
     "text": [
      "Best model saved!\n",
      "Epoch 3/5\n",
      "Train Loss: 0.2250\n",
      "Val Loss: 0.2732\n",
      "Val F1: 0.7783\n",
      "\n"
     ]
    },
    {
     "name": "stderr",
     "output_type": "stream",
     "text": [
      "Training Epoch 4: 100%|████████████████████████████████████████████████████████████████| 63/63 [00:26<00:00,  2.36it/s]\n",
      "Validating Epoch 4: 100%|████████████████████████████████████████████████████████████████| 5/5 [00:00<00:00,  7.46it/s]\n"
     ]
    },
    {
     "name": "stdout",
     "output_type": "stream",
     "text": [
      "Best model saved!\n",
      "Epoch 4/5\n",
      "Train Loss: 0.1889\n",
      "Val Loss: 0.2690\n",
      "Val F1: 0.7945\n",
      "\n"
     ]
    },
    {
     "name": "stderr",
     "output_type": "stream",
     "text": [
      "Training Epoch 5: 100%|████████████████████████████████████████████████████████████████| 63/63 [00:26<00:00,  2.35it/s]\n",
      "Validating Epoch 5: 100%|████████████████████████████████████████████████████████████████| 5/5 [00:00<00:00,  7.42it/s]\n"
     ]
    },
    {
     "name": "stdout",
     "output_type": "stream",
     "text": [
      "Best model saved!\n",
      "Epoch 5/5\n",
      "Train Loss: 0.1690\n",
      "Val Loss: 0.2754\n",
      "Val F1: 0.8007\n",
      "\n",
      "CPU times: total: 2min 1s\n",
      "Wall time: 2min 28s\n"
     ]
    }
   ],
   "source": [
    "%%time\n",
    "#BERT\n",
    "print('BERT type training...')\n",
    "model_bert = NER_Model('BERT','RNN').to(Config.DEVICE)\n",
    "optimizer = optim.Adam(model_bert.parameters(), lr=Config.LEARNING_RATE)\n",
    "criterion = nn.CrossEntropyLoss(ignore_index=ner_tag2id['<PAD>'])\n",
    "training(model_bert,'best_bert_RNN.pth', 'BERT', train_loader_bert, val_loader_bert)"
   ]
  },
  {
   "cell_type": "code",
   "execution_count": 61,
   "id": "3a6e5266-1731-4711-9341-022b2bc7e9d0",
   "metadata": {},
   "outputs": [
    {
     "name": "stdout",
     "output_type": "stream",
     "text": [
      "Word2Vec type training...\n"
     ]
    },
    {
     "name": "stderr",
     "output_type": "stream",
     "text": [
      "Training Epoch 1: 100%|████████████████████████████████████████████████████████████████| 63/63 [00:05<00:00, 10.76it/s]\n",
      "Validating Epoch 1: 100%|████████████████████████████████████████████████████████████████| 5/5 [00:00<00:00, 20.70it/s]\n"
     ]
    },
    {
     "ename": "ValueError",
     "evalue": "Number of classes, 5, does not match size of target_names, 4. Try specifying the labels parameter",
     "output_type": "error",
     "traceback": [
      "\u001b[1;31m---------------------------------------------------------------------------\u001b[0m",
      "\u001b[1;31mValueError\u001b[0m                                Traceback (most recent call last)",
      "File \u001b[1;32m<timed exec>:6\u001b[0m\n",
      "Cell \u001b[1;32mIn[55], line 76\u001b[0m, in \u001b[0;36mtraining\u001b[1;34m(model, model_name, embedding_type, train_loader, val_loader)\u001b[0m\n\u001b[0;32m     74\u001b[0m \u001b[38;5;28;01melse\u001b[39;00m:\n\u001b[0;32m     75\u001b[0m     target_names \u001b[38;5;241m=\u001b[39m [tag \u001b[38;5;28;01mfor\u001b[39;00m tag \u001b[38;5;129;01min\u001b[39;00m ner_tag2id \u001b[38;5;28;01mif\u001b[39;00m tag \u001b[38;5;241m!=\u001b[39m \u001b[38;5;124m'\u001b[39m\u001b[38;5;124m<PAD>\u001b[39m\u001b[38;5;124m'\u001b[39m]\n\u001b[1;32m---> 76\u001b[0m     report \u001b[38;5;241m=\u001b[39m classification_report(all_labels, all_preds, target_names\u001b[38;5;241m=\u001b[39mtarget_names, zero_division\u001b[38;5;241m=\u001b[39m\u001b[38;5;241m0\u001b[39m)\n\u001b[0;32m     77\u001b[0m     val_f1 \u001b[38;5;241m=\u001b[39m \u001b[38;5;28mfloat\u001b[39m(report\u001b[38;5;241m.\u001b[39msplit(\u001b[38;5;124m'\u001b[39m\u001b[38;5;130;01m\\n\u001b[39;00m\u001b[38;5;124m'\u001b[39m)[\u001b[38;5;241m-\u001b[39m\u001b[38;5;241m2\u001b[39m]\u001b[38;5;241m.\u001b[39msplit()[\u001b[38;5;241m-\u001b[39m\u001b[38;5;241m2\u001b[39m])\n\u001b[0;32m     79\u001b[0m \u001b[38;5;28;01mif\u001b[39;00m val_f1 \u001b[38;5;241m>\u001b[39m best_f1:\n",
      "File \u001b[1;32m~\\anaconda3\\Lib\\site-packages\\sklearn\\utils\\_param_validation.py:213\u001b[0m, in \u001b[0;36mvalidate_params.<locals>.decorator.<locals>.wrapper\u001b[1;34m(*args, **kwargs)\u001b[0m\n\u001b[0;32m    207\u001b[0m \u001b[38;5;28;01mtry\u001b[39;00m:\n\u001b[0;32m    208\u001b[0m     \u001b[38;5;28;01mwith\u001b[39;00m config_context(\n\u001b[0;32m    209\u001b[0m         skip_parameter_validation\u001b[38;5;241m=\u001b[39m(\n\u001b[0;32m    210\u001b[0m             prefer_skip_nested_validation \u001b[38;5;129;01mor\u001b[39;00m global_skip_validation\n\u001b[0;32m    211\u001b[0m         )\n\u001b[0;32m    212\u001b[0m     ):\n\u001b[1;32m--> 213\u001b[0m         \u001b[38;5;28;01mreturn\u001b[39;00m func(\u001b[38;5;241m*\u001b[39margs, \u001b[38;5;241m*\u001b[39m\u001b[38;5;241m*\u001b[39mkwargs)\n\u001b[0;32m    214\u001b[0m \u001b[38;5;28;01mexcept\u001b[39;00m InvalidParameterError \u001b[38;5;28;01mas\u001b[39;00m e:\n\u001b[0;32m    215\u001b[0m     \u001b[38;5;66;03m# When the function is just a wrapper around an estimator, we allow\u001b[39;00m\n\u001b[0;32m    216\u001b[0m     \u001b[38;5;66;03m# the function to delegate validation to the estimator, but we replace\u001b[39;00m\n\u001b[0;32m    217\u001b[0m     \u001b[38;5;66;03m# the name of the estimator by the name of the function in the error\u001b[39;00m\n\u001b[0;32m    218\u001b[0m     \u001b[38;5;66;03m# message to avoid confusion.\u001b[39;00m\n\u001b[0;32m    219\u001b[0m     msg \u001b[38;5;241m=\u001b[39m re\u001b[38;5;241m.\u001b[39msub(\n\u001b[0;32m    220\u001b[0m         \u001b[38;5;124mr\u001b[39m\u001b[38;5;124m\"\u001b[39m\u001b[38;5;124mparameter of \u001b[39m\u001b[38;5;124m\\\u001b[39m\u001b[38;5;124mw+ must be\u001b[39m\u001b[38;5;124m\"\u001b[39m,\n\u001b[0;32m    221\u001b[0m         \u001b[38;5;124mf\u001b[39m\u001b[38;5;124m\"\u001b[39m\u001b[38;5;124mparameter of \u001b[39m\u001b[38;5;132;01m{\u001b[39;00mfunc\u001b[38;5;241m.\u001b[39m\u001b[38;5;18m__qualname__\u001b[39m\u001b[38;5;132;01m}\u001b[39;00m\u001b[38;5;124m must be\u001b[39m\u001b[38;5;124m\"\u001b[39m,\n\u001b[0;32m    222\u001b[0m         \u001b[38;5;28mstr\u001b[39m(e),\n\u001b[0;32m    223\u001b[0m     )\n",
      "File \u001b[1;32m~\\anaconda3\\Lib\\site-packages\\sklearn\\metrics\\_classification.py:2648\u001b[0m, in \u001b[0;36mclassification_report\u001b[1;34m(y_true, y_pred, labels, target_names, sample_weight, digits, output_dict, zero_division)\u001b[0m\n\u001b[0;32m   2642\u001b[0m         warnings\u001b[38;5;241m.\u001b[39mwarn(\n\u001b[0;32m   2643\u001b[0m             \u001b[38;5;124m\"\u001b[39m\u001b[38;5;124mlabels size, \u001b[39m\u001b[38;5;132;01m{0}\u001b[39;00m\u001b[38;5;124m, does not match size of target_names, \u001b[39m\u001b[38;5;132;01m{1}\u001b[39;00m\u001b[38;5;124m\"\u001b[39m\u001b[38;5;241m.\u001b[39mformat(\n\u001b[0;32m   2644\u001b[0m                 \u001b[38;5;28mlen\u001b[39m(labels), \u001b[38;5;28mlen\u001b[39m(target_names)\n\u001b[0;32m   2645\u001b[0m             )\n\u001b[0;32m   2646\u001b[0m         )\n\u001b[0;32m   2647\u001b[0m     \u001b[38;5;28;01melse\u001b[39;00m:\n\u001b[1;32m-> 2648\u001b[0m         \u001b[38;5;28;01mraise\u001b[39;00m \u001b[38;5;167;01mValueError\u001b[39;00m(\n\u001b[0;32m   2649\u001b[0m             \u001b[38;5;124m\"\u001b[39m\u001b[38;5;124mNumber of classes, \u001b[39m\u001b[38;5;132;01m{0}\u001b[39;00m\u001b[38;5;124m, does not match size of \u001b[39m\u001b[38;5;124m\"\u001b[39m\n\u001b[0;32m   2650\u001b[0m             \u001b[38;5;124m\"\u001b[39m\u001b[38;5;124mtarget_names, \u001b[39m\u001b[38;5;132;01m{1}\u001b[39;00m\u001b[38;5;124m. Try specifying the labels \u001b[39m\u001b[38;5;124m\"\u001b[39m\n\u001b[0;32m   2651\u001b[0m             \u001b[38;5;124m\"\u001b[39m\u001b[38;5;124mparameter\u001b[39m\u001b[38;5;124m\"\u001b[39m\u001b[38;5;241m.\u001b[39mformat(\u001b[38;5;28mlen\u001b[39m(labels), \u001b[38;5;28mlen\u001b[39m(target_names))\n\u001b[0;32m   2652\u001b[0m         )\n\u001b[0;32m   2653\u001b[0m \u001b[38;5;28;01mif\u001b[39;00m target_names \u001b[38;5;129;01mis\u001b[39;00m \u001b[38;5;28;01mNone\u001b[39;00m:\n\u001b[0;32m   2654\u001b[0m     target_names \u001b[38;5;241m=\u001b[39m [\u001b[38;5;124m\"\u001b[39m\u001b[38;5;132;01m%s\u001b[39;00m\u001b[38;5;124m\"\u001b[39m \u001b[38;5;241m%\u001b[39m l \u001b[38;5;28;01mfor\u001b[39;00m l \u001b[38;5;129;01min\u001b[39;00m labels]\n",
      "\u001b[1;31mValueError\u001b[0m: Number of classes, 5, does not match size of target_names, 4. Try specifying the labels parameter"
     ]
    }
   ],
   "source": [
    "%%time\n",
    "#Word2Vec\n",
    "print('Word2Vec type training...')\n",
    "model_w2v = NER_Model('Word2Vec').to(Config.DEVICE)\n",
    "optimizer = optim.Adam(model_w2v.parameters(), lr=Config.LEARNING_RATE)\n",
    "criterion = nn.CrossEntropyLoss(ignore_index=ner_tag2id['<PAD>'])\n",
    "training(model_w2v,'best_w2v_LSTM.pth', 'Word2Vec', train_loader, val_loader)"
   ]
  },
  {
   "cell_type": "code",
   "execution_count": 67,
   "id": "d245d382-e94f-4bcd-ba8d-72195cf4b056",
   "metadata": {},
   "outputs": [
    {
     "name": "stdout",
     "output_type": "stream",
     "text": [
      "GloVe type training...\n"
     ]
    },
    {
     "name": "stderr",
     "output_type": "stream",
     "text": [
      "Training Epoch 1: 100%|██████████████████████████████████████████████████████████████| 125/125 [00:08<00:00, 15.10it/s]\n",
      "Validating Epoch 1: 100%|██████████████████████████████████████████████████████████████| 10/10 [00:00<00:00, 28.49it/s]\n"
     ]
    },
    {
     "name": "stdout",
     "output_type": "stream",
     "text": [
      "Best model saved!\n",
      "Epoch 1/5\n",
      "Train Loss: 1.5353\n",
      "Val Loss: 1.5037\n",
      "Val F1: 0.6300\n",
      "\n"
     ]
    },
    {
     "name": "stderr",
     "output_type": "stream",
     "text": [
      "Training Epoch 2: 100%|██████████████████████████████████████████████████████████████| 125/125 [00:08<00:00, 15.13it/s]\n",
      "Validating Epoch 2: 100%|██████████████████████████████████████████████████████████████| 10/10 [00:00<00:00, 30.54it/s]\n"
     ]
    },
    {
     "name": "stdout",
     "output_type": "stream",
     "text": [
      "Epoch 2/5\n",
      "Train Loss: 1.4571\n",
      "Val Loss: 1.4066\n",
      "Val F1: 0.6300\n",
      "\n"
     ]
    },
    {
     "name": "stderr",
     "output_type": "stream",
     "text": [
      "Training Epoch 3: 100%|██████████████████████████████████████████████████████████████| 125/125 [00:08<00:00, 15.26it/s]\n",
      "Validating Epoch 3: 100%|██████████████████████████████████████████████████████████████| 10/10 [00:00<00:00, 30.91it/s]\n"
     ]
    },
    {
     "name": "stdout",
     "output_type": "stream",
     "text": [
      "Epoch 3/5\n",
      "Train Loss: 1.3118\n",
      "Val Loss: 1.1936\n",
      "Val F1: 0.6300\n",
      "\n"
     ]
    },
    {
     "name": "stderr",
     "output_type": "stream",
     "text": [
      "Training Epoch 4: 100%|██████████████████████████████████████████████████████████████| 125/125 [00:08<00:00, 15.14it/s]\n",
      "Validating Epoch 4: 100%|██████████████████████████████████████████████████████████████| 10/10 [00:00<00:00, 33.14it/s]\n"
     ]
    },
    {
     "name": "stdout",
     "output_type": "stream",
     "text": [
      "Epoch 4/5\n",
      "Train Loss: 1.0251\n",
      "Val Loss: 0.9120\n",
      "Val F1: 0.6300\n",
      "\n"
     ]
    },
    {
     "name": "stderr",
     "output_type": "stream",
     "text": [
      "Training Epoch 5: 100%|██████████████████████████████████████████████████████████████| 125/125 [00:08<00:00, 15.18it/s]\n",
      "Validating Epoch 5: 100%|██████████████████████████████████████████████████████████████| 10/10 [00:00<00:00, 32.72it/s]\n"
     ]
    },
    {
     "name": "stdout",
     "output_type": "stream",
     "text": [
      "Epoch 5/5\n",
      "Train Loss: 0.8756\n",
      "Val Loss: 0.8705\n",
      "Val F1: 0.6300\n",
      "\n",
      "CPU times: total: 47.5 s\n",
      "Wall time: 48.8 s\n"
     ]
    }
   ],
   "source": [
    "%%time\n",
    "#GloVe\n",
    "print('GloVe type training...')\n",
    "model_glove = NER_Model('GloVe').to(Config.DEVICE)\n",
    "optimizer = optim.Adam(model_glove.parameters(), lr=Config.LEARNING_RATE)\n",
    "criterion = nn.CrossEntropyLoss(ignore_index=ner_tag2id['<PAD>'])\n",
    "training(model_glove, 'best_glove_LSTM.pth', 'GloVe', train_loader, val_loader)"
   ]
  },
  {
   "cell_type": "code",
   "execution_count": 69,
   "id": "63704805-fbb0-486f-b82c-1f38c153cde6",
   "metadata": {},
   "outputs": [],
   "source": [
    "def testing(model, model_name, test_loader):\n",
    "    model.load_state_dict(torch.load(model_name))\n",
    "    model.eval()\n",
    "    \n",
    "    all_preds, all_labels = [], []\n",
    "    with torch.no_grad():\n",
    "        for batch in test_loader:\n",
    "            logits = model(batch['token_ids'], batch['lengths'])\n",
    "            preds = torch.argmax(logits, dim=-1)\n",
    "            \n",
    "            for i in range(len(batch['lengths'])):\n",
    "                length = batch['lengths'][i]\n",
    "                valid_preds = preds[i, :length].cpu().numpy()\n",
    "                valid_labels = batch['ner_ids'][i, :length].cpu().numpy()\n",
    "                mask = valid_labels != ner_tag2id['<PAD>']\n",
    "                all_preds.extend(valid_preds[mask])\n",
    "                all_labels.extend(valid_labels[mask])\n",
    "    \n",
    "    target_names = [tag for tag in ner_tag2id if tag != '<PAD>']\n",
    "    print('Final Test Report:')\n",
    "    print(classification_report(all_labels, all_preds, target_names=target_names, zero_division=0))"
   ]
  },
  {
   "cell_type": "code",
   "execution_count": 75,
   "id": "8fa193a0-f4e9-478d-bac5-0d825d34bd8d",
   "metadata": {},
   "outputs": [
    {
     "name": "stdout",
     "output_type": "stream",
     "text": [
      "Word2Vec type testing...\n",
      "Final Test Report:\n",
      "              precision    recall  f1-score   support\n",
      "\n",
      "           O       0.76      1.00      0.86      7751\n",
      "        B-LF       0.00      0.00      0.00       482\n",
      "        B-AC       0.00      0.00      0.00       797\n",
      "        I-LF       0.00      0.00      0.00      1227\n",
      "\n",
      "    accuracy                           0.76     10257\n",
      "   macro avg       0.19      0.25      0.22     10257\n",
      "weighted avg       0.57      0.76      0.65     10257\n",
      "\n",
      "GloVe type testing...\n",
      "Final Test Report:\n",
      "              precision    recall  f1-score   support\n",
      "\n",
      "           O       0.76      1.00      0.86      7751\n",
      "        B-LF       0.00      0.00      0.00       482\n",
      "        B-AC       0.00      0.00      0.00       797\n",
      "        I-LF       0.00      0.00      0.00      1227\n",
      "\n",
      "    accuracy                           0.76     10257\n",
      "   macro avg       0.19      0.25      0.22     10257\n",
      "weighted avg       0.57      0.76      0.65     10257\n",
      "\n",
      "BERT type testing...\n"
     ]
    },
    {
     "ename": "RuntimeError",
     "evalue": "Error(s) in loading state_dict for NER_Model:\n\tMissing key(s) in state_dict: \"bertmodel.embeddings.word_embeddings.weight\", \"bertmodel.embeddings.position_embeddings.weight\", \"bertmodel.embeddings.token_type_embeddings.weight\", \"bertmodel.embeddings.LayerNorm.weight\", \"bertmodel.embeddings.LayerNorm.bias\", \"bertmodel.encoder.layer.0.attention.self.query.weight\", \"bertmodel.encoder.layer.0.attention.self.query.bias\", \"bertmodel.encoder.layer.0.attention.self.key.weight\", \"bertmodel.encoder.layer.0.attention.self.key.bias\", \"bertmodel.encoder.layer.0.attention.self.value.weight\", \"bertmodel.encoder.layer.0.attention.self.value.bias\", \"bertmodel.encoder.layer.0.attention.output.dense.weight\", \"bertmodel.encoder.layer.0.attention.output.dense.bias\", \"bertmodel.encoder.layer.0.attention.output.LayerNorm.weight\", \"bertmodel.encoder.layer.0.attention.output.LayerNorm.bias\", \"bertmodel.encoder.layer.0.intermediate.dense.weight\", \"bertmodel.encoder.layer.0.intermediate.dense.bias\", \"bertmodel.encoder.layer.0.output.dense.weight\", \"bertmodel.encoder.layer.0.output.dense.bias\", \"bertmodel.encoder.layer.0.output.LayerNorm.weight\", \"bertmodel.encoder.layer.0.output.LayerNorm.bias\", \"bertmodel.encoder.layer.1.attention.self.query.weight\", \"bertmodel.encoder.layer.1.attention.self.query.bias\", \"bertmodel.encoder.layer.1.attention.self.key.weight\", \"bertmodel.encoder.layer.1.attention.self.key.bias\", \"bertmodel.encoder.layer.1.attention.self.value.weight\", \"bertmodel.encoder.layer.1.attention.self.value.bias\", \"bertmodel.encoder.layer.1.attention.output.dense.weight\", \"bertmodel.encoder.layer.1.attention.output.dense.bias\", \"bertmodel.encoder.layer.1.attention.output.LayerNorm.weight\", \"bertmodel.encoder.layer.1.attention.output.LayerNorm.bias\", \"bertmodel.encoder.layer.1.intermediate.dense.weight\", \"bertmodel.encoder.layer.1.intermediate.dense.bias\", \"bertmodel.encoder.layer.1.output.dense.weight\", \"bertmodel.encoder.layer.1.output.dense.bias\", \"bertmodel.encoder.layer.1.output.LayerNorm.weight\", \"bertmodel.encoder.layer.1.output.LayerNorm.bias\", \"bertmodel.encoder.layer.2.attention.self.query.weight\", \"bertmodel.encoder.layer.2.attention.self.query.bias\", \"bertmodel.encoder.layer.2.attention.self.key.weight\", \"bertmodel.encoder.layer.2.attention.self.key.bias\", \"bertmodel.encoder.layer.2.attention.self.value.weight\", \"bertmodel.encoder.layer.2.attention.self.value.bias\", \"bertmodel.encoder.layer.2.attention.output.dense.weight\", \"bertmodel.encoder.layer.2.attention.output.dense.bias\", \"bertmodel.encoder.layer.2.attention.output.LayerNorm.weight\", \"bertmodel.encoder.layer.2.attention.output.LayerNorm.bias\", \"bertmodel.encoder.layer.2.intermediate.dense.weight\", \"bertmodel.encoder.layer.2.intermediate.dense.bias\", \"bertmodel.encoder.layer.2.output.dense.weight\", \"bertmodel.encoder.layer.2.output.dense.bias\", \"bertmodel.encoder.layer.2.output.LayerNorm.weight\", \"bertmodel.encoder.layer.2.output.LayerNorm.bias\", \"bertmodel.encoder.layer.3.attention.self.query.weight\", \"bertmodel.encoder.layer.3.attention.self.query.bias\", \"bertmodel.encoder.layer.3.attention.self.key.weight\", \"bertmodel.encoder.layer.3.attention.self.key.bias\", \"bertmodel.encoder.layer.3.attention.self.value.weight\", \"bertmodel.encoder.layer.3.attention.self.value.bias\", \"bertmodel.encoder.layer.3.attention.output.dense.weight\", \"bertmodel.encoder.layer.3.attention.output.dense.bias\", \"bertmodel.encoder.layer.3.attention.output.LayerNorm.weight\", \"bertmodel.encoder.layer.3.attention.output.LayerNorm.bias\", \"bertmodel.encoder.layer.3.intermediate.dense.weight\", \"bertmodel.encoder.layer.3.intermediate.dense.bias\", \"bertmodel.encoder.layer.3.output.dense.weight\", \"bertmodel.encoder.layer.3.output.dense.bias\", \"bertmodel.encoder.layer.3.output.LayerNorm.weight\", \"bertmodel.encoder.layer.3.output.LayerNorm.bias\", \"bertmodel.encoder.layer.4.attention.self.query.weight\", \"bertmodel.encoder.layer.4.attention.self.query.bias\", \"bertmodel.encoder.layer.4.attention.self.key.weight\", \"bertmodel.encoder.layer.4.attention.self.key.bias\", \"bertmodel.encoder.layer.4.attention.self.value.weight\", \"bertmodel.encoder.layer.4.attention.self.value.bias\", \"bertmodel.encoder.layer.4.attention.output.dense.weight\", \"bertmodel.encoder.layer.4.attention.output.dense.bias\", \"bertmodel.encoder.layer.4.attention.output.LayerNorm.weight\", \"bertmodel.encoder.layer.4.attention.output.LayerNorm.bias\", \"bertmodel.encoder.layer.4.intermediate.dense.weight\", \"bertmodel.encoder.layer.4.intermediate.dense.bias\", \"bertmodel.encoder.layer.4.output.dense.weight\", \"bertmodel.encoder.layer.4.output.dense.bias\", \"bertmodel.encoder.layer.4.output.LayerNorm.weight\", \"bertmodel.encoder.layer.4.output.LayerNorm.bias\", \"bertmodel.encoder.layer.5.attention.self.query.weight\", \"bertmodel.encoder.layer.5.attention.self.query.bias\", \"bertmodel.encoder.layer.5.attention.self.key.weight\", \"bertmodel.encoder.layer.5.attention.self.key.bias\", \"bertmodel.encoder.layer.5.attention.self.value.weight\", \"bertmodel.encoder.layer.5.attention.self.value.bias\", \"bertmodel.encoder.layer.5.attention.output.dense.weight\", \"bertmodel.encoder.layer.5.attention.output.dense.bias\", \"bertmodel.encoder.layer.5.attention.output.LayerNorm.weight\", \"bertmodel.encoder.layer.5.attention.output.LayerNorm.bias\", \"bertmodel.encoder.layer.5.intermediate.dense.weight\", \"bertmodel.encoder.layer.5.intermediate.dense.bias\", \"bertmodel.encoder.layer.5.output.dense.weight\", \"bertmodel.encoder.layer.5.output.dense.bias\", \"bertmodel.encoder.layer.5.output.LayerNorm.weight\", \"bertmodel.encoder.layer.5.output.LayerNorm.bias\", \"bertmodel.encoder.layer.6.attention.self.query.weight\", \"bertmodel.encoder.layer.6.attention.self.query.bias\", \"bertmodel.encoder.layer.6.attention.self.key.weight\", \"bertmodel.encoder.layer.6.attention.self.key.bias\", \"bertmodel.encoder.layer.6.attention.self.value.weight\", \"bertmodel.encoder.layer.6.attention.self.value.bias\", \"bertmodel.encoder.layer.6.attention.output.dense.weight\", \"bertmodel.encoder.layer.6.attention.output.dense.bias\", \"bertmodel.encoder.layer.6.attention.output.LayerNorm.weight\", \"bertmodel.encoder.layer.6.attention.output.LayerNorm.bias\", \"bertmodel.encoder.layer.6.intermediate.dense.weight\", \"bertmodel.encoder.layer.6.intermediate.dense.bias\", \"bertmodel.encoder.layer.6.output.dense.weight\", \"bertmodel.encoder.layer.6.output.dense.bias\", \"bertmodel.encoder.layer.6.output.LayerNorm.weight\", \"bertmodel.encoder.layer.6.output.LayerNorm.bias\", \"bertmodel.encoder.layer.7.attention.self.query.weight\", \"bertmodel.encoder.layer.7.attention.self.query.bias\", \"bertmodel.encoder.layer.7.attention.self.key.weight\", \"bertmodel.encoder.layer.7.attention.self.key.bias\", \"bertmodel.encoder.layer.7.attention.self.value.weight\", \"bertmodel.encoder.layer.7.attention.self.value.bias\", \"bertmodel.encoder.layer.7.attention.output.dense.weight\", \"bertmodel.encoder.layer.7.attention.output.dense.bias\", \"bertmodel.encoder.layer.7.attention.output.LayerNorm.weight\", \"bertmodel.encoder.layer.7.attention.output.LayerNorm.bias\", \"bertmodel.encoder.layer.7.intermediate.dense.weight\", \"bertmodel.encoder.layer.7.intermediate.dense.bias\", \"bertmodel.encoder.layer.7.output.dense.weight\", \"bertmodel.encoder.layer.7.output.dense.bias\", \"bertmodel.encoder.layer.7.output.LayerNorm.weight\", \"bertmodel.encoder.layer.7.output.LayerNorm.bias\", \"bertmodel.encoder.layer.8.attention.self.query.weight\", \"bertmodel.encoder.layer.8.attention.self.query.bias\", \"bertmodel.encoder.layer.8.attention.self.key.weight\", \"bertmodel.encoder.layer.8.attention.self.key.bias\", \"bertmodel.encoder.layer.8.attention.self.value.weight\", \"bertmodel.encoder.layer.8.attention.self.value.bias\", \"bertmodel.encoder.layer.8.attention.output.dense.weight\", \"bertmodel.encoder.layer.8.attention.output.dense.bias\", \"bertmodel.encoder.layer.8.attention.output.LayerNorm.weight\", \"bertmodel.encoder.layer.8.attention.output.LayerNorm.bias\", \"bertmodel.encoder.layer.8.intermediate.dense.weight\", \"bertmodel.encoder.layer.8.intermediate.dense.bias\", \"bertmodel.encoder.layer.8.output.dense.weight\", \"bertmodel.encoder.layer.8.output.dense.bias\", \"bertmodel.encoder.layer.8.output.LayerNorm.weight\", \"bertmodel.encoder.layer.8.output.LayerNorm.bias\", \"bertmodel.encoder.layer.9.attention.self.query.weight\", \"bertmodel.encoder.layer.9.attention.self.query.bias\", \"bertmodel.encoder.layer.9.attention.self.key.weight\", \"bertmodel.encoder.layer.9.attention.self.key.bias\", \"bertmodel.encoder.layer.9.attention.self.value.weight\", \"bertmodel.encoder.layer.9.attention.self.value.bias\", \"bertmodel.encoder.layer.9.attention.output.dense.weight\", \"bertmodel.encoder.layer.9.attention.output.dense.bias\", \"bertmodel.encoder.layer.9.attention.output.LayerNorm.weight\", \"bertmodel.encoder.layer.9.attention.output.LayerNorm.bias\", \"bertmodel.encoder.layer.9.intermediate.dense.weight\", \"bertmodel.encoder.layer.9.intermediate.dense.bias\", \"bertmodel.encoder.layer.9.output.dense.weight\", \"bertmodel.encoder.layer.9.output.dense.bias\", \"bertmodel.encoder.layer.9.output.LayerNorm.weight\", \"bertmodel.encoder.layer.9.output.LayerNorm.bias\", \"bertmodel.encoder.layer.10.attention.self.query.weight\", \"bertmodel.encoder.layer.10.attention.self.query.bias\", \"bertmodel.encoder.layer.10.attention.self.key.weight\", \"bertmodel.encoder.layer.10.attention.self.key.bias\", \"bertmodel.encoder.layer.10.attention.self.value.weight\", \"bertmodel.encoder.layer.10.attention.self.value.bias\", \"bertmodel.encoder.layer.10.attention.output.dense.weight\", \"bertmodel.encoder.layer.10.attention.output.dense.bias\", \"bertmodel.encoder.layer.10.attention.output.LayerNorm.weight\", \"bertmodel.encoder.layer.10.attention.output.LayerNorm.bias\", \"bertmodel.encoder.layer.10.intermediate.dense.weight\", \"bertmodel.encoder.layer.10.intermediate.dense.bias\", \"bertmodel.encoder.layer.10.output.dense.weight\", \"bertmodel.encoder.layer.10.output.dense.bias\", \"bertmodel.encoder.layer.10.output.LayerNorm.weight\", \"bertmodel.encoder.layer.10.output.LayerNorm.bias\", \"bertmodel.encoder.layer.11.attention.self.query.weight\", \"bertmodel.encoder.layer.11.attention.self.query.bias\", \"bertmodel.encoder.layer.11.attention.self.key.weight\", \"bertmodel.encoder.layer.11.attention.self.key.bias\", \"bertmodel.encoder.layer.11.attention.self.value.weight\", \"bertmodel.encoder.layer.11.attention.self.value.bias\", \"bertmodel.encoder.layer.11.attention.output.dense.weight\", \"bertmodel.encoder.layer.11.attention.output.dense.bias\", \"bertmodel.encoder.layer.11.attention.output.LayerNorm.weight\", \"bertmodel.encoder.layer.11.attention.output.LayerNorm.bias\", \"bertmodel.encoder.layer.11.intermediate.dense.weight\", \"bertmodel.encoder.layer.11.intermediate.dense.bias\", \"bertmodel.encoder.layer.11.output.dense.weight\", \"bertmodel.encoder.layer.11.output.dense.bias\", \"bertmodel.encoder.layer.11.output.LayerNorm.weight\", \"bertmodel.encoder.layer.11.output.LayerNorm.bias\", \"bertmodel.pooler.dense.weight\", \"bertmodel.pooler.dense.bias\", \"embedding.weight\". \n\tUnexpected key(s) in state_dict: \"bert.embeddings.word_embeddings.weight\", \"bert.embeddings.position_embeddings.weight\", \"bert.embeddings.token_type_embeddings.weight\", \"bert.embeddings.LayerNorm.weight\", \"bert.embeddings.LayerNorm.bias\", \"bert.encoder.layer.0.attention.self.query.weight\", \"bert.encoder.layer.0.attention.self.query.bias\", \"bert.encoder.layer.0.attention.self.key.weight\", \"bert.encoder.layer.0.attention.self.key.bias\", \"bert.encoder.layer.0.attention.self.value.weight\", \"bert.encoder.layer.0.attention.self.value.bias\", \"bert.encoder.layer.0.attention.output.dense.weight\", \"bert.encoder.layer.0.attention.output.dense.bias\", \"bert.encoder.layer.0.attention.output.LayerNorm.weight\", \"bert.encoder.layer.0.attention.output.LayerNorm.bias\", \"bert.encoder.layer.0.intermediate.dense.weight\", \"bert.encoder.layer.0.intermediate.dense.bias\", \"bert.encoder.layer.0.output.dense.weight\", \"bert.encoder.layer.0.output.dense.bias\", \"bert.encoder.layer.0.output.LayerNorm.weight\", \"bert.encoder.layer.0.output.LayerNorm.bias\", \"bert.encoder.layer.1.attention.self.query.weight\", \"bert.encoder.layer.1.attention.self.query.bias\", \"bert.encoder.layer.1.attention.self.key.weight\", \"bert.encoder.layer.1.attention.self.key.bias\", \"bert.encoder.layer.1.attention.self.value.weight\", \"bert.encoder.layer.1.attention.self.value.bias\", \"bert.encoder.layer.1.attention.output.dense.weight\", \"bert.encoder.layer.1.attention.output.dense.bias\", \"bert.encoder.layer.1.attention.output.LayerNorm.weight\", \"bert.encoder.layer.1.attention.output.LayerNorm.bias\", \"bert.encoder.layer.1.intermediate.dense.weight\", \"bert.encoder.layer.1.intermediate.dense.bias\", \"bert.encoder.layer.1.output.dense.weight\", \"bert.encoder.layer.1.output.dense.bias\", \"bert.encoder.layer.1.output.LayerNorm.weight\", \"bert.encoder.layer.1.output.LayerNorm.bias\", \"bert.encoder.layer.2.attention.self.query.weight\", \"bert.encoder.layer.2.attention.self.query.bias\", \"bert.encoder.layer.2.attention.self.key.weight\", \"bert.encoder.layer.2.attention.self.key.bias\", \"bert.encoder.layer.2.attention.self.value.weight\", \"bert.encoder.layer.2.attention.self.value.bias\", \"bert.encoder.layer.2.attention.output.dense.weight\", \"bert.encoder.layer.2.attention.output.dense.bias\", \"bert.encoder.layer.2.attention.output.LayerNorm.weight\", \"bert.encoder.layer.2.attention.output.LayerNorm.bias\", \"bert.encoder.layer.2.intermediate.dense.weight\", \"bert.encoder.layer.2.intermediate.dense.bias\", \"bert.encoder.layer.2.output.dense.weight\", \"bert.encoder.layer.2.output.dense.bias\", \"bert.encoder.layer.2.output.LayerNorm.weight\", \"bert.encoder.layer.2.output.LayerNorm.bias\", \"bert.encoder.layer.3.attention.self.query.weight\", \"bert.encoder.layer.3.attention.self.query.bias\", \"bert.encoder.layer.3.attention.self.key.weight\", \"bert.encoder.layer.3.attention.self.key.bias\", \"bert.encoder.layer.3.attention.self.value.weight\", \"bert.encoder.layer.3.attention.self.value.bias\", \"bert.encoder.layer.3.attention.output.dense.weight\", \"bert.encoder.layer.3.attention.output.dense.bias\", \"bert.encoder.layer.3.attention.output.LayerNorm.weight\", \"bert.encoder.layer.3.attention.output.LayerNorm.bias\", \"bert.encoder.layer.3.intermediate.dense.weight\", \"bert.encoder.layer.3.intermediate.dense.bias\", \"bert.encoder.layer.3.output.dense.weight\", \"bert.encoder.layer.3.output.dense.bias\", \"bert.encoder.layer.3.output.LayerNorm.weight\", \"bert.encoder.layer.3.output.LayerNorm.bias\", \"bert.encoder.layer.4.attention.self.query.weight\", \"bert.encoder.layer.4.attention.self.query.bias\", \"bert.encoder.layer.4.attention.self.key.weight\", \"bert.encoder.layer.4.attention.self.key.bias\", \"bert.encoder.layer.4.attention.self.value.weight\", \"bert.encoder.layer.4.attention.self.value.bias\", \"bert.encoder.layer.4.attention.output.dense.weight\", \"bert.encoder.layer.4.attention.output.dense.bias\", \"bert.encoder.layer.4.attention.output.LayerNorm.weight\", \"bert.encoder.layer.4.attention.output.LayerNorm.bias\", \"bert.encoder.layer.4.intermediate.dense.weight\", \"bert.encoder.layer.4.intermediate.dense.bias\", \"bert.encoder.layer.4.output.dense.weight\", \"bert.encoder.layer.4.output.dense.bias\", \"bert.encoder.layer.4.output.LayerNorm.weight\", \"bert.encoder.layer.4.output.LayerNorm.bias\", \"bert.encoder.layer.5.attention.self.query.weight\", \"bert.encoder.layer.5.attention.self.query.bias\", \"bert.encoder.layer.5.attention.self.key.weight\", \"bert.encoder.layer.5.attention.self.key.bias\", \"bert.encoder.layer.5.attention.self.value.weight\", \"bert.encoder.layer.5.attention.self.value.bias\", \"bert.encoder.layer.5.attention.output.dense.weight\", \"bert.encoder.layer.5.attention.output.dense.bias\", \"bert.encoder.layer.5.attention.output.LayerNorm.weight\", \"bert.encoder.layer.5.attention.output.LayerNorm.bias\", \"bert.encoder.layer.5.intermediate.dense.weight\", \"bert.encoder.layer.5.intermediate.dense.bias\", \"bert.encoder.layer.5.output.dense.weight\", \"bert.encoder.layer.5.output.dense.bias\", \"bert.encoder.layer.5.output.LayerNorm.weight\", \"bert.encoder.layer.5.output.LayerNorm.bias\", \"bert.encoder.layer.6.attention.self.query.weight\", \"bert.encoder.layer.6.attention.self.query.bias\", \"bert.encoder.layer.6.attention.self.key.weight\", \"bert.encoder.layer.6.attention.self.key.bias\", \"bert.encoder.layer.6.attention.self.value.weight\", \"bert.encoder.layer.6.attention.self.value.bias\", \"bert.encoder.layer.6.attention.output.dense.weight\", \"bert.encoder.layer.6.attention.output.dense.bias\", \"bert.encoder.layer.6.attention.output.LayerNorm.weight\", \"bert.encoder.layer.6.attention.output.LayerNorm.bias\", \"bert.encoder.layer.6.intermediate.dense.weight\", \"bert.encoder.layer.6.intermediate.dense.bias\", \"bert.encoder.layer.6.output.dense.weight\", \"bert.encoder.layer.6.output.dense.bias\", \"bert.encoder.layer.6.output.LayerNorm.weight\", \"bert.encoder.layer.6.output.LayerNorm.bias\", \"bert.encoder.layer.7.attention.self.query.weight\", \"bert.encoder.layer.7.attention.self.query.bias\", \"bert.encoder.layer.7.attention.self.key.weight\", \"bert.encoder.layer.7.attention.self.key.bias\", \"bert.encoder.layer.7.attention.self.value.weight\", \"bert.encoder.layer.7.attention.self.value.bias\", \"bert.encoder.layer.7.attention.output.dense.weight\", \"bert.encoder.layer.7.attention.output.dense.bias\", \"bert.encoder.layer.7.attention.output.LayerNorm.weight\", \"bert.encoder.layer.7.attention.output.LayerNorm.bias\", \"bert.encoder.layer.7.intermediate.dense.weight\", \"bert.encoder.layer.7.intermediate.dense.bias\", \"bert.encoder.layer.7.output.dense.weight\", \"bert.encoder.layer.7.output.dense.bias\", \"bert.encoder.layer.7.output.LayerNorm.weight\", \"bert.encoder.layer.7.output.LayerNorm.bias\", \"bert.encoder.layer.8.attention.self.query.weight\", \"bert.encoder.layer.8.attention.self.query.bias\", \"bert.encoder.layer.8.attention.self.key.weight\", \"bert.encoder.layer.8.attention.self.key.bias\", \"bert.encoder.layer.8.attention.self.value.weight\", \"bert.encoder.layer.8.attention.self.value.bias\", \"bert.encoder.layer.8.attention.output.dense.weight\", \"bert.encoder.layer.8.attention.output.dense.bias\", \"bert.encoder.layer.8.attention.output.LayerNorm.weight\", \"bert.encoder.layer.8.attention.output.LayerNorm.bias\", \"bert.encoder.layer.8.intermediate.dense.weight\", \"bert.encoder.layer.8.intermediate.dense.bias\", \"bert.encoder.layer.8.output.dense.weight\", \"bert.encoder.layer.8.output.dense.bias\", \"bert.encoder.layer.8.output.LayerNorm.weight\", \"bert.encoder.layer.8.output.LayerNorm.bias\", \"bert.encoder.layer.9.attention.self.query.weight\", \"bert.encoder.layer.9.attention.self.query.bias\", \"bert.encoder.layer.9.attention.self.key.weight\", \"bert.encoder.layer.9.attention.self.key.bias\", \"bert.encoder.layer.9.attention.self.value.weight\", \"bert.encoder.layer.9.attention.self.value.bias\", \"bert.encoder.layer.9.attention.output.dense.weight\", \"bert.encoder.layer.9.attention.output.dense.bias\", \"bert.encoder.layer.9.attention.output.LayerNorm.weight\", \"bert.encoder.layer.9.attention.output.LayerNorm.bias\", \"bert.encoder.layer.9.intermediate.dense.weight\", \"bert.encoder.layer.9.intermediate.dense.bias\", \"bert.encoder.layer.9.output.dense.weight\", \"bert.encoder.layer.9.output.dense.bias\", \"bert.encoder.layer.9.output.LayerNorm.weight\", \"bert.encoder.layer.9.output.LayerNorm.bias\", \"bert.encoder.layer.10.attention.self.query.weight\", \"bert.encoder.layer.10.attention.self.query.bias\", \"bert.encoder.layer.10.attention.self.key.weight\", \"bert.encoder.layer.10.attention.self.key.bias\", \"bert.encoder.layer.10.attention.self.value.weight\", \"bert.encoder.layer.10.attention.self.value.bias\", \"bert.encoder.layer.10.attention.output.dense.weight\", \"bert.encoder.layer.10.attention.output.dense.bias\", \"bert.encoder.layer.10.attention.output.LayerNorm.weight\", \"bert.encoder.layer.10.attention.output.LayerNorm.bias\", \"bert.encoder.layer.10.intermediate.dense.weight\", \"bert.encoder.layer.10.intermediate.dense.bias\", \"bert.encoder.layer.10.output.dense.weight\", \"bert.encoder.layer.10.output.dense.bias\", \"bert.encoder.layer.10.output.LayerNorm.weight\", \"bert.encoder.layer.10.output.LayerNorm.bias\", \"bert.encoder.layer.11.attention.self.query.weight\", \"bert.encoder.layer.11.attention.self.query.bias\", \"bert.encoder.layer.11.attention.self.key.weight\", \"bert.encoder.layer.11.attention.self.key.bias\", \"bert.encoder.layer.11.attention.self.value.weight\", \"bert.encoder.layer.11.attention.self.value.bias\", \"bert.encoder.layer.11.attention.output.dense.weight\", \"bert.encoder.layer.11.attention.output.dense.bias\", \"bert.encoder.layer.11.attention.output.LayerNorm.weight\", \"bert.encoder.layer.11.attention.output.LayerNorm.bias\", \"bert.encoder.layer.11.intermediate.dense.weight\", \"bert.encoder.layer.11.intermediate.dense.bias\", \"bert.encoder.layer.11.output.dense.weight\", \"bert.encoder.layer.11.output.dense.bias\", \"bert.encoder.layer.11.output.LayerNorm.weight\", \"bert.encoder.layer.11.output.LayerNorm.bias\", \"bert.pooler.dense.weight\", \"bert.pooler.dense.bias\". \n\tsize mismatch for lstm.weight_ih_l0: copying a param with shape torch.Size([512, 768]) from checkpoint, the shape in current model is torch.Size([512, 100]).\n\tsize mismatch for lstm.weight_ih_l0_reverse: copying a param with shape torch.Size([512, 768]) from checkpoint, the shape in current model is torch.Size([512, 100]).",
     "output_type": "error",
     "traceback": [
      "\u001b[1;31m---------------------------------------------------------------------------\u001b[0m",
      "\u001b[1;31mRuntimeError\u001b[0m                              Traceback (most recent call last)",
      "Cell \u001b[1;32mIn[75], line 6\u001b[0m\n\u001b[0;32m      4\u001b[0m testing(model_glove,\u001b[38;5;124m'\u001b[39m\u001b[38;5;124mbest_glove_model.pth\u001b[39m\u001b[38;5;124m'\u001b[39m, test_loader)\n\u001b[0;32m      5\u001b[0m \u001b[38;5;28mprint\u001b[39m(\u001b[38;5;124m'\u001b[39m\u001b[38;5;124mBERT type testing...\u001b[39m\u001b[38;5;124m'\u001b[39m)\n\u001b[1;32m----> 6\u001b[0m testing(model_glove,\u001b[38;5;124m'\u001b[39m\u001b[38;5;124mbest_bert_model.pth\u001b[39m\u001b[38;5;124m'\u001b[39m, test_loader)\n",
      "Cell \u001b[1;32mIn[69], line 2\u001b[0m, in \u001b[0;36mtesting\u001b[1;34m(model, model_name, test_loader)\u001b[0m\n\u001b[0;32m      1\u001b[0m \u001b[38;5;28;01mdef\u001b[39;00m \u001b[38;5;21mtesting\u001b[39m(model, model_name, test_loader):\n\u001b[1;32m----> 2\u001b[0m     model\u001b[38;5;241m.\u001b[39mload_state_dict(torch\u001b[38;5;241m.\u001b[39mload(model_name))\n\u001b[0;32m      3\u001b[0m     model\u001b[38;5;241m.\u001b[39meval()\n\u001b[0;32m      5\u001b[0m     all_preds, all_labels \u001b[38;5;241m=\u001b[39m [], []\n",
      "File \u001b[1;32m~\\anaconda3\\Lib\\site-packages\\torch\\nn\\modules\\module.py:2581\u001b[0m, in \u001b[0;36mModule.load_state_dict\u001b[1;34m(self, state_dict, strict, assign)\u001b[0m\n\u001b[0;32m   2573\u001b[0m         error_msgs\u001b[38;5;241m.\u001b[39minsert(\n\u001b[0;32m   2574\u001b[0m             \u001b[38;5;241m0\u001b[39m,\n\u001b[0;32m   2575\u001b[0m             \u001b[38;5;124m\"\u001b[39m\u001b[38;5;124mMissing key(s) in state_dict: \u001b[39m\u001b[38;5;132;01m{}\u001b[39;00m\u001b[38;5;124m. \u001b[39m\u001b[38;5;124m\"\u001b[39m\u001b[38;5;241m.\u001b[39mformat(\n\u001b[0;32m   2576\u001b[0m                 \u001b[38;5;124m\"\u001b[39m\u001b[38;5;124m, \u001b[39m\u001b[38;5;124m\"\u001b[39m\u001b[38;5;241m.\u001b[39mjoin(\u001b[38;5;124mf\u001b[39m\u001b[38;5;124m'\u001b[39m\u001b[38;5;124m\"\u001b[39m\u001b[38;5;132;01m{\u001b[39;00mk\u001b[38;5;132;01m}\u001b[39;00m\u001b[38;5;124m\"\u001b[39m\u001b[38;5;124m'\u001b[39m \u001b[38;5;28;01mfor\u001b[39;00m k \u001b[38;5;129;01min\u001b[39;00m missing_keys)\n\u001b[0;32m   2577\u001b[0m             ),\n\u001b[0;32m   2578\u001b[0m         )\n\u001b[0;32m   2580\u001b[0m \u001b[38;5;28;01mif\u001b[39;00m \u001b[38;5;28mlen\u001b[39m(error_msgs) \u001b[38;5;241m>\u001b[39m \u001b[38;5;241m0\u001b[39m:\n\u001b[1;32m-> 2581\u001b[0m     \u001b[38;5;28;01mraise\u001b[39;00m \u001b[38;5;167;01mRuntimeError\u001b[39;00m(\n\u001b[0;32m   2582\u001b[0m         \u001b[38;5;124m\"\u001b[39m\u001b[38;5;124mError(s) in loading state_dict for \u001b[39m\u001b[38;5;132;01m{}\u001b[39;00m\u001b[38;5;124m:\u001b[39m\u001b[38;5;130;01m\\n\u001b[39;00m\u001b[38;5;130;01m\\t\u001b[39;00m\u001b[38;5;132;01m{}\u001b[39;00m\u001b[38;5;124m\"\u001b[39m\u001b[38;5;241m.\u001b[39mformat(\n\u001b[0;32m   2583\u001b[0m             \u001b[38;5;28mself\u001b[39m\u001b[38;5;241m.\u001b[39m\u001b[38;5;18m__class__\u001b[39m\u001b[38;5;241m.\u001b[39m\u001b[38;5;18m__name__\u001b[39m, \u001b[38;5;124m\"\u001b[39m\u001b[38;5;130;01m\\n\u001b[39;00m\u001b[38;5;130;01m\\t\u001b[39;00m\u001b[38;5;124m\"\u001b[39m\u001b[38;5;241m.\u001b[39mjoin(error_msgs)\n\u001b[0;32m   2584\u001b[0m         )\n\u001b[0;32m   2585\u001b[0m     )\n\u001b[0;32m   2586\u001b[0m \u001b[38;5;28;01mreturn\u001b[39;00m _IncompatibleKeys(missing_keys, unexpected_keys)\n",
      "\u001b[1;31mRuntimeError\u001b[0m: Error(s) in loading state_dict for NER_Model:\n\tMissing key(s) in state_dict: \"bertmodel.embeddings.word_embeddings.weight\", \"bertmodel.embeddings.position_embeddings.weight\", \"bertmodel.embeddings.token_type_embeddings.weight\", \"bertmodel.embeddings.LayerNorm.weight\", \"bertmodel.embeddings.LayerNorm.bias\", \"bertmodel.encoder.layer.0.attention.self.query.weight\", \"bertmodel.encoder.layer.0.attention.self.query.bias\", \"bertmodel.encoder.layer.0.attention.self.key.weight\", \"bertmodel.encoder.layer.0.attention.self.key.bias\", \"bertmodel.encoder.layer.0.attention.self.value.weight\", \"bertmodel.encoder.layer.0.attention.self.value.bias\", \"bertmodel.encoder.layer.0.attention.output.dense.weight\", \"bertmodel.encoder.layer.0.attention.output.dense.bias\", \"bertmodel.encoder.layer.0.attention.output.LayerNorm.weight\", \"bertmodel.encoder.layer.0.attention.output.LayerNorm.bias\", \"bertmodel.encoder.layer.0.intermediate.dense.weight\", \"bertmodel.encoder.layer.0.intermediate.dense.bias\", \"bertmodel.encoder.layer.0.output.dense.weight\", \"bertmodel.encoder.layer.0.output.dense.bias\", \"bertmodel.encoder.layer.0.output.LayerNorm.weight\", \"bertmodel.encoder.layer.0.output.LayerNorm.bias\", \"bertmodel.encoder.layer.1.attention.self.query.weight\", \"bertmodel.encoder.layer.1.attention.self.query.bias\", \"bertmodel.encoder.layer.1.attention.self.key.weight\", \"bertmodel.encoder.layer.1.attention.self.key.bias\", \"bertmodel.encoder.layer.1.attention.self.value.weight\", \"bertmodel.encoder.layer.1.attention.self.value.bias\", \"bertmodel.encoder.layer.1.attention.output.dense.weight\", \"bertmodel.encoder.layer.1.attention.output.dense.bias\", \"bertmodel.encoder.layer.1.attention.output.LayerNorm.weight\", \"bertmodel.encoder.layer.1.attention.output.LayerNorm.bias\", \"bertmodel.encoder.layer.1.intermediate.dense.weight\", \"bertmodel.encoder.layer.1.intermediate.dense.bias\", \"bertmodel.encoder.layer.1.output.dense.weight\", \"bertmodel.encoder.layer.1.output.dense.bias\", \"bertmodel.encoder.layer.1.output.LayerNorm.weight\", \"bertmodel.encoder.layer.1.output.LayerNorm.bias\", \"bertmodel.encoder.layer.2.attention.self.query.weight\", \"bertmodel.encoder.layer.2.attention.self.query.bias\", \"bertmodel.encoder.layer.2.attention.self.key.weight\", \"bertmodel.encoder.layer.2.attention.self.key.bias\", \"bertmodel.encoder.layer.2.attention.self.value.weight\", \"bertmodel.encoder.layer.2.attention.self.value.bias\", \"bertmodel.encoder.layer.2.attention.output.dense.weight\", \"bertmodel.encoder.layer.2.attention.output.dense.bias\", \"bertmodel.encoder.layer.2.attention.output.LayerNorm.weight\", \"bertmodel.encoder.layer.2.attention.output.LayerNorm.bias\", \"bertmodel.encoder.layer.2.intermediate.dense.weight\", \"bertmodel.encoder.layer.2.intermediate.dense.bias\", \"bertmodel.encoder.layer.2.output.dense.weight\", \"bertmodel.encoder.layer.2.output.dense.bias\", \"bertmodel.encoder.layer.2.output.LayerNorm.weight\", \"bertmodel.encoder.layer.2.output.LayerNorm.bias\", \"bertmodel.encoder.layer.3.attention.self.query.weight\", \"bertmodel.encoder.layer.3.attention.self.query.bias\", \"bertmodel.encoder.layer.3.attention.self.key.weight\", \"bertmodel.encoder.layer.3.attention.self.key.bias\", \"bertmodel.encoder.layer.3.attention.self.value.weight\", \"bertmodel.encoder.layer.3.attention.self.value.bias\", \"bertmodel.encoder.layer.3.attention.output.dense.weight\", \"bertmodel.encoder.layer.3.attention.output.dense.bias\", \"bertmodel.encoder.layer.3.attention.output.LayerNorm.weight\", \"bertmodel.encoder.layer.3.attention.output.LayerNorm.bias\", \"bertmodel.encoder.layer.3.intermediate.dense.weight\", \"bertmodel.encoder.layer.3.intermediate.dense.bias\", \"bertmodel.encoder.layer.3.output.dense.weight\", \"bertmodel.encoder.layer.3.output.dense.bias\", \"bertmodel.encoder.layer.3.output.LayerNorm.weight\", \"bertmodel.encoder.layer.3.output.LayerNorm.bias\", \"bertmodel.encoder.layer.4.attention.self.query.weight\", \"bertmodel.encoder.layer.4.attention.self.query.bias\", \"bertmodel.encoder.layer.4.attention.self.key.weight\", \"bertmodel.encoder.layer.4.attention.self.key.bias\", \"bertmodel.encoder.layer.4.attention.self.value.weight\", \"bertmodel.encoder.layer.4.attention.self.value.bias\", \"bertmodel.encoder.layer.4.attention.output.dense.weight\", \"bertmodel.encoder.layer.4.attention.output.dense.bias\", \"bertmodel.encoder.layer.4.attention.output.LayerNorm.weight\", \"bertmodel.encoder.layer.4.attention.output.LayerNorm.bias\", \"bertmodel.encoder.layer.4.intermediate.dense.weight\", \"bertmodel.encoder.layer.4.intermediate.dense.bias\", \"bertmodel.encoder.layer.4.output.dense.weight\", \"bertmodel.encoder.layer.4.output.dense.bias\", \"bertmodel.encoder.layer.4.output.LayerNorm.weight\", \"bertmodel.encoder.layer.4.output.LayerNorm.bias\", \"bertmodel.encoder.layer.5.attention.self.query.weight\", \"bertmodel.encoder.layer.5.attention.self.query.bias\", \"bertmodel.encoder.layer.5.attention.self.key.weight\", \"bertmodel.encoder.layer.5.attention.self.key.bias\", \"bertmodel.encoder.layer.5.attention.self.value.weight\", \"bertmodel.encoder.layer.5.attention.self.value.bias\", \"bertmodel.encoder.layer.5.attention.output.dense.weight\", \"bertmodel.encoder.layer.5.attention.output.dense.bias\", \"bertmodel.encoder.layer.5.attention.output.LayerNorm.weight\", \"bertmodel.encoder.layer.5.attention.output.LayerNorm.bias\", \"bertmodel.encoder.layer.5.intermediate.dense.weight\", \"bertmodel.encoder.layer.5.intermediate.dense.bias\", \"bertmodel.encoder.layer.5.output.dense.weight\", \"bertmodel.encoder.layer.5.output.dense.bias\", \"bertmodel.encoder.layer.5.output.LayerNorm.weight\", \"bertmodel.encoder.layer.5.output.LayerNorm.bias\", \"bertmodel.encoder.layer.6.attention.self.query.weight\", \"bertmodel.encoder.layer.6.attention.self.query.bias\", \"bertmodel.encoder.layer.6.attention.self.key.weight\", \"bertmodel.encoder.layer.6.attention.self.key.bias\", \"bertmodel.encoder.layer.6.attention.self.value.weight\", \"bertmodel.encoder.layer.6.attention.self.value.bias\", \"bertmodel.encoder.layer.6.attention.output.dense.weight\", \"bertmodel.encoder.layer.6.attention.output.dense.bias\", \"bertmodel.encoder.layer.6.attention.output.LayerNorm.weight\", \"bertmodel.encoder.layer.6.attention.output.LayerNorm.bias\", \"bertmodel.encoder.layer.6.intermediate.dense.weight\", \"bertmodel.encoder.layer.6.intermediate.dense.bias\", \"bertmodel.encoder.layer.6.output.dense.weight\", \"bertmodel.encoder.layer.6.output.dense.bias\", \"bertmodel.encoder.layer.6.output.LayerNorm.weight\", \"bertmodel.encoder.layer.6.output.LayerNorm.bias\", \"bertmodel.encoder.layer.7.attention.self.query.weight\", \"bertmodel.encoder.layer.7.attention.self.query.bias\", \"bertmodel.encoder.layer.7.attention.self.key.weight\", \"bertmodel.encoder.layer.7.attention.self.key.bias\", \"bertmodel.encoder.layer.7.attention.self.value.weight\", \"bertmodel.encoder.layer.7.attention.self.value.bias\", \"bertmodel.encoder.layer.7.attention.output.dense.weight\", \"bertmodel.encoder.layer.7.attention.output.dense.bias\", \"bertmodel.encoder.layer.7.attention.output.LayerNorm.weight\", \"bertmodel.encoder.layer.7.attention.output.LayerNorm.bias\", \"bertmodel.encoder.layer.7.intermediate.dense.weight\", \"bertmodel.encoder.layer.7.intermediate.dense.bias\", \"bertmodel.encoder.layer.7.output.dense.weight\", \"bertmodel.encoder.layer.7.output.dense.bias\", \"bertmodel.encoder.layer.7.output.LayerNorm.weight\", \"bertmodel.encoder.layer.7.output.LayerNorm.bias\", \"bertmodel.encoder.layer.8.attention.self.query.weight\", \"bertmodel.encoder.layer.8.attention.self.query.bias\", \"bertmodel.encoder.layer.8.attention.self.key.weight\", \"bertmodel.encoder.layer.8.attention.self.key.bias\", \"bertmodel.encoder.layer.8.attention.self.value.weight\", \"bertmodel.encoder.layer.8.attention.self.value.bias\", \"bertmodel.encoder.layer.8.attention.output.dense.weight\", \"bertmodel.encoder.layer.8.attention.output.dense.bias\", \"bertmodel.encoder.layer.8.attention.output.LayerNorm.weight\", \"bertmodel.encoder.layer.8.attention.output.LayerNorm.bias\", \"bertmodel.encoder.layer.8.intermediate.dense.weight\", \"bertmodel.encoder.layer.8.intermediate.dense.bias\", \"bertmodel.encoder.layer.8.output.dense.weight\", \"bertmodel.encoder.layer.8.output.dense.bias\", \"bertmodel.encoder.layer.8.output.LayerNorm.weight\", \"bertmodel.encoder.layer.8.output.LayerNorm.bias\", \"bertmodel.encoder.layer.9.attention.self.query.weight\", \"bertmodel.encoder.layer.9.attention.self.query.bias\", \"bertmodel.encoder.layer.9.attention.self.key.weight\", \"bertmodel.encoder.layer.9.attention.self.key.bias\", \"bertmodel.encoder.layer.9.attention.self.value.weight\", \"bertmodel.encoder.layer.9.attention.self.value.bias\", \"bertmodel.encoder.layer.9.attention.output.dense.weight\", \"bertmodel.encoder.layer.9.attention.output.dense.bias\", \"bertmodel.encoder.layer.9.attention.output.LayerNorm.weight\", \"bertmodel.encoder.layer.9.attention.output.LayerNorm.bias\", \"bertmodel.encoder.layer.9.intermediate.dense.weight\", \"bertmodel.encoder.layer.9.intermediate.dense.bias\", \"bertmodel.encoder.layer.9.output.dense.weight\", \"bertmodel.encoder.layer.9.output.dense.bias\", \"bertmodel.encoder.layer.9.output.LayerNorm.weight\", \"bertmodel.encoder.layer.9.output.LayerNorm.bias\", \"bertmodel.encoder.layer.10.attention.self.query.weight\", \"bertmodel.encoder.layer.10.attention.self.query.bias\", \"bertmodel.encoder.layer.10.attention.self.key.weight\", \"bertmodel.encoder.layer.10.attention.self.key.bias\", \"bertmodel.encoder.layer.10.attention.self.value.weight\", \"bertmodel.encoder.layer.10.attention.self.value.bias\", \"bertmodel.encoder.layer.10.attention.output.dense.weight\", \"bertmodel.encoder.layer.10.attention.output.dense.bias\", \"bertmodel.encoder.layer.10.attention.output.LayerNorm.weight\", \"bertmodel.encoder.layer.10.attention.output.LayerNorm.bias\", \"bertmodel.encoder.layer.10.intermediate.dense.weight\", \"bertmodel.encoder.layer.10.intermediate.dense.bias\", \"bertmodel.encoder.layer.10.output.dense.weight\", \"bertmodel.encoder.layer.10.output.dense.bias\", \"bertmodel.encoder.layer.10.output.LayerNorm.weight\", \"bertmodel.encoder.layer.10.output.LayerNorm.bias\", \"bertmodel.encoder.layer.11.attention.self.query.weight\", \"bertmodel.encoder.layer.11.attention.self.query.bias\", \"bertmodel.encoder.layer.11.attention.self.key.weight\", \"bertmodel.encoder.layer.11.attention.self.key.bias\", \"bertmodel.encoder.layer.11.attention.self.value.weight\", \"bertmodel.encoder.layer.11.attention.self.value.bias\", \"bertmodel.encoder.layer.11.attention.output.dense.weight\", \"bertmodel.encoder.layer.11.attention.output.dense.bias\", \"bertmodel.encoder.layer.11.attention.output.LayerNorm.weight\", \"bertmodel.encoder.layer.11.attention.output.LayerNorm.bias\", \"bertmodel.encoder.layer.11.intermediate.dense.weight\", \"bertmodel.encoder.layer.11.intermediate.dense.bias\", \"bertmodel.encoder.layer.11.output.dense.weight\", \"bertmodel.encoder.layer.11.output.dense.bias\", \"bertmodel.encoder.layer.11.output.LayerNorm.weight\", \"bertmodel.encoder.layer.11.output.LayerNorm.bias\", \"bertmodel.pooler.dense.weight\", \"bertmodel.pooler.dense.bias\", \"embedding.weight\". \n\tUnexpected key(s) in state_dict: \"bert.embeddings.word_embeddings.weight\", \"bert.embeddings.position_embeddings.weight\", \"bert.embeddings.token_type_embeddings.weight\", \"bert.embeddings.LayerNorm.weight\", \"bert.embeddings.LayerNorm.bias\", \"bert.encoder.layer.0.attention.self.query.weight\", \"bert.encoder.layer.0.attention.self.query.bias\", \"bert.encoder.layer.0.attention.self.key.weight\", \"bert.encoder.layer.0.attention.self.key.bias\", \"bert.encoder.layer.0.attention.self.value.weight\", \"bert.encoder.layer.0.attention.self.value.bias\", \"bert.encoder.layer.0.attention.output.dense.weight\", \"bert.encoder.layer.0.attention.output.dense.bias\", \"bert.encoder.layer.0.attention.output.LayerNorm.weight\", \"bert.encoder.layer.0.attention.output.LayerNorm.bias\", \"bert.encoder.layer.0.intermediate.dense.weight\", \"bert.encoder.layer.0.intermediate.dense.bias\", \"bert.encoder.layer.0.output.dense.weight\", \"bert.encoder.layer.0.output.dense.bias\", \"bert.encoder.layer.0.output.LayerNorm.weight\", \"bert.encoder.layer.0.output.LayerNorm.bias\", \"bert.encoder.layer.1.attention.self.query.weight\", \"bert.encoder.layer.1.attention.self.query.bias\", \"bert.encoder.layer.1.attention.self.key.weight\", \"bert.encoder.layer.1.attention.self.key.bias\", \"bert.encoder.layer.1.attention.self.value.weight\", \"bert.encoder.layer.1.attention.self.value.bias\", \"bert.encoder.layer.1.attention.output.dense.weight\", \"bert.encoder.layer.1.attention.output.dense.bias\", \"bert.encoder.layer.1.attention.output.LayerNorm.weight\", \"bert.encoder.layer.1.attention.output.LayerNorm.bias\", \"bert.encoder.layer.1.intermediate.dense.weight\", \"bert.encoder.layer.1.intermediate.dense.bias\", \"bert.encoder.layer.1.output.dense.weight\", \"bert.encoder.layer.1.output.dense.bias\", \"bert.encoder.layer.1.output.LayerNorm.weight\", \"bert.encoder.layer.1.output.LayerNorm.bias\", \"bert.encoder.layer.2.attention.self.query.weight\", \"bert.encoder.layer.2.attention.self.query.bias\", \"bert.encoder.layer.2.attention.self.key.weight\", \"bert.encoder.layer.2.attention.self.key.bias\", \"bert.encoder.layer.2.attention.self.value.weight\", \"bert.encoder.layer.2.attention.self.value.bias\", \"bert.encoder.layer.2.attention.output.dense.weight\", \"bert.encoder.layer.2.attention.output.dense.bias\", \"bert.encoder.layer.2.attention.output.LayerNorm.weight\", \"bert.encoder.layer.2.attention.output.LayerNorm.bias\", \"bert.encoder.layer.2.intermediate.dense.weight\", \"bert.encoder.layer.2.intermediate.dense.bias\", \"bert.encoder.layer.2.output.dense.weight\", \"bert.encoder.layer.2.output.dense.bias\", \"bert.encoder.layer.2.output.LayerNorm.weight\", \"bert.encoder.layer.2.output.LayerNorm.bias\", \"bert.encoder.layer.3.attention.self.query.weight\", \"bert.encoder.layer.3.attention.self.query.bias\", \"bert.encoder.layer.3.attention.self.key.weight\", \"bert.encoder.layer.3.attention.self.key.bias\", \"bert.encoder.layer.3.attention.self.value.weight\", \"bert.encoder.layer.3.attention.self.value.bias\", \"bert.encoder.layer.3.attention.output.dense.weight\", \"bert.encoder.layer.3.attention.output.dense.bias\", \"bert.encoder.layer.3.attention.output.LayerNorm.weight\", \"bert.encoder.layer.3.attention.output.LayerNorm.bias\", \"bert.encoder.layer.3.intermediate.dense.weight\", \"bert.encoder.layer.3.intermediate.dense.bias\", \"bert.encoder.layer.3.output.dense.weight\", \"bert.encoder.layer.3.output.dense.bias\", \"bert.encoder.layer.3.output.LayerNorm.weight\", \"bert.encoder.layer.3.output.LayerNorm.bias\", \"bert.encoder.layer.4.attention.self.query.weight\", \"bert.encoder.layer.4.attention.self.query.bias\", \"bert.encoder.layer.4.attention.self.key.weight\", \"bert.encoder.layer.4.attention.self.key.bias\", \"bert.encoder.layer.4.attention.self.value.weight\", \"bert.encoder.layer.4.attention.self.value.bias\", \"bert.encoder.layer.4.attention.output.dense.weight\", \"bert.encoder.layer.4.attention.output.dense.bias\", \"bert.encoder.layer.4.attention.output.LayerNorm.weight\", \"bert.encoder.layer.4.attention.output.LayerNorm.bias\", \"bert.encoder.layer.4.intermediate.dense.weight\", \"bert.encoder.layer.4.intermediate.dense.bias\", \"bert.encoder.layer.4.output.dense.weight\", \"bert.encoder.layer.4.output.dense.bias\", \"bert.encoder.layer.4.output.LayerNorm.weight\", \"bert.encoder.layer.4.output.LayerNorm.bias\", \"bert.encoder.layer.5.attention.self.query.weight\", \"bert.encoder.layer.5.attention.self.query.bias\", \"bert.encoder.layer.5.attention.self.key.weight\", \"bert.encoder.layer.5.attention.self.key.bias\", \"bert.encoder.layer.5.attention.self.value.weight\", \"bert.encoder.layer.5.attention.self.value.bias\", \"bert.encoder.layer.5.attention.output.dense.weight\", \"bert.encoder.layer.5.attention.output.dense.bias\", \"bert.encoder.layer.5.attention.output.LayerNorm.weight\", \"bert.encoder.layer.5.attention.output.LayerNorm.bias\", \"bert.encoder.layer.5.intermediate.dense.weight\", \"bert.encoder.layer.5.intermediate.dense.bias\", \"bert.encoder.layer.5.output.dense.weight\", \"bert.encoder.layer.5.output.dense.bias\", \"bert.encoder.layer.5.output.LayerNorm.weight\", \"bert.encoder.layer.5.output.LayerNorm.bias\", \"bert.encoder.layer.6.attention.self.query.weight\", \"bert.encoder.layer.6.attention.self.query.bias\", \"bert.encoder.layer.6.attention.self.key.weight\", \"bert.encoder.layer.6.attention.self.key.bias\", \"bert.encoder.layer.6.attention.self.value.weight\", \"bert.encoder.layer.6.attention.self.value.bias\", \"bert.encoder.layer.6.attention.output.dense.weight\", \"bert.encoder.layer.6.attention.output.dense.bias\", \"bert.encoder.layer.6.attention.output.LayerNorm.weight\", \"bert.encoder.layer.6.attention.output.LayerNorm.bias\", \"bert.encoder.layer.6.intermediate.dense.weight\", \"bert.encoder.layer.6.intermediate.dense.bias\", \"bert.encoder.layer.6.output.dense.weight\", \"bert.encoder.layer.6.output.dense.bias\", \"bert.encoder.layer.6.output.LayerNorm.weight\", \"bert.encoder.layer.6.output.LayerNorm.bias\", \"bert.encoder.layer.7.attention.self.query.weight\", \"bert.encoder.layer.7.attention.self.query.bias\", \"bert.encoder.layer.7.attention.self.key.weight\", \"bert.encoder.layer.7.attention.self.key.bias\", \"bert.encoder.layer.7.attention.self.value.weight\", \"bert.encoder.layer.7.attention.self.value.bias\", \"bert.encoder.layer.7.attention.output.dense.weight\", \"bert.encoder.layer.7.attention.output.dense.bias\", \"bert.encoder.layer.7.attention.output.LayerNorm.weight\", \"bert.encoder.layer.7.attention.output.LayerNorm.bias\", \"bert.encoder.layer.7.intermediate.dense.weight\", \"bert.encoder.layer.7.intermediate.dense.bias\", \"bert.encoder.layer.7.output.dense.weight\", \"bert.encoder.layer.7.output.dense.bias\", \"bert.encoder.layer.7.output.LayerNorm.weight\", \"bert.encoder.layer.7.output.LayerNorm.bias\", \"bert.encoder.layer.8.attention.self.query.weight\", \"bert.encoder.layer.8.attention.self.query.bias\", \"bert.encoder.layer.8.attention.self.key.weight\", \"bert.encoder.layer.8.attention.self.key.bias\", \"bert.encoder.layer.8.attention.self.value.weight\", \"bert.encoder.layer.8.attention.self.value.bias\", \"bert.encoder.layer.8.attention.output.dense.weight\", \"bert.encoder.layer.8.attention.output.dense.bias\", \"bert.encoder.layer.8.attention.output.LayerNorm.weight\", \"bert.encoder.layer.8.attention.output.LayerNorm.bias\", \"bert.encoder.layer.8.intermediate.dense.weight\", \"bert.encoder.layer.8.intermediate.dense.bias\", \"bert.encoder.layer.8.output.dense.weight\", \"bert.encoder.layer.8.output.dense.bias\", \"bert.encoder.layer.8.output.LayerNorm.weight\", \"bert.encoder.layer.8.output.LayerNorm.bias\", \"bert.encoder.layer.9.attention.self.query.weight\", \"bert.encoder.layer.9.attention.self.query.bias\", \"bert.encoder.layer.9.attention.self.key.weight\", \"bert.encoder.layer.9.attention.self.key.bias\", \"bert.encoder.layer.9.attention.self.value.weight\", \"bert.encoder.layer.9.attention.self.value.bias\", \"bert.encoder.layer.9.attention.output.dense.weight\", \"bert.encoder.layer.9.attention.output.dense.bias\", \"bert.encoder.layer.9.attention.output.LayerNorm.weight\", \"bert.encoder.layer.9.attention.output.LayerNorm.bias\", \"bert.encoder.layer.9.intermediate.dense.weight\", \"bert.encoder.layer.9.intermediate.dense.bias\", \"bert.encoder.layer.9.output.dense.weight\", \"bert.encoder.layer.9.output.dense.bias\", \"bert.encoder.layer.9.output.LayerNorm.weight\", \"bert.encoder.layer.9.output.LayerNorm.bias\", \"bert.encoder.layer.10.attention.self.query.weight\", \"bert.encoder.layer.10.attention.self.query.bias\", \"bert.encoder.layer.10.attention.self.key.weight\", \"bert.encoder.layer.10.attention.self.key.bias\", \"bert.encoder.layer.10.attention.self.value.weight\", \"bert.encoder.layer.10.attention.self.value.bias\", \"bert.encoder.layer.10.attention.output.dense.weight\", \"bert.encoder.layer.10.attention.output.dense.bias\", \"bert.encoder.layer.10.attention.output.LayerNorm.weight\", \"bert.encoder.layer.10.attention.output.LayerNorm.bias\", \"bert.encoder.layer.10.intermediate.dense.weight\", \"bert.encoder.layer.10.intermediate.dense.bias\", \"bert.encoder.layer.10.output.dense.weight\", \"bert.encoder.layer.10.output.dense.bias\", \"bert.encoder.layer.10.output.LayerNorm.weight\", \"bert.encoder.layer.10.output.LayerNorm.bias\", \"bert.encoder.layer.11.attention.self.query.weight\", \"bert.encoder.layer.11.attention.self.query.bias\", \"bert.encoder.layer.11.attention.self.key.weight\", \"bert.encoder.layer.11.attention.self.key.bias\", \"bert.encoder.layer.11.attention.self.value.weight\", \"bert.encoder.layer.11.attention.self.value.bias\", \"bert.encoder.layer.11.attention.output.dense.weight\", \"bert.encoder.layer.11.attention.output.dense.bias\", \"bert.encoder.layer.11.attention.output.LayerNorm.weight\", \"bert.encoder.layer.11.attention.output.LayerNorm.bias\", \"bert.encoder.layer.11.intermediate.dense.weight\", \"bert.encoder.layer.11.intermediate.dense.bias\", \"bert.encoder.layer.11.output.dense.weight\", \"bert.encoder.layer.11.output.dense.bias\", \"bert.encoder.layer.11.output.LayerNorm.weight\", \"bert.encoder.layer.11.output.LayerNorm.bias\", \"bert.pooler.dense.weight\", \"bert.pooler.dense.bias\". \n\tsize mismatch for lstm.weight_ih_l0: copying a param with shape torch.Size([512, 768]) from checkpoint, the shape in current model is torch.Size([512, 100]).\n\tsize mismatch for lstm.weight_ih_l0_reverse: copying a param with shape torch.Size([512, 768]) from checkpoint, the shape in current model is torch.Size([512, 100])."
     ]
    }
   ],
   "source": [
    "print('Word2Vec type testing...')\n",
    "testing(model_w2v,'best_w2v_model.pth', test_loader)\n",
    "print('GloVe type testing...')\n",
    "testing(model_glove,'best_glove_model.pth', test_loader)\n",
    "print('BERT type testing...')\n",
    "testing(model_glove,'best_bert_model.pth', test_loader)"
   ]
  },
  {
   "cell_type": "code",
   "execution_count": 30,
   "id": "ba5fd958-75a6-4168-b307-ab31d304842b",
   "metadata": {},
   "outputs": [
    {
     "name": "stdout",
     "output_type": "stream",
     "text": [
      "Word2Vec type training...\n",
      "Epoch 1/20\n",
      "Train Loss: 0.5276\n",
      "Best model saved!\n",
      "Epoch 2/20\n",
      "Train Loss: 0.2909\n",
      "Best model saved!\n",
      "Epoch 3/20\n",
      "Train Loss: 0.2681\n",
      "Epoch 4/20\n",
      "Train Loss: 0.2525\n",
      "Epoch 5/20\n",
      "Train Loss: 0.2382\n",
      "Best model saved!\n",
      "Epoch 6/20\n",
      "Train Loss: 0.2307\n",
      "Best model saved!\n",
      "Epoch 7/20\n",
      "Train Loss: 0.2201\n",
      "Epoch 8/20\n",
      "Train Loss: 0.2091\n",
      "Epoch 9/20\n",
      "Train Loss: 0.2025\n",
      "Epoch 10/20\n",
      "Train Loss: 0.1939\n",
      "Epoch 11/20\n",
      "Train Loss: 0.1823\n",
      "Epoch 12/20\n",
      "Train Loss: 0.1738\n",
      "Epoch 13/20\n",
      "Train Loss: 0.1635\n",
      "Epoch 14/20\n",
      "Train Loss: 0.1538\n",
      "Epoch 15/20\n",
      "Train Loss: 0.1477\n",
      "Epoch 16/20\n",
      "Train Loss: 0.1389\n",
      "Epoch 17/20\n",
      "Train Loss: 0.1295\n",
      "Epoch 18/20\n",
      "Train Loss: 0.1216\n",
      "Epoch 19/20\n",
      "Train Loss: 0.1134\n",
      "Epoch 20/20\n",
      "Train Loss: 0.1027\n",
      "Validation Report:\n",
      "              precision    recall  f1-score   support\n",
      "\n",
      "        I-LF       0.78      0.77      0.77       730\n",
      "           O       0.91      0.93      0.92      4460\n",
      "        B-LF       0.68      0.67      0.68       306\n",
      "        B-AC       0.78      0.65      0.71       508\n",
      "\n",
      "    accuracy                           0.87      6004\n",
      "   macro avg       0.79      0.76      0.77      6004\n",
      "weighted avg       0.87      0.87      0.87      6004\n",
      "\n",
      "GloVe type training...\n",
      "Epoch 1/20\n",
      "Train Loss: 0.5979\n",
      "Best model saved!\n",
      "Epoch 2/20\n",
      "Train Loss: 0.3417\n",
      "Best model saved!\n",
      "Epoch 3/20\n",
      "Train Loss: 0.2945\n",
      "Best model saved!\n",
      "Epoch 4/20\n",
      "Train Loss: 0.2612\n",
      "Epoch 5/20\n",
      "Train Loss: 0.2342\n",
      "Best model saved!\n",
      "Epoch 6/20\n",
      "Train Loss: 0.2098\n",
      "Epoch 7/20\n",
      "Train Loss: 0.1874\n",
      "Epoch 8/20\n",
      "Train Loss: 0.1634\n",
      "Epoch 9/20\n",
      "Train Loss: 0.1451\n",
      "Epoch 10/20\n",
      "Train Loss: 0.1299\n",
      "Epoch 11/20\n",
      "Train Loss: 0.1128\n",
      "Epoch 12/20\n",
      "Train Loss: 0.0993\n",
      "Epoch 13/20\n",
      "Train Loss: 0.0880\n",
      "Epoch 14/20\n",
      "Train Loss: 0.0745\n",
      "Epoch 15/20\n",
      "Train Loss: 0.0753\n",
      "Epoch 16/20\n",
      "Train Loss: 0.0604\n",
      "Epoch 17/20\n",
      "Train Loss: 0.0512\n",
      "Epoch 18/20\n",
      "Train Loss: 0.0442\n",
      "Epoch 19/20\n",
      "Train Loss: 0.0361\n",
      "Epoch 20/20\n",
      "Train Loss: 0.0345\n",
      "Validation Report:\n",
      "              precision    recall  f1-score   support\n",
      "\n",
      "        I-LF       0.80      0.71      0.75       730\n",
      "           O       0.90      0.94      0.92      4460\n",
      "        B-LF       0.64      0.62      0.63       306\n",
      "        B-AC       0.80      0.65      0.71       508\n",
      "\n",
      "    accuracy                           0.87      6004\n",
      "   macro avg       0.79      0.73      0.75      6004\n",
      "weighted avg       0.87      0.87      0.87      6004\n",
      "\n",
      "CPU times: total: 7min 24s\n",
      "Wall time: 7min 12s\n"
     ]
    }
   ],
   "source": [
    "%%time\n",
    "#Experiment 3, 4000 training datasets\n",
    "train_data_4000 = datasets.concatenate_datasets([train_data, train_data_ext.select(range(2000))])\n",
    "vocab_4000, word2id_4000 = build_vocab_id(train_data_4000)\n",
    "w2v_4000_model = Word2Vec(train_data_4000['tokens'], vector_size=Config.EMBEDDING_VEC, window=3, min_count=1, workers=4, epochs=50)\n",
    "embedding_w2v_4000_matrix = build_w2v_matrix(word2id, w2v_4000_model)\n",
    "embedding_glove_4000_matrix = build_glove_matrix(word2id_4000, glove_words, glove_vectors)\n",
    "\n",
    "train_4000_dataset = NER_Dataset(train_data_4000)\n",
    "train_4000_loader = DataLoader(train_4000_dataset, batch_size=Config.BATCH_SIZE, shuffle=True, collate_fn=collate_fn)\n",
    "\n",
    "#Word2Vec\n",
    "print('Word2Vec type training...')\n",
    "model_w2v = NER_Model('Word2Vec').to(Config.DEVICE)\n",
    "optimizer = optim.Adam(model_w2v.parameters(), lr=Config.LEARNING_RATE)\n",
    "criterion = nn.CrossEntropyLoss(ignore_index=ner_tag2id['<PAD>'])\n",
    "training(model_w2v,'best_w2v_model_4000.pth', train_4000_loader)\n",
    "\n",
    "#GloVe\n",
    "print('GloVe type training...')\n",
    "model_glove = NER_Model('GloVe').to(Config.DEVICE)\n",
    "optimizer = optim.Adam(model_glove.parameters(), lr=Config.LEARNING_RATE)\n",
    "criterion = nn.CrossEntropyLoss(ignore_index=ner_tag2id['<PAD>'])\n",
    "training(model_glove,'best_glove_model_4000.pth', train_4000_loader)"
   ]
  },
  {
   "cell_type": "code",
   "execution_count": 32,
   "id": "07563c2e-1682-46ff-870d-e9c1732bde5c",
   "metadata": {},
   "outputs": [
    {
     "name": "stdout",
     "output_type": "stream",
     "text": [
      "Word2Vec type testing...\n",
      "Final Test Report:\n",
      "              precision    recall  f1-score   support\n",
      "\n",
      "        I-LF       0.79      0.84      0.82      1227\n",
      "           O       0.93      0.95      0.94      7751\n",
      "        B-LF       0.74      0.71      0.73       482\n",
      "        B-AC       0.84      0.69      0.76       797\n",
      "\n",
      "    accuracy                           0.90     10257\n",
      "   macro avg       0.83      0.80      0.81     10257\n",
      "weighted avg       0.90      0.90      0.90     10257\n",
      "\n",
      "GloVe type testing...\n",
      "Final Test Report:\n",
      "              precision    recall  f1-score   support\n",
      "\n",
      "        I-LF       0.78      0.83      0.80      1227\n",
      "           O       0.93      0.95      0.94      7751\n",
      "        B-LF       0.71      0.73      0.72       482\n",
      "        B-AC       0.86      0.64      0.74       797\n",
      "\n",
      "    accuracy                           0.90     10257\n",
      "   macro avg       0.82      0.78      0.80     10257\n",
      "weighted avg       0.90      0.90      0.90     10257\n",
      "\n"
     ]
    }
   ],
   "source": [
    "print('Word2Vec type testing...')\n",
    "testing(model_w2v,'best_w2v_model_4000.pth', test_loader)\n",
    "print('GloVe type testing...')\n",
    "testing(model_glove,'best_glove_model_4000.pth', test_loader)"
   ]
  },
  {
   "cell_type": "code",
   "execution_count": 34,
   "id": "e6f16a99-b6b2-4a9b-9387-820324ea9783",
   "metadata": {},
   "outputs": [
    {
     "name": "stdout",
     "output_type": "stream",
     "text": [
      "Word2Vec type training...\n",
      "Epoch 1/20\n",
      "Train Loss: 0.5136\n",
      "Best model saved!\n",
      "Epoch 2/20\n",
      "Train Loss: 0.2947\n",
      "Epoch 3/20\n",
      "Train Loss: 0.2680\n",
      "Epoch 4/20\n",
      "Train Loss: 0.2527\n",
      "Best model saved!\n",
      "Epoch 5/20\n",
      "Train Loss: 0.2383\n",
      "Epoch 6/20\n",
      "Train Loss: 0.2280\n",
      "Epoch 7/20\n",
      "Train Loss: 0.2167\n",
      "Epoch 8/20\n",
      "Train Loss: 0.2083\n",
      "Epoch 9/20\n",
      "Train Loss: 0.2015\n",
      "Epoch 10/20\n",
      "Train Loss: 0.1897\n",
      "Epoch 11/20\n",
      "Train Loss: 0.1803\n",
      "Epoch 12/20\n",
      "Train Loss: 0.1703\n",
      "Epoch 13/20\n",
      "Train Loss: 0.1622\n",
      "Best model saved!\n",
      "Epoch 14/20\n",
      "Train Loss: 0.1539\n",
      "Epoch 15/20\n",
      "Train Loss: 0.1439\n",
      "Epoch 16/20\n",
      "Train Loss: 0.1351\n",
      "Epoch 17/20\n",
      "Train Loss: 0.1267\n",
      "Epoch 18/20\n",
      "Train Loss: 0.1187\n",
      "Epoch 19/20\n",
      "Train Loss: 0.1166\n",
      "Epoch 20/20\n",
      "Train Loss: 0.1053\n",
      "Validation Report:\n",
      "              precision    recall  f1-score   support\n",
      "\n",
      "        I-LF       0.80      0.78      0.79       730\n",
      "           O       0.91      0.94      0.92      4460\n",
      "        B-LF       0.69      0.67      0.68       306\n",
      "        B-AC       0.78      0.58      0.67       508\n",
      "\n",
      "    accuracy                           0.88      6004\n",
      "   macro avg       0.79      0.74      0.76      6004\n",
      "weighted avg       0.87      0.88      0.87      6004\n",
      "\n",
      "GloVe type training...\n",
      "Epoch 1/20\n",
      "Train Loss: 0.5824\n",
      "Best model saved!\n",
      "Epoch 2/20\n",
      "Train Loss: 0.3391\n",
      "Best model saved!\n",
      "Epoch 3/20\n",
      "Train Loss: 0.2931\n",
      "Best model saved!\n",
      "Epoch 4/20\n",
      "Train Loss: 0.2624\n",
      "Epoch 5/20\n",
      "Train Loss: 0.2313\n",
      "Epoch 6/20\n",
      "Train Loss: 0.2065\n",
      "Best model saved!\n",
      "Epoch 7/20\n",
      "Train Loss: 0.1797\n",
      "Epoch 8/20\n",
      "Train Loss: 0.1611\n",
      "Epoch 9/20\n",
      "Train Loss: 0.1409\n",
      "Epoch 10/20\n",
      "Train Loss: 0.1240\n",
      "Epoch 11/20\n",
      "Train Loss: 0.1066\n",
      "Epoch 12/20\n",
      "Train Loss: 0.0923\n",
      "Epoch 13/20\n",
      "Train Loss: 0.0836\n",
      "Epoch 14/20\n",
      "Train Loss: 0.0740\n",
      "Epoch 15/20\n",
      "Train Loss: 0.0656\n",
      "Epoch 16/20\n",
      "Train Loss: 0.0570\n",
      "Epoch 17/20\n",
      "Train Loss: 0.0482\n",
      "Epoch 18/20\n",
      "Train Loss: 0.0399\n",
      "Epoch 19/20\n",
      "Train Loss: 0.0362\n",
      "Epoch 20/20\n",
      "Train Loss: 0.0348\n",
      "Validation Report:\n",
      "              precision    recall  f1-score   support\n",
      "\n",
      "        I-LF       0.76      0.77      0.76       730\n",
      "           O       0.92      0.93      0.92      4460\n",
      "        B-LF       0.64      0.67      0.65       306\n",
      "        B-AC       0.78      0.66      0.71       508\n",
      "\n",
      "    accuracy                           0.87      6004\n",
      "   macro avg       0.77      0.76      0.76      6004\n",
      "weighted avg       0.87      0.87      0.87      6004\n",
      "\n",
      "CPU times: total: 7min 24s\n",
      "Wall time: 7min 11s\n"
     ]
    }
   ],
   "source": [
    "%%time\n",
    "#Experiment 3, 8000 training datasets\n",
    "train_data_8000 = datasets.concatenate_datasets([train_data, train_data_ext.select(range(2000))])\n",
    "vocab_8000, word2id_8000 = build_vocab_id(train_data_8000)\n",
    "w2v_8000_model = Word2Vec(train_data_8000['tokens'], vector_size=Config.EMBEDDING_VEC, window=3, min_count=1, workers=4, epochs=50)\n",
    "embedding_w2v_8000_matrix = build_w2v_matrix(word2id, w2v_8000_model)\n",
    "embedding_glove_8000_matrix = build_glove_matrix(word2id_8000, glove_words, glove_vectors)\n",
    "\n",
    "train_8000_dataset = NER_Dataset(train_data_8000)\n",
    "train_8000_loader = DataLoader(train_8000_dataset, batch_size=Config.BATCH_SIZE, shuffle=True, collate_fn=collate_fn)\n",
    "\n",
    "#Word2Vec\n",
    "print('Word2Vec type training...')\n",
    "model_w2v = NER_Model('Word2Vec').to(Config.DEVICE)\n",
    "optimizer = optim.Adam(model_w2v.parameters(), lr=Config.LEARNING_RATE)\n",
    "criterion = nn.CrossEntropyLoss(ignore_index=ner_tag2id['<PAD>'])\n",
    "training(model_w2v,'best_w2v_model_8000.pth', train_8000_loader)\n",
    "\n",
    "#GloVe\n",
    "print('GloVe type training...')\n",
    "model_glove = NER_Model('GloVe').to(Config.DEVICE)\n",
    "optimizer = optim.Adam(model_glove.parameters(), lr=Config.LEARNING_RATE)\n",
    "criterion = nn.CrossEntropyLoss(ignore_index=ner_tag2id['<PAD>'])\n",
    "training(model_glove,'best_glove_model_8000.pth', train_8000_loader)"
   ]
  },
  {
   "cell_type": "code",
   "execution_count": 36,
   "id": "986bb998-dd83-4243-b7ce-bbaf104274dc",
   "metadata": {},
   "outputs": [
    {
     "name": "stdout",
     "output_type": "stream",
     "text": [
      "Word2Vec type testing...\n",
      "Final Test Report:\n",
      "              precision    recall  f1-score   support\n",
      "\n",
      "        I-LF       0.80      0.79      0.80      1227\n",
      "           O       0.93      0.95      0.94      7751\n",
      "        B-LF       0.76      0.72      0.74       482\n",
      "        B-AC       0.85      0.68      0.75       797\n",
      "\n",
      "    accuracy                           0.90     10257\n",
      "   macro avg       0.83      0.79      0.81     10257\n",
      "weighted avg       0.90      0.90      0.90     10257\n",
      "\n",
      "GloVe type testing...\n",
      "Final Test Report:\n",
      "              precision    recall  f1-score   support\n",
      "\n",
      "        I-LF       0.79      0.81      0.80      1227\n",
      "           O       0.93      0.95      0.94      7751\n",
      "        B-LF       0.73      0.72      0.72       482\n",
      "        B-AC       0.83      0.69      0.75       797\n",
      "\n",
      "    accuracy                           0.90     10257\n",
      "   macro avg       0.82      0.79      0.80     10257\n",
      "weighted avg       0.90      0.90      0.90     10257\n",
      "\n"
     ]
    }
   ],
   "source": [
    "print('Word2Vec type testing...')\n",
    "testing(model_w2v,'best_w2v_model_8000.pth', test_loader)\n",
    "print('GloVe type testing...')\n",
    "testing(model_glove,'best_glove_model_8000.pth', test_loader)"
   ]
  },
  {
   "cell_type": "code",
   "execution_count": null,
   "id": "2df04acc-6585-4f7d-af16-ebec2a49e04a",
   "metadata": {},
   "outputs": [],
   "source": []
  }
 ],
 "metadata": {
  "kernelspec": {
   "display_name": "Python [conda env:base] *",
   "language": "python",
   "name": "conda-base-py"
  },
  "language_info": {
   "codemirror_mode": {
    "name": "ipython",
    "version": 3
   },
   "file_extension": ".py",
   "mimetype": "text/x-python",
   "name": "python",
   "nbconvert_exporter": "python",
   "pygments_lexer": "ipython3",
   "version": "3.12.7"
  }
 },
 "nbformat": 4,
 "nbformat_minor": 5
}
